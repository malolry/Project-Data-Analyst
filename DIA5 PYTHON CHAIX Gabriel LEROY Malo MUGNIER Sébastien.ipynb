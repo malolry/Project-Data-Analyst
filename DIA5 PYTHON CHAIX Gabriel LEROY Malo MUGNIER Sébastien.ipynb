{
 "cells": [
  {
   "cell_type": "code",
   "execution_count": 1,
   "metadata": {
    "scrolled": false
   },
   "outputs": [
    {
     "data": {
      "text/html": [
       "<div style=\"text-align: center;\"><img src=\"imageillustration.png\" alt=\"Image\"></div>"
      ],
      "text/plain": [
       "<IPython.core.display.HTML object>"
      ]
     },
     "execution_count": 1,
     "metadata": {},
     "output_type": "execute_result"
    }
   ],
   "source": [
    "from IPython.display import HTML\n",
    "HTML('<div style=\"text-align: center;\"><img src=\"imageillustration.png\" alt=\"Image\"></div>')"
   ]
  },
  {
   "cell_type": "markdown",
   "metadata": {
    "id": "AurAfpPGxjNf"
   },
   "source": [
    "<html>\n",
    "<head>\n",
    "    <title>Sommaire</title>\n",
    "    <style>\n",
    "        .section {\n",
    "            border: 1px solid #cccccc;\n",
    "            padding: 10px;\n",
    "            margin: 10px 0;\n",
    "        }\n",
    "    </style>\n",
    "</head>\n",
    "<body>\n",
    "\n",
    "<div id=\"sommaire\" style=\"background-color: #CCCCFF; text-align: center; border: 2px solid #289C4E; border-radius: 10px; padding: 20px 10px; margin: 10px; font-family: 'Candara', sans-serif; font-weight: bold;\">\n",
    "    <h2 style=\"color:289C4E; text-decoration: underline; margin: 0; padding: 0; text-shadow: 1px 1px 1px black; font-size: larger;\">Sommaire</h2>\n",
    "    <div style=\"text-align: center; margin-top: 20px; font-size: larger;\">\n",
    "        <a href=\"#1\" style=\"color: green; text-decoration: none; text-shadow: 1px 1px 1px black; font-size: larger;\">📇 1. Data pre-processing 📇</a><br>\n",
    "        <a href=\"#2\" style=\"color: red; text-decoration: none; text-shadow: 1px 1px 1px black; font-size: larger;\">📊 2. Data visualization 📊</a><br>\n",
    "        <a href=\"#3\" style=\"color: blue; text-decoration: none; text-shadow: 1px 1px 1px black; font-size: larger;\">📐 3. Modeling 📐</a>\n",
    "    </div>\n",
    "</div>\n",
    "\n",
    "</body>\n",
    "</html>\n"
   ]
  },
  {
   "cell_type": "markdown",
   "metadata": {},
   "source": []
  },
  {
   "cell_type": "markdown",
   "metadata": {},
   "source": []
  },
  {
   "cell_type": "markdown",
   "metadata": {
    "id": "aG6MV29pz9QB"
   },
   "source": [
    "> **Diabetes 130-US hospitals for years 1999-2008**\n",
    "---\n"
   ]
  },
  {
   "cell_type": "markdown",
   "metadata": {},
   "source": []
  },
  {
   "cell_type": "markdown",
   "metadata": {},
   "source": []
  },
  {
   "cell_type": "markdown",
   "metadata": {
    "id": "LuaCRm8o0JfD"
   },
   "source": [
    "<style>\n",
    ".now-font {\n",
    "    font-family: 'Now', sans-serif;\n",
    "}\n",
    "</style>\n",
    "\n",
    "<div class=\"now-font\">\n",
    "    <u><h2>Dataset</h2></u>\n",
    "\n",
    "   <br>\n",
    "   <br>\n",
    "   <b>What do the instances in this dataset represent? </b><br>\n",
    "    The instances represent hospitalized patient records diagnosed with diabetes.<br>\n",
    "\n",
    "   <br>\n",
    "   <br>\n",
    "   <b> Are there recommended data splits? </b>\n",
    "    <br>\n",
    "    No recommendation. The standard train-test split could be used. Can use three-way holdout split (i.e., train-validation-  test) when doing model selection.<br><br>\n",
    "    \n",
    "   <b>Does the dataset contain data that might be considered <span style=\"color:red;\">sensitive</span> in any way?</b><br>\n",
    "    Yes. The dataset contains information about the age, gender, and race of the patients.<br><br>\n",
    "    \n",
    "   <b>Additional Information :</b><br>\n",
    "    The dataset represents ten years (1999-2008) of clinical care at 130 US hospitals and integrated delivery networks. It includes over 50 features representing patient and hospital outcomes. Information was extracted from the database for encounters that satisfied the following criteria.<br>\n",
    "    (1) It is an inpatient encounter (a hospital admission).<br>\n",
    "    (2) It is a diabetic encounter, that is, one during which any kind of diabetes was entered into the system as a diagnosis.<br>\n",
    "    (3) The length of stay was at least 1 day and at most 14 days.<br>\n",
    "    (4) Laboratory tests were performed during the encounter.<br>\n",
    "    (5) Medications were administered during the encounter.<br>\n",
    "    <br>\n",
    "    The data contains such attributes as patient number, race, gender, age, admission type, time in hospital, medical specialty of admitting physician, number of lab tests performed, HbA1c test result, diagnosis, number of medications, diabetic medications, number of outpatient, inpatient, and emergency visits in the year before the hospitalization, etc.\n",
    "</div>\n",
    "\n",
    "<br>\n",
    "<br>\n"
   ]
  },
  {
   "cell_type": "markdown",
   "metadata": {
    "id": "y7SGf1BdxtL2"
   },
   "source": [
    "<div class=\"alert alert-block alert-success\" style=\"text-align: center; font-size: 30px; font-weight: bold;\">  \n",
    "   <a class='anchor' id='1'></a>\n",
    "   📇 1. Data Pre-Processing 📇\n",
    "</div>"
   ]
  },
  {
   "cell_type": "markdown",
   "metadata": {},
   "source": [
    "<div style=\"background-color: #289C4E; padding: 10px; border-radius: 5px; text-align: center;\">\n",
    "    <a href=\"#sommaire\" style=\"text-decoration: none; color: white; font-size: 18px; font-weight: bold;\">\n",
    "        🚀 Retour au sommaire 🚀\n",
    "    </a>\n",
    "</div>"
   ]
  },
  {
   "cell_type": "markdown",
   "metadata": {
    "id": "wUN1Xvoe1Agn"
   },
   "source": [
    "<div style=\"background-color: #E0F0D7; padding: 10px; border-radius: 5px;\">\n",
    "\n",
    "   <b><h3>· Importation</h3></b>\n",
    "\n",
    "</div>"
   ]
  },
  {
   "cell_type": "code",
   "execution_count": null,
   "metadata": {
    "id": "EapgQeCbpH2d"
   },
   "outputs": [],
   "source": [
    "import pandas as pd\n",
    "import numpy as np\n",
    "import matplotlib.pyplot as plt\n",
    "import seaborn as sns\n",
    "\n",
    "colors = ['lightseagreen', 'teal', 'darkslategrey']"
   ]
  },
  {
   "cell_type": "code",
   "execution_count": null,
   "metadata": {
    "colab": {
     "base_uri": "https://localhost:8080/"
    },
    "id": "IQ8t1NXaXNAH",
    "outputId": "b4c67937-b497-4fb4-d401-2506d409d0de"
   },
   "outputs": [
    {
     "name": "stdout",
     "output_type": "stream",
     "text": [
      "Drive already mounted at /content/drive; to attempt to forcibly remount, call drive.mount(\"/content/drive\", force_remount=True).\n"
     ]
    }
   ],
   "source": [
    "from google.colab import drive\n",
    "drive.mount('/content/drive')\n",
    "\n",
    "zip_file_path = '/content/drive/MyDrive/diabetes+130-us+hospitals+for+years+1999-2008.zip'"
   ]
  },
  {
   "cell_type": "code",
   "execution_count": null,
   "metadata": {
    "id": "HgVxNBauX6u_"
   },
   "outputs": [],
   "source": [
    "import zipfile\n",
    "\n",
    "with zipfile.ZipFile(zip_file_path, 'r') as zip_ref:\n",
    "    zip_ref.extractall()"
   ]
  },
  {
   "cell_type": "code",
   "execution_count": null,
   "metadata": {
    "id": "4vHN29fkmBp7"
   },
   "outputs": [],
   "source": [
    "df = pd.read_csv(\"./diabetic_data.csv\")\n",
    "dfc = df.copy()"
   ]
  },
  {
   "cell_type": "markdown",
   "metadata": {
    "id": "-8aDIcQ8jYU8"
   },
   "source": [
    "<div style=\"background-color: #E0F0D7; padding: 10px; border-radius: 5px;\">\n",
    "\n",
    "Now let's have a look on every columns :<br><br>\n",
    "\n",
    "\n",
    "* <b> encounter_id </b> : id of the patient encounter for each visit <br><br>\n",
    "* <b>patient_nbr </b>: id of the patient<br><br>\n",
    "* <b>  race </b>: Race of the patient (String)<br><br>\n",
    "  1.   Caucasian<br>\n",
    "  2.   AfricanAmerican<br>\n",
    "  3.   Hispanic<br>\n",
    "  4.   Asian<br>\n",
    "  5.   Other<br><br>\n",
    "* <b>  gender </b>: gender of the patient (String)<br><br>\n",
    "  1.   Female<br>\n",
    "  2.   Male<br>\n",
    "  3.   Unknown/Invalid<br><br>\n",
    "* <b>  age </b>: age range of the patient ([0-10), [10,20)...)<br><br>\n",
    "* <b>  weight </b>: weight of the patient by ranges<br><br>\n",
    "* <b>  admission_type_id </b>: id of the type of admission (emergency, urgent, ...) - int in [1,8]<br><br>\n",
    "* <b>  discharge_disposition_id </b>: id of the place the patient was discharged to (discharged to home, other) - int in [1,27]<br><br>\n",
    "* <b>  admission_source_id </b>: means of admission into hospital (emergency, referral...) int in [1,25]<br><br>\n",
    "* <b>  time_in_hospital </b>: int number of days between admission and discharge<br><br>\n",
    "* <b>  medical_specialty </b>: specialty of the admitting physician (cardiology, orthopedics...) (String)<br><br>\n",
    "* <b>  num_lab_procedures </b>: number of lab tests performed during encounter (int)<br><br>\n",
    "* <b>  num_procedures </b>: number of medical procedures performed during encounter (int)<br><br>\n",
    "* <b>  num_medications </b>: number of distinct generic names administered during the encounter (int)<br><br>\n",
    "* <b>  number_outpatient </b>: number of outpatient visits of the patient in the year preceding the encounter (int)<br><br>\n",
    "* <b>  number_emergency </b>: number of emergency visits of the patient in the year preceding the encounter (int)<br><br>\n",
    "* <b>  number_inpatient </b>: number of inpatient visits of the patient in the year preceding the encounter (int)<br><br>\n",
    "* <b>  diag_1, diag_2, diag_3 </b>: primary, secondary and additional diagnoses of the patient (int)<br><br>\n",
    "* <b>  number_diagnoses </b>: number of diagnoses (int)<br><br>\n",
    "* <b>  max_glu_serum </b>: Indicates the range of the result in mg/dL or if the Glucose serum test was not taken<br><br>\n",
    "  1. \">200\"<br>\n",
    "  2. \">300\"<br>\n",
    "  3. Norm (indicating normal)<br>\n",
    "  4. None<br><br>\n",
    "* <b>  A1Cresult </b>: Indicates the range of the result in percentages or if the A1c test was not taken<br><br>\n",
    "  1. \">7\" (greater than 7%, but less than 8%)<br>\n",
    "  2. \">8\" (greater than 8%)<br>\n",
    "  3. Norm (indicating normal, which is less than 7%)<br>\n",
    "  4. None<br><br>\n",
    "* <b>  17 Medication columns </b>: Indicate whether the drug was prescribed or there was a change in the dosage (String)<br><br>\n",
    "  1. No<br>\n",
    "  2. Steady<br>\n",
    "  3. Down<br>\n",
    "  4. Up<br><br>\n",
    "* <b>  change </b>: Indicates if there was a change in diabetic medications (String)<br><br>\n",
    "  1. Ch (change)<br>\n",
    "  2. No (no change)<br><br>\n",
    "* <b>  diabetesMed </b>: Binary attribute indicating whether there was any diabetic medication prescribed<br><br>\n",
    "  1. No<br>\n",
    "  2. Yes<br><br>\n",
    "* <b>  readmitted </b>: Attribute indicating whether the patient was readmitted and when. Can also be used as a target variable:<br><br>\n",
    "  1. NO<br>\n",
    "  2. \">30\" (readmitted in more than 30 days)<br>\n",
    "  3. \"<30\" (readmitted in less than 30 days)<br><br>\n",
    "  \n",
    "    \n",
    "</div>"
   ]
  },
  {
   "cell_type": "code",
   "execution_count": null,
   "metadata": {
    "colab": {
     "base_uri": "https://localhost:8080/",
     "height": 1000
    },
    "id": "5hTAMb_enUEK",
    "outputId": "a6d0ba8e-3c42-4cae-d184-f542cb052d8c"
   },
   "outputs": [
    {
     "data": {
      "text/html": [
       "\n",
       "  <div id=\"df-6f6db8d5-1167-4df6-b948-d09dd1242c82\" class=\"colab-df-container\">\n",
       "    <div>\n",
       "<style scoped>\n",
       "    .dataframe tbody tr th:only-of-type {\n",
       "        vertical-align: middle;\n",
       "    }\n",
       "\n",
       "    .dataframe tbody tr th {\n",
       "        vertical-align: top;\n",
       "    }\n",
       "\n",
       "    .dataframe thead th {\n",
       "        text-align: right;\n",
       "    }\n",
       "</style>\n",
       "<table border=\"1\" class=\"dataframe\">\n",
       "  <thead>\n",
       "    <tr style=\"text-align: right;\">\n",
       "      <th></th>\n",
       "      <th>0</th>\n",
       "      <th>1</th>\n",
       "      <th>2</th>\n",
       "      <th>3</th>\n",
       "      <th>4</th>\n",
       "      <th>5</th>\n",
       "      <th>6</th>\n",
       "      <th>7</th>\n",
       "      <th>8</th>\n",
       "      <th>9</th>\n",
       "    </tr>\n",
       "  </thead>\n",
       "  <tbody>\n",
       "    <tr>\n",
       "      <th>encounter_id</th>\n",
       "      <td>2278392</td>\n",
       "      <td>149190</td>\n",
       "      <td>64410</td>\n",
       "      <td>500364</td>\n",
       "      <td>16680</td>\n",
       "      <td>35754</td>\n",
       "      <td>55842</td>\n",
       "      <td>63768</td>\n",
       "      <td>12522</td>\n",
       "      <td>15738</td>\n",
       "    </tr>\n",
       "    <tr>\n",
       "      <th>patient_nbr</th>\n",
       "      <td>8222157</td>\n",
       "      <td>55629189</td>\n",
       "      <td>86047875</td>\n",
       "      <td>82442376</td>\n",
       "      <td>42519267</td>\n",
       "      <td>82637451</td>\n",
       "      <td>84259809</td>\n",
       "      <td>114882984</td>\n",
       "      <td>48330783</td>\n",
       "      <td>63555939</td>\n",
       "    </tr>\n",
       "    <tr>\n",
       "      <th>race</th>\n",
       "      <td>Caucasian</td>\n",
       "      <td>Caucasian</td>\n",
       "      <td>AfricanAmerican</td>\n",
       "      <td>Caucasian</td>\n",
       "      <td>Caucasian</td>\n",
       "      <td>Caucasian</td>\n",
       "      <td>Caucasian</td>\n",
       "      <td>Caucasian</td>\n",
       "      <td>Caucasian</td>\n",
       "      <td>Caucasian</td>\n",
       "    </tr>\n",
       "    <tr>\n",
       "      <th>gender</th>\n",
       "      <td>Female</td>\n",
       "      <td>Female</td>\n",
       "      <td>Female</td>\n",
       "      <td>Male</td>\n",
       "      <td>Male</td>\n",
       "      <td>Male</td>\n",
       "      <td>Male</td>\n",
       "      <td>Male</td>\n",
       "      <td>Female</td>\n",
       "      <td>Female</td>\n",
       "    </tr>\n",
       "    <tr>\n",
       "      <th>age</th>\n",
       "      <td>[0-10)</td>\n",
       "      <td>[10-20)</td>\n",
       "      <td>[20-30)</td>\n",
       "      <td>[30-40)</td>\n",
       "      <td>[40-50)</td>\n",
       "      <td>[50-60)</td>\n",
       "      <td>[60-70)</td>\n",
       "      <td>[70-80)</td>\n",
       "      <td>[80-90)</td>\n",
       "      <td>[90-100)</td>\n",
       "    </tr>\n",
       "    <tr>\n",
       "      <th>weight</th>\n",
       "      <td>?</td>\n",
       "      <td>?</td>\n",
       "      <td>?</td>\n",
       "      <td>?</td>\n",
       "      <td>?</td>\n",
       "      <td>?</td>\n",
       "      <td>?</td>\n",
       "      <td>?</td>\n",
       "      <td>?</td>\n",
       "      <td>?</td>\n",
       "    </tr>\n",
       "    <tr>\n",
       "      <th>admission_type_id</th>\n",
       "      <td>6</td>\n",
       "      <td>1</td>\n",
       "      <td>1</td>\n",
       "      <td>1</td>\n",
       "      <td>1</td>\n",
       "      <td>2</td>\n",
       "      <td>3</td>\n",
       "      <td>1</td>\n",
       "      <td>2</td>\n",
       "      <td>3</td>\n",
       "    </tr>\n",
       "    <tr>\n",
       "      <th>discharge_disposition_id</th>\n",
       "      <td>25</td>\n",
       "      <td>1</td>\n",
       "      <td>1</td>\n",
       "      <td>1</td>\n",
       "      <td>1</td>\n",
       "      <td>1</td>\n",
       "      <td>1</td>\n",
       "      <td>1</td>\n",
       "      <td>1</td>\n",
       "      <td>3</td>\n",
       "    </tr>\n",
       "    <tr>\n",
       "      <th>admission_source_id</th>\n",
       "      <td>1</td>\n",
       "      <td>7</td>\n",
       "      <td>7</td>\n",
       "      <td>7</td>\n",
       "      <td>7</td>\n",
       "      <td>2</td>\n",
       "      <td>2</td>\n",
       "      <td>7</td>\n",
       "      <td>4</td>\n",
       "      <td>4</td>\n",
       "    </tr>\n",
       "    <tr>\n",
       "      <th>time_in_hospital</th>\n",
       "      <td>1</td>\n",
       "      <td>3</td>\n",
       "      <td>2</td>\n",
       "      <td>2</td>\n",
       "      <td>1</td>\n",
       "      <td>3</td>\n",
       "      <td>4</td>\n",
       "      <td>5</td>\n",
       "      <td>13</td>\n",
       "      <td>12</td>\n",
       "    </tr>\n",
       "    <tr>\n",
       "      <th>payer_code</th>\n",
       "      <td>?</td>\n",
       "      <td>?</td>\n",
       "      <td>?</td>\n",
       "      <td>?</td>\n",
       "      <td>?</td>\n",
       "      <td>?</td>\n",
       "      <td>?</td>\n",
       "      <td>?</td>\n",
       "      <td>?</td>\n",
       "      <td>?</td>\n",
       "    </tr>\n",
       "    <tr>\n",
       "      <th>medical_specialty</th>\n",
       "      <td>Pediatrics-Endocrinology</td>\n",
       "      <td>?</td>\n",
       "      <td>?</td>\n",
       "      <td>?</td>\n",
       "      <td>?</td>\n",
       "      <td>?</td>\n",
       "      <td>?</td>\n",
       "      <td>?</td>\n",
       "      <td>?</td>\n",
       "      <td>InternalMedicine</td>\n",
       "    </tr>\n",
       "    <tr>\n",
       "      <th>num_lab_procedures</th>\n",
       "      <td>41</td>\n",
       "      <td>59</td>\n",
       "      <td>11</td>\n",
       "      <td>44</td>\n",
       "      <td>51</td>\n",
       "      <td>31</td>\n",
       "      <td>70</td>\n",
       "      <td>73</td>\n",
       "      <td>68</td>\n",
       "      <td>33</td>\n",
       "    </tr>\n",
       "    <tr>\n",
       "      <th>num_procedures</th>\n",
       "      <td>0</td>\n",
       "      <td>0</td>\n",
       "      <td>5</td>\n",
       "      <td>1</td>\n",
       "      <td>0</td>\n",
       "      <td>6</td>\n",
       "      <td>1</td>\n",
       "      <td>0</td>\n",
       "      <td>2</td>\n",
       "      <td>3</td>\n",
       "    </tr>\n",
       "    <tr>\n",
       "      <th>num_medications</th>\n",
       "      <td>1</td>\n",
       "      <td>18</td>\n",
       "      <td>13</td>\n",
       "      <td>16</td>\n",
       "      <td>8</td>\n",
       "      <td>16</td>\n",
       "      <td>21</td>\n",
       "      <td>12</td>\n",
       "      <td>28</td>\n",
       "      <td>18</td>\n",
       "    </tr>\n",
       "    <tr>\n",
       "      <th>number_outpatient</th>\n",
       "      <td>0</td>\n",
       "      <td>0</td>\n",
       "      <td>2</td>\n",
       "      <td>0</td>\n",
       "      <td>0</td>\n",
       "      <td>0</td>\n",
       "      <td>0</td>\n",
       "      <td>0</td>\n",
       "      <td>0</td>\n",
       "      <td>0</td>\n",
       "    </tr>\n",
       "    <tr>\n",
       "      <th>number_emergency</th>\n",
       "      <td>0</td>\n",
       "      <td>0</td>\n",
       "      <td>0</td>\n",
       "      <td>0</td>\n",
       "      <td>0</td>\n",
       "      <td>0</td>\n",
       "      <td>0</td>\n",
       "      <td>0</td>\n",
       "      <td>0</td>\n",
       "      <td>0</td>\n",
       "    </tr>\n",
       "    <tr>\n",
       "      <th>number_inpatient</th>\n",
       "      <td>0</td>\n",
       "      <td>0</td>\n",
       "      <td>1</td>\n",
       "      <td>0</td>\n",
       "      <td>0</td>\n",
       "      <td>0</td>\n",
       "      <td>0</td>\n",
       "      <td>0</td>\n",
       "      <td>0</td>\n",
       "      <td>0</td>\n",
       "    </tr>\n",
       "    <tr>\n",
       "      <th>diag_1</th>\n",
       "      <td>250.83</td>\n",
       "      <td>276</td>\n",
       "      <td>648</td>\n",
       "      <td>8</td>\n",
       "      <td>197</td>\n",
       "      <td>414</td>\n",
       "      <td>414</td>\n",
       "      <td>428</td>\n",
       "      <td>398</td>\n",
       "      <td>434</td>\n",
       "    </tr>\n",
       "    <tr>\n",
       "      <th>diag_2</th>\n",
       "      <td>?</td>\n",
       "      <td>250.01</td>\n",
       "      <td>250</td>\n",
       "      <td>250.43</td>\n",
       "      <td>157</td>\n",
       "      <td>411</td>\n",
       "      <td>411</td>\n",
       "      <td>492</td>\n",
       "      <td>427</td>\n",
       "      <td>198</td>\n",
       "    </tr>\n",
       "    <tr>\n",
       "      <th>diag_3</th>\n",
       "      <td>?</td>\n",
       "      <td>255</td>\n",
       "      <td>V27</td>\n",
       "      <td>403</td>\n",
       "      <td>250</td>\n",
       "      <td>250</td>\n",
       "      <td>V45</td>\n",
       "      <td>250</td>\n",
       "      <td>38</td>\n",
       "      <td>486</td>\n",
       "    </tr>\n",
       "    <tr>\n",
       "      <th>number_diagnoses</th>\n",
       "      <td>1</td>\n",
       "      <td>9</td>\n",
       "      <td>6</td>\n",
       "      <td>7</td>\n",
       "      <td>5</td>\n",
       "      <td>9</td>\n",
       "      <td>7</td>\n",
       "      <td>8</td>\n",
       "      <td>8</td>\n",
       "      <td>8</td>\n",
       "    </tr>\n",
       "    <tr>\n",
       "      <th>max_glu_serum</th>\n",
       "      <td>None</td>\n",
       "      <td>None</td>\n",
       "      <td>None</td>\n",
       "      <td>None</td>\n",
       "      <td>None</td>\n",
       "      <td>None</td>\n",
       "      <td>None</td>\n",
       "      <td>None</td>\n",
       "      <td>None</td>\n",
       "      <td>None</td>\n",
       "    </tr>\n",
       "    <tr>\n",
       "      <th>A1Cresult</th>\n",
       "      <td>None</td>\n",
       "      <td>None</td>\n",
       "      <td>None</td>\n",
       "      <td>None</td>\n",
       "      <td>None</td>\n",
       "      <td>None</td>\n",
       "      <td>None</td>\n",
       "      <td>None</td>\n",
       "      <td>None</td>\n",
       "      <td>None</td>\n",
       "    </tr>\n",
       "    <tr>\n",
       "      <th>metformin</th>\n",
       "      <td>No</td>\n",
       "      <td>No</td>\n",
       "      <td>No</td>\n",
       "      <td>No</td>\n",
       "      <td>No</td>\n",
       "      <td>No</td>\n",
       "      <td>Steady</td>\n",
       "      <td>No</td>\n",
       "      <td>No</td>\n",
       "      <td>No</td>\n",
       "    </tr>\n",
       "    <tr>\n",
       "      <th>repaglinide</th>\n",
       "      <td>No</td>\n",
       "      <td>No</td>\n",
       "      <td>No</td>\n",
       "      <td>No</td>\n",
       "      <td>No</td>\n",
       "      <td>No</td>\n",
       "      <td>No</td>\n",
       "      <td>No</td>\n",
       "      <td>No</td>\n",
       "      <td>No</td>\n",
       "    </tr>\n",
       "    <tr>\n",
       "      <th>nateglinide</th>\n",
       "      <td>No</td>\n",
       "      <td>No</td>\n",
       "      <td>No</td>\n",
       "      <td>No</td>\n",
       "      <td>No</td>\n",
       "      <td>No</td>\n",
       "      <td>No</td>\n",
       "      <td>No</td>\n",
       "      <td>No</td>\n",
       "      <td>No</td>\n",
       "    </tr>\n",
       "    <tr>\n",
       "      <th>chlorpropamide</th>\n",
       "      <td>No</td>\n",
       "      <td>No</td>\n",
       "      <td>No</td>\n",
       "      <td>No</td>\n",
       "      <td>No</td>\n",
       "      <td>No</td>\n",
       "      <td>No</td>\n",
       "      <td>No</td>\n",
       "      <td>No</td>\n",
       "      <td>No</td>\n",
       "    </tr>\n",
       "    <tr>\n",
       "      <th>glimepiride</th>\n",
       "      <td>No</td>\n",
       "      <td>No</td>\n",
       "      <td>No</td>\n",
       "      <td>No</td>\n",
       "      <td>No</td>\n",
       "      <td>No</td>\n",
       "      <td>Steady</td>\n",
       "      <td>No</td>\n",
       "      <td>No</td>\n",
       "      <td>No</td>\n",
       "    </tr>\n",
       "    <tr>\n",
       "      <th>acetohexamide</th>\n",
       "      <td>No</td>\n",
       "      <td>No</td>\n",
       "      <td>No</td>\n",
       "      <td>No</td>\n",
       "      <td>No</td>\n",
       "      <td>No</td>\n",
       "      <td>No</td>\n",
       "      <td>No</td>\n",
       "      <td>No</td>\n",
       "      <td>No</td>\n",
       "    </tr>\n",
       "    <tr>\n",
       "      <th>glipizide</th>\n",
       "      <td>No</td>\n",
       "      <td>No</td>\n",
       "      <td>Steady</td>\n",
       "      <td>No</td>\n",
       "      <td>Steady</td>\n",
       "      <td>No</td>\n",
       "      <td>No</td>\n",
       "      <td>No</td>\n",
       "      <td>Steady</td>\n",
       "      <td>No</td>\n",
       "    </tr>\n",
       "    <tr>\n",
       "      <th>glyburide</th>\n",
       "      <td>No</td>\n",
       "      <td>No</td>\n",
       "      <td>No</td>\n",
       "      <td>No</td>\n",
       "      <td>No</td>\n",
       "      <td>No</td>\n",
       "      <td>No</td>\n",
       "      <td>Steady</td>\n",
       "      <td>No</td>\n",
       "      <td>No</td>\n",
       "    </tr>\n",
       "    <tr>\n",
       "      <th>tolbutamide</th>\n",
       "      <td>No</td>\n",
       "      <td>No</td>\n",
       "      <td>No</td>\n",
       "      <td>No</td>\n",
       "      <td>No</td>\n",
       "      <td>No</td>\n",
       "      <td>No</td>\n",
       "      <td>No</td>\n",
       "      <td>No</td>\n",
       "      <td>No</td>\n",
       "    </tr>\n",
       "    <tr>\n",
       "      <th>pioglitazone</th>\n",
       "      <td>No</td>\n",
       "      <td>No</td>\n",
       "      <td>No</td>\n",
       "      <td>No</td>\n",
       "      <td>No</td>\n",
       "      <td>No</td>\n",
       "      <td>No</td>\n",
       "      <td>No</td>\n",
       "      <td>No</td>\n",
       "      <td>No</td>\n",
       "    </tr>\n",
       "    <tr>\n",
       "      <th>rosiglitazone</th>\n",
       "      <td>No</td>\n",
       "      <td>No</td>\n",
       "      <td>No</td>\n",
       "      <td>No</td>\n",
       "      <td>No</td>\n",
       "      <td>No</td>\n",
       "      <td>No</td>\n",
       "      <td>No</td>\n",
       "      <td>No</td>\n",
       "      <td>Steady</td>\n",
       "    </tr>\n",
       "    <tr>\n",
       "      <th>acarbose</th>\n",
       "      <td>No</td>\n",
       "      <td>No</td>\n",
       "      <td>No</td>\n",
       "      <td>No</td>\n",
       "      <td>No</td>\n",
       "      <td>No</td>\n",
       "      <td>No</td>\n",
       "      <td>No</td>\n",
       "      <td>No</td>\n",
       "      <td>No</td>\n",
       "    </tr>\n",
       "    <tr>\n",
       "      <th>miglitol</th>\n",
       "      <td>No</td>\n",
       "      <td>No</td>\n",
       "      <td>No</td>\n",
       "      <td>No</td>\n",
       "      <td>No</td>\n",
       "      <td>No</td>\n",
       "      <td>No</td>\n",
       "      <td>No</td>\n",
       "      <td>No</td>\n",
       "      <td>No</td>\n",
       "    </tr>\n",
       "    <tr>\n",
       "      <th>troglitazone</th>\n",
       "      <td>No</td>\n",
       "      <td>No</td>\n",
       "      <td>No</td>\n",
       "      <td>No</td>\n",
       "      <td>No</td>\n",
       "      <td>No</td>\n",
       "      <td>No</td>\n",
       "      <td>No</td>\n",
       "      <td>No</td>\n",
       "      <td>No</td>\n",
       "    </tr>\n",
       "    <tr>\n",
       "      <th>tolazamide</th>\n",
       "      <td>No</td>\n",
       "      <td>No</td>\n",
       "      <td>No</td>\n",
       "      <td>No</td>\n",
       "      <td>No</td>\n",
       "      <td>No</td>\n",
       "      <td>No</td>\n",
       "      <td>No</td>\n",
       "      <td>No</td>\n",
       "      <td>No</td>\n",
       "    </tr>\n",
       "    <tr>\n",
       "      <th>examide</th>\n",
       "      <td>No</td>\n",
       "      <td>No</td>\n",
       "      <td>No</td>\n",
       "      <td>No</td>\n",
       "      <td>No</td>\n",
       "      <td>No</td>\n",
       "      <td>No</td>\n",
       "      <td>No</td>\n",
       "      <td>No</td>\n",
       "      <td>No</td>\n",
       "    </tr>\n",
       "    <tr>\n",
       "      <th>citoglipton</th>\n",
       "      <td>No</td>\n",
       "      <td>No</td>\n",
       "      <td>No</td>\n",
       "      <td>No</td>\n",
       "      <td>No</td>\n",
       "      <td>No</td>\n",
       "      <td>No</td>\n",
       "      <td>No</td>\n",
       "      <td>No</td>\n",
       "      <td>No</td>\n",
       "    </tr>\n",
       "    <tr>\n",
       "      <th>insulin</th>\n",
       "      <td>No</td>\n",
       "      <td>Up</td>\n",
       "      <td>No</td>\n",
       "      <td>Up</td>\n",
       "      <td>Steady</td>\n",
       "      <td>Steady</td>\n",
       "      <td>Steady</td>\n",
       "      <td>No</td>\n",
       "      <td>Steady</td>\n",
       "      <td>Steady</td>\n",
       "    </tr>\n",
       "    <tr>\n",
       "      <th>glyburide-metformin</th>\n",
       "      <td>No</td>\n",
       "      <td>No</td>\n",
       "      <td>No</td>\n",
       "      <td>No</td>\n",
       "      <td>No</td>\n",
       "      <td>No</td>\n",
       "      <td>No</td>\n",
       "      <td>No</td>\n",
       "      <td>No</td>\n",
       "      <td>No</td>\n",
       "    </tr>\n",
       "    <tr>\n",
       "      <th>glipizide-metformin</th>\n",
       "      <td>No</td>\n",
       "      <td>No</td>\n",
       "      <td>No</td>\n",
       "      <td>No</td>\n",
       "      <td>No</td>\n",
       "      <td>No</td>\n",
       "      <td>No</td>\n",
       "      <td>No</td>\n",
       "      <td>No</td>\n",
       "      <td>No</td>\n",
       "    </tr>\n",
       "    <tr>\n",
       "      <th>glimepiride-pioglitazone</th>\n",
       "      <td>No</td>\n",
       "      <td>No</td>\n",
       "      <td>No</td>\n",
       "      <td>No</td>\n",
       "      <td>No</td>\n",
       "      <td>No</td>\n",
       "      <td>No</td>\n",
       "      <td>No</td>\n",
       "      <td>No</td>\n",
       "      <td>No</td>\n",
       "    </tr>\n",
       "    <tr>\n",
       "      <th>metformin-rosiglitazone</th>\n",
       "      <td>No</td>\n",
       "      <td>No</td>\n",
       "      <td>No</td>\n",
       "      <td>No</td>\n",
       "      <td>No</td>\n",
       "      <td>No</td>\n",
       "      <td>No</td>\n",
       "      <td>No</td>\n",
       "      <td>No</td>\n",
       "      <td>No</td>\n",
       "    </tr>\n",
       "    <tr>\n",
       "      <th>metformin-pioglitazone</th>\n",
       "      <td>No</td>\n",
       "      <td>No</td>\n",
       "      <td>No</td>\n",
       "      <td>No</td>\n",
       "      <td>No</td>\n",
       "      <td>No</td>\n",
       "      <td>No</td>\n",
       "      <td>No</td>\n",
       "      <td>No</td>\n",
       "      <td>No</td>\n",
       "    </tr>\n",
       "    <tr>\n",
       "      <th>change</th>\n",
       "      <td>No</td>\n",
       "      <td>Ch</td>\n",
       "      <td>No</td>\n",
       "      <td>Ch</td>\n",
       "      <td>Ch</td>\n",
       "      <td>No</td>\n",
       "      <td>Ch</td>\n",
       "      <td>No</td>\n",
       "      <td>Ch</td>\n",
       "      <td>Ch</td>\n",
       "    </tr>\n",
       "    <tr>\n",
       "      <th>diabetesMed</th>\n",
       "      <td>No</td>\n",
       "      <td>Yes</td>\n",
       "      <td>Yes</td>\n",
       "      <td>Yes</td>\n",
       "      <td>Yes</td>\n",
       "      <td>Yes</td>\n",
       "      <td>Yes</td>\n",
       "      <td>Yes</td>\n",
       "      <td>Yes</td>\n",
       "      <td>Yes</td>\n",
       "    </tr>\n",
       "    <tr>\n",
       "      <th>readmitted</th>\n",
       "      <td>NO</td>\n",
       "      <td>&gt;30</td>\n",
       "      <td>NO</td>\n",
       "      <td>NO</td>\n",
       "      <td>NO</td>\n",
       "      <td>&gt;30</td>\n",
       "      <td>NO</td>\n",
       "      <td>&gt;30</td>\n",
       "      <td>NO</td>\n",
       "      <td>NO</td>\n",
       "    </tr>\n",
       "  </tbody>\n",
       "</table>\n",
       "</div>\n",
       "    <div class=\"colab-df-buttons\">\n",
       "\n",
       "  <div class=\"colab-df-container\">\n",
       "    <button class=\"colab-df-convert\" onclick=\"convertToInteractive('df-6f6db8d5-1167-4df6-b948-d09dd1242c82')\"\n",
       "            title=\"Convert this dataframe to an interactive table.\"\n",
       "            style=\"display:none;\">\n",
       "\n",
       "  <svg xmlns=\"http://www.w3.org/2000/svg\" height=\"24px\" viewBox=\"0 -960 960 960\">\n",
       "    <path d=\"M120-120v-720h720v720H120Zm60-500h600v-160H180v160Zm220 220h160v-160H400v160Zm0 220h160v-160H400v160ZM180-400h160v-160H180v160Zm440 0h160v-160H620v160ZM180-180h160v-160H180v160Zm440 0h160v-160H620v160Z\"/>\n",
       "  </svg>\n",
       "    </button>\n",
       "\n",
       "  <style>\n",
       "    .colab-df-container {\n",
       "      display:flex;\n",
       "      gap: 12px;\n",
       "    }\n",
       "\n",
       "    .colab-df-convert {\n",
       "      background-color: #E8F0FE;\n",
       "      border: none;\n",
       "      border-radius: 50%;\n",
       "      cursor: pointer;\n",
       "      display: none;\n",
       "      fill: #1967D2;\n",
       "      height: 32px;\n",
       "      padding: 0 0 0 0;\n",
       "      width: 32px;\n",
       "    }\n",
       "\n",
       "    .colab-df-convert:hover {\n",
       "      background-color: #E2EBFA;\n",
       "      box-shadow: 0px 1px 2px rgba(60, 64, 67, 0.3), 0px 1px 3px 1px rgba(60, 64, 67, 0.15);\n",
       "      fill: #174EA6;\n",
       "    }\n",
       "\n",
       "    .colab-df-buttons div {\n",
       "      margin-bottom: 4px;\n",
       "    }\n",
       "\n",
       "    [theme=dark] .colab-df-convert {\n",
       "      background-color: #3B4455;\n",
       "      fill: #D2E3FC;\n",
       "    }\n",
       "\n",
       "    [theme=dark] .colab-df-convert:hover {\n",
       "      background-color: #434B5C;\n",
       "      box-shadow: 0px 1px 3px 1px rgba(0, 0, 0, 0.15);\n",
       "      filter: drop-shadow(0px 1px 2px rgba(0, 0, 0, 0.3));\n",
       "      fill: #FFFFFF;\n",
       "    }\n",
       "  </style>\n",
       "\n",
       "    <script>\n",
       "      const buttonEl =\n",
       "        document.querySelector('#df-6f6db8d5-1167-4df6-b948-d09dd1242c82 button.colab-df-convert');\n",
       "      buttonEl.style.display =\n",
       "        google.colab.kernel.accessAllowed ? 'block' : 'none';\n",
       "\n",
       "      async function convertToInteractive(key) {\n",
       "        const element = document.querySelector('#df-6f6db8d5-1167-4df6-b948-d09dd1242c82');\n",
       "        const dataTable =\n",
       "          await google.colab.kernel.invokeFunction('convertToInteractive',\n",
       "                                                    [key], {});\n",
       "        if (!dataTable) return;\n",
       "\n",
       "        const docLinkHtml = 'Like what you see? Visit the ' +\n",
       "          '<a target=\"_blank\" href=https://colab.research.google.com/notebooks/data_table.ipynb>data table notebook</a>'\n",
       "          + ' to learn more about interactive tables.';\n",
       "        element.innerHTML = '';\n",
       "        dataTable['output_type'] = 'display_data';\n",
       "        await google.colab.output.renderOutput(dataTable, element);\n",
       "        const docLink = document.createElement('div');\n",
       "        docLink.innerHTML = docLinkHtml;\n",
       "        element.appendChild(docLink);\n",
       "      }\n",
       "    </script>\n",
       "  </div>\n",
       "\n",
       "\n",
       "<div id=\"df-23f78af9-77de-4b77-a570-988245b098cb\">\n",
       "  <button class=\"colab-df-quickchart\" onclick=\"quickchart('df-23f78af9-77de-4b77-a570-988245b098cb')\"\n",
       "            title=\"Suggest charts\"\n",
       "            style=\"display:none;\">\n",
       "\n",
       "<svg xmlns=\"http://www.w3.org/2000/svg\" height=\"24px\"viewBox=\"0 0 24 24\"\n",
       "     width=\"24px\">\n",
       "    <g>\n",
       "        <path d=\"M19 3H5c-1.1 0-2 .9-2 2v14c0 1.1.9 2 2 2h14c1.1 0 2-.9 2-2V5c0-1.1-.9-2-2-2zM9 17H7v-7h2v7zm4 0h-2V7h2v10zm4 0h-2v-4h2v4z\"/>\n",
       "    </g>\n",
       "</svg>\n",
       "  </button>\n",
       "\n",
       "<style>\n",
       "  .colab-df-quickchart {\n",
       "      --bg-color: #E8F0FE;\n",
       "      --fill-color: #1967D2;\n",
       "      --hover-bg-color: #E2EBFA;\n",
       "      --hover-fill-color: #174EA6;\n",
       "      --disabled-fill-color: #AAA;\n",
       "      --disabled-bg-color: #DDD;\n",
       "  }\n",
       "\n",
       "  [theme=dark] .colab-df-quickchart {\n",
       "      --bg-color: #3B4455;\n",
       "      --fill-color: #D2E3FC;\n",
       "      --hover-bg-color: #434B5C;\n",
       "      --hover-fill-color: #FFFFFF;\n",
       "      --disabled-bg-color: #3B4455;\n",
       "      --disabled-fill-color: #666;\n",
       "  }\n",
       "\n",
       "  .colab-df-quickchart {\n",
       "    background-color: var(--bg-color);\n",
       "    border: none;\n",
       "    border-radius: 50%;\n",
       "    cursor: pointer;\n",
       "    display: none;\n",
       "    fill: var(--fill-color);\n",
       "    height: 32px;\n",
       "    padding: 0;\n",
       "    width: 32px;\n",
       "  }\n",
       "\n",
       "  .colab-df-quickchart:hover {\n",
       "    background-color: var(--hover-bg-color);\n",
       "    box-shadow: 0 1px 2px rgba(60, 64, 67, 0.3), 0 1px 3px 1px rgba(60, 64, 67, 0.15);\n",
       "    fill: var(--button-hover-fill-color);\n",
       "  }\n",
       "\n",
       "  .colab-df-quickchart-complete:disabled,\n",
       "  .colab-df-quickchart-complete:disabled:hover {\n",
       "    background-color: var(--disabled-bg-color);\n",
       "    fill: var(--disabled-fill-color);\n",
       "    box-shadow: none;\n",
       "  }\n",
       "\n",
       "  .colab-df-spinner {\n",
       "    border: 2px solid var(--fill-color);\n",
       "    border-color: transparent;\n",
       "    border-bottom-color: var(--fill-color);\n",
       "    animation:\n",
       "      spin 1s steps(1) infinite;\n",
       "  }\n",
       "\n",
       "  @keyframes spin {\n",
       "    0% {\n",
       "      border-color: transparent;\n",
       "      border-bottom-color: var(--fill-color);\n",
       "      border-left-color: var(--fill-color);\n",
       "    }\n",
       "    20% {\n",
       "      border-color: transparent;\n",
       "      border-left-color: var(--fill-color);\n",
       "      border-top-color: var(--fill-color);\n",
       "    }\n",
       "    30% {\n",
       "      border-color: transparent;\n",
       "      border-left-color: var(--fill-color);\n",
       "      border-top-color: var(--fill-color);\n",
       "      border-right-color: var(--fill-color);\n",
       "    }\n",
       "    40% {\n",
       "      border-color: transparent;\n",
       "      border-right-color: var(--fill-color);\n",
       "      border-top-color: var(--fill-color);\n",
       "    }\n",
       "    60% {\n",
       "      border-color: transparent;\n",
       "      border-right-color: var(--fill-color);\n",
       "    }\n",
       "    80% {\n",
       "      border-color: transparent;\n",
       "      border-right-color: var(--fill-color);\n",
       "      border-bottom-color: var(--fill-color);\n",
       "    }\n",
       "    90% {\n",
       "      border-color: transparent;\n",
       "      border-bottom-color: var(--fill-color);\n",
       "    }\n",
       "  }\n",
       "</style>\n",
       "\n",
       "  <script>\n",
       "    async function quickchart(key) {\n",
       "      const quickchartButtonEl =\n",
       "        document.querySelector('#' + key + ' button');\n",
       "      quickchartButtonEl.disabled = true;  // To prevent multiple clicks.\n",
       "      quickchartButtonEl.classList.add('colab-df-spinner');\n",
       "      try {\n",
       "        const charts = await google.colab.kernel.invokeFunction(\n",
       "            'suggestCharts', [key], {});\n",
       "      } catch (error) {\n",
       "        console.error('Error during call to suggestCharts:', error);\n",
       "      }\n",
       "      quickchartButtonEl.classList.remove('colab-df-spinner');\n",
       "      quickchartButtonEl.classList.add('colab-df-quickchart-complete');\n",
       "    }\n",
       "    (() => {\n",
       "      let quickchartButtonEl =\n",
       "        document.querySelector('#df-23f78af9-77de-4b77-a570-988245b098cb button');\n",
       "      quickchartButtonEl.style.display =\n",
       "        google.colab.kernel.accessAllowed ? 'block' : 'none';\n",
       "    })();\n",
       "  </script>\n",
       "</div>\n",
       "    </div>\n",
       "  </div>\n"
      ],
      "text/plain": [
       "                                                 0          1  \\\n",
       "encounter_id                               2278392     149190   \n",
       "patient_nbr                                8222157   55629189   \n",
       "race                                     Caucasian  Caucasian   \n",
       "gender                                      Female     Female   \n",
       "age                                         [0-10)    [10-20)   \n",
       "weight                                           ?          ?   \n",
       "admission_type_id                                6          1   \n",
       "discharge_disposition_id                        25          1   \n",
       "admission_source_id                              1          7   \n",
       "time_in_hospital                                 1          3   \n",
       "payer_code                                       ?          ?   \n",
       "medical_specialty         Pediatrics-Endocrinology          ?   \n",
       "num_lab_procedures                              41         59   \n",
       "num_procedures                                   0          0   \n",
       "num_medications                                  1         18   \n",
       "number_outpatient                                0          0   \n",
       "number_emergency                                 0          0   \n",
       "number_inpatient                                 0          0   \n",
       "diag_1                                      250.83        276   \n",
       "diag_2                                           ?     250.01   \n",
       "diag_3                                           ?        255   \n",
       "number_diagnoses                                 1          9   \n",
       "max_glu_serum                                 None       None   \n",
       "A1Cresult                                     None       None   \n",
       "metformin                                       No         No   \n",
       "repaglinide                                     No         No   \n",
       "nateglinide                                     No         No   \n",
       "chlorpropamide                                  No         No   \n",
       "glimepiride                                     No         No   \n",
       "acetohexamide                                   No         No   \n",
       "glipizide                                       No         No   \n",
       "glyburide                                       No         No   \n",
       "tolbutamide                                     No         No   \n",
       "pioglitazone                                    No         No   \n",
       "rosiglitazone                                   No         No   \n",
       "acarbose                                        No         No   \n",
       "miglitol                                        No         No   \n",
       "troglitazone                                    No         No   \n",
       "tolazamide                                      No         No   \n",
       "examide                                         No         No   \n",
       "citoglipton                                     No         No   \n",
       "insulin                                         No         Up   \n",
       "glyburide-metformin                             No         No   \n",
       "glipizide-metformin                             No         No   \n",
       "glimepiride-pioglitazone                        No         No   \n",
       "metformin-rosiglitazone                         No         No   \n",
       "metformin-pioglitazone                          No         No   \n",
       "change                                          No         Ch   \n",
       "diabetesMed                                     No        Yes   \n",
       "readmitted                                      NO        >30   \n",
       "\n",
       "                                        2          3          4          5  \\\n",
       "encounter_id                        64410     500364      16680      35754   \n",
       "patient_nbr                      86047875   82442376   42519267   82637451   \n",
       "race                      AfricanAmerican  Caucasian  Caucasian  Caucasian   \n",
       "gender                             Female       Male       Male       Male   \n",
       "age                               [20-30)    [30-40)    [40-50)    [50-60)   \n",
       "weight                                  ?          ?          ?          ?   \n",
       "admission_type_id                       1          1          1          2   \n",
       "discharge_disposition_id                1          1          1          1   \n",
       "admission_source_id                     7          7          7          2   \n",
       "time_in_hospital                        2          2          1          3   \n",
       "payer_code                              ?          ?          ?          ?   \n",
       "medical_specialty                       ?          ?          ?          ?   \n",
       "num_lab_procedures                     11         44         51         31   \n",
       "num_procedures                          5          1          0          6   \n",
       "num_medications                        13         16          8         16   \n",
       "number_outpatient                       2          0          0          0   \n",
       "number_emergency                        0          0          0          0   \n",
       "number_inpatient                        1          0          0          0   \n",
       "diag_1                                648          8        197        414   \n",
       "diag_2                                250     250.43        157        411   \n",
       "diag_3                                V27        403        250        250   \n",
       "number_diagnoses                        6          7          5          9   \n",
       "max_glu_serum                        None       None       None       None   \n",
       "A1Cresult                            None       None       None       None   \n",
       "metformin                              No         No         No         No   \n",
       "repaglinide                            No         No         No         No   \n",
       "nateglinide                            No         No         No         No   \n",
       "chlorpropamide                         No         No         No         No   \n",
       "glimepiride                            No         No         No         No   \n",
       "acetohexamide                          No         No         No         No   \n",
       "glipizide                          Steady         No     Steady         No   \n",
       "glyburide                              No         No         No         No   \n",
       "tolbutamide                            No         No         No         No   \n",
       "pioglitazone                           No         No         No         No   \n",
       "rosiglitazone                          No         No         No         No   \n",
       "acarbose                               No         No         No         No   \n",
       "miglitol                               No         No         No         No   \n",
       "troglitazone                           No         No         No         No   \n",
       "tolazamide                             No         No         No         No   \n",
       "examide                                No         No         No         No   \n",
       "citoglipton                            No         No         No         No   \n",
       "insulin                                No         Up     Steady     Steady   \n",
       "glyburide-metformin                    No         No         No         No   \n",
       "glipizide-metformin                    No         No         No         No   \n",
       "glimepiride-pioglitazone               No         No         No         No   \n",
       "metformin-rosiglitazone                No         No         No         No   \n",
       "metformin-pioglitazone                 No         No         No         No   \n",
       "change                                 No         Ch         Ch         No   \n",
       "diabetesMed                           Yes        Yes        Yes        Yes   \n",
       "readmitted                             NO         NO         NO        >30   \n",
       "\n",
       "                                  6          7          8                 9  \n",
       "encounter_id                  55842      63768      12522             15738  \n",
       "patient_nbr                84259809  114882984   48330783          63555939  \n",
       "race                      Caucasian  Caucasian  Caucasian         Caucasian  \n",
       "gender                         Male       Male     Female            Female  \n",
       "age                         [60-70)    [70-80)    [80-90)          [90-100)  \n",
       "weight                            ?          ?          ?                 ?  \n",
       "admission_type_id                 3          1          2                 3  \n",
       "discharge_disposition_id          1          1          1                 3  \n",
       "admission_source_id               2          7          4                 4  \n",
       "time_in_hospital                  4          5         13                12  \n",
       "payer_code                        ?          ?          ?                 ?  \n",
       "medical_specialty                 ?          ?          ?  InternalMedicine  \n",
       "num_lab_procedures               70         73         68                33  \n",
       "num_procedures                    1          0          2                 3  \n",
       "num_medications                  21         12         28                18  \n",
       "number_outpatient                 0          0          0                 0  \n",
       "number_emergency                  0          0          0                 0  \n",
       "number_inpatient                  0          0          0                 0  \n",
       "diag_1                          414        428        398               434  \n",
       "diag_2                          411        492        427               198  \n",
       "diag_3                          V45        250         38               486  \n",
       "number_diagnoses                  7          8          8                 8  \n",
       "max_glu_serum                  None       None       None              None  \n",
       "A1Cresult                      None       None       None              None  \n",
       "metformin                    Steady         No         No                No  \n",
       "repaglinide                      No         No         No                No  \n",
       "nateglinide                      No         No         No                No  \n",
       "chlorpropamide                   No         No         No                No  \n",
       "glimepiride                  Steady         No         No                No  \n",
       "acetohexamide                    No         No         No                No  \n",
       "glipizide                        No         No     Steady                No  \n",
       "glyburide                        No     Steady         No                No  \n",
       "tolbutamide                      No         No         No                No  \n",
       "pioglitazone                     No         No         No                No  \n",
       "rosiglitazone                    No         No         No            Steady  \n",
       "acarbose                         No         No         No                No  \n",
       "miglitol                         No         No         No                No  \n",
       "troglitazone                     No         No         No                No  \n",
       "tolazamide                       No         No         No                No  \n",
       "examide                          No         No         No                No  \n",
       "citoglipton                      No         No         No                No  \n",
       "insulin                      Steady         No     Steady            Steady  \n",
       "glyburide-metformin              No         No         No                No  \n",
       "glipizide-metformin              No         No         No                No  \n",
       "glimepiride-pioglitazone         No         No         No                No  \n",
       "metformin-rosiglitazone          No         No         No                No  \n",
       "metformin-pioglitazone           No         No         No                No  \n",
       "change                           Ch         No         Ch                Ch  \n",
       "diabetesMed                     Yes        Yes        Yes               Yes  \n",
       "readmitted                       NO        >30         NO                NO  "
      ]
     },
     "execution_count": 143,
     "metadata": {},
     "output_type": "execute_result"
    }
   ],
   "source": [
    "dfc.head(10).T"
   ]
  },
  {
   "cell_type": "markdown",
   "metadata": {
    "id": "lZIEksYR1Sfr"
   },
   "source": [
    "<div style=\"background-color: #E0F0D7; padding: 10px; border-radius: 5px;\">\n",
    "\n",
    "   <b><h3>· Cleaning</h3></b>\n",
    "\n",
    "</div>"
   ]
  },
  {
   "cell_type": "markdown",
   "metadata": {
    "id": "VN2k6J2LqHDO"
   },
   "source": [
    "\n",
    "<div style=\"background-color: #E0F0D7; padding: 10px; border-radius: 5px;\">\n",
    "\n",
    "Firslty, we will replace all the '?' values of the dataset by the null value :  \n",
    "\n",
    "\n",
    "</div>"
   ]
  },
  {
   "cell_type": "code",
   "execution_count": null,
   "metadata": {
    "id": "ggdsnvDrqYim"
   },
   "outputs": [],
   "source": [
    "dfc.replace('?', np.nan, inplace=True)"
   ]
  },
  {
   "cell_type": "code",
   "execution_count": null,
   "metadata": {
    "colab": {
     "base_uri": "https://localhost:8080/"
    },
    "id": "FOPFWKmaqcaU",
    "outputId": "a750f8f4-99f1-458f-b6a6-3b8542756a84"
   },
   "outputs": [
    {
     "name": "stdout",
     "output_type": "stream",
     "text": [
      "                          Missing values  Percentage (%)\n",
      "encounter_id                           0        0.000000\n",
      "patient_nbr                            0        0.000000\n",
      "race                                2273        2.233555\n",
      "gender                                 0        0.000000\n",
      "age                                    0        0.000000\n",
      "weight                             98569       96.858479\n",
      "admission_type_id                      0        0.000000\n",
      "discharge_disposition_id               0        0.000000\n",
      "admission_source_id                    0        0.000000\n",
      "time_in_hospital                       0        0.000000\n",
      "payer_code                         40256       39.557416\n",
      "medical_specialty                  49949       49.082208\n",
      "num_lab_procedures                     0        0.000000\n",
      "num_procedures                         0        0.000000\n",
      "num_medications                        0        0.000000\n",
      "number_outpatient                      0        0.000000\n",
      "number_emergency                       0        0.000000\n",
      "number_inpatient                       0        0.000000\n",
      "diag_1                                21        0.020636\n",
      "diag_2                               358        0.351787\n",
      "diag_3                              1423        1.398306\n",
      "number_diagnoses                       0        0.000000\n",
      "max_glu_serum                          0        0.000000\n",
      "A1Cresult                              0        0.000000\n",
      "metformin                              0        0.000000\n",
      "repaglinide                            0        0.000000\n",
      "nateglinide                            0        0.000000\n",
      "chlorpropamide                         0        0.000000\n",
      "glimepiride                            0        0.000000\n",
      "acetohexamide                          0        0.000000\n",
      "glipizide                              0        0.000000\n",
      "glyburide                              0        0.000000\n",
      "tolbutamide                            0        0.000000\n",
      "pioglitazone                           0        0.000000\n",
      "rosiglitazone                          0        0.000000\n",
      "acarbose                               0        0.000000\n",
      "miglitol                               0        0.000000\n",
      "troglitazone                           0        0.000000\n",
      "tolazamide                             0        0.000000\n",
      "examide                                0        0.000000\n",
      "citoglipton                            0        0.000000\n",
      "insulin                                0        0.000000\n",
      "glyburide-metformin                    0        0.000000\n",
      "glipizide-metformin                    0        0.000000\n",
      "glimepiride-pioglitazone               0        0.000000\n",
      "metformin-rosiglitazone                0        0.000000\n",
      "metformin-pioglitazone                 0        0.000000\n",
      "change                                 0        0.000000\n",
      "diabetesMed                            0        0.000000\n",
      "readmitted                             0        0.000000\n",
      "among  101766  rows in the dataset.\n"
     ]
    }
   ],
   "source": [
    "missing_val = dfc.isna().sum()\n",
    "percentage_mv = (missing_val/len(dfc))*100\n",
    "array = pd.concat([missing_val,percentage_mv], axis=1)\n",
    "array.columns = ['Missing values', 'Percentage (%)']\n",
    "print(array)\n",
    "print('among ',len(dfc), ' rows in the dataset.')"
   ]
  },
  {
   "cell_type": "markdown",
   "metadata": {
    "id": "xj3ZyQvgqr_e"
   },
   "source": [
    "<div style=\"background-color: #E0F0D7; padding: 10px; border-radius: 5px;\">\n",
    "    \n",
    "Several columns have a lot of missing values. In the columns diag1, diag2, diag3, we miss up to 1.4% of data.\n",
    "However, we miss almost half of the datas in 'payer_code' and 'medical_speciality' columns.\n",
    "And we miss more than 96% of data in weight column. We should get rid of these columns.\n",
    "\n",
    "\n",
    "</div>\n"
   ]
  },
  {
   "cell_type": "code",
   "execution_count": null,
   "metadata": {
    "colab": {
     "base_uri": "https://localhost:8080/"
    },
    "id": "V5ppxzYxn34l",
    "outputId": "5d689556-479b-4c58-f81d-49711e94aa63"
   },
   "outputs": [
    {
     "data": {
      "text/plain": [
       "array(['Female', 'Male', 'Unknown/Invalid'], dtype=object)"
      ]
     },
     "execution_count": 146,
     "metadata": {},
     "output_type": "execute_result"
    }
   ],
   "source": [
    "# gender takes values such that\n",
    "dfc['gender'].unique()"
   ]
  },
  {
   "cell_type": "code",
   "execution_count": null,
   "metadata": {
    "colab": {
     "base_uri": "https://localhost:8080/"
    },
    "id": "ELJdDs3koEgT",
    "outputId": "46506478-f735-4d90-b70e-97d1004d9547"
   },
   "outputs": [
    {
     "name": "stdout",
     "output_type": "stream",
     "text": [
      "gender 3\n"
     ]
    }
   ],
   "source": [
    "print('gender', df['gender'][df['gender'] == 'Unknown/Invalid'].count())"
   ]
  },
  {
   "cell_type": "markdown",
   "metadata": {
    "id": "REZ7xkymuVy3"
   },
   "source": [
    "<div style=\"background-color: #E0F0D7; padding: 10px; border-radius: 5px;\">\n",
    "    \n",
    "We drop duplicate rows if there are some :\n",
    "\n",
    "\n",
    "</div>"
   ]
  },
  {
   "cell_type": "code",
   "execution_count": null,
   "metadata": {
    "colab": {
     "base_uri": "https://localhost:8080/"
    },
    "id": "EiGANY8wuYw1",
    "outputId": "99c88290-a1f0-4e36-943c-c68f925c1c5f"
   },
   "outputs": [
    {
     "name": "stdout",
     "output_type": "stream",
     "text": [
      "No duplicate rows\n"
     ]
    }
   ],
   "source": [
    "len_before = len(dfc)\n",
    "dfc.drop_duplicates(inplace=True)\n",
    "len_after = len(dfc)\n",
    "print('No duplicate rows') if len_before==len_after else print(len_before-len_after,' rows deleted')"
   ]
  },
  {
   "cell_type": "markdown",
   "metadata": {
    "id": "W25Ldu5QnkOS"
   },
   "source": [
    "<div style=\"background-color: #E0F0D7; padding: 10px; border-radius: 5px;\">\n",
    "    \n",
    "We drop all the unnecessary columns :\n",
    "\n",
    "\n",
    "</div>"
   ]
  },
  {
   "cell_type": "code",
   "execution_count": null,
   "metadata": {
    "colab": {
     "base_uri": "https://localhost:8080/",
     "height": 516
    },
    "id": "LT6RX4TynpVh",
    "outputId": "0d45f211-7252-420c-d5f8-9e08beb4eb6a"
   },
   "outputs": [
    {
     "data": {
      "image/png": "[encoded data removed]",
      "text/plain": [
       "<Figure size 640x480 with 1 Axes>"
      ]
     },
     "metadata": {},
     "output_type": "display_data"
    }
   ],
   "source": [
    "num = dfc['weight'].value_counts()\n",
    "\n",
    "num.plot(kind='bar', color='lightseagreen')\n",
    "plt.title('Histogram of individuals by weight range')\n",
    "plt.xlabel('Weight range')\n",
    "plt.ylabel('Number of Individuals')\n",
    "plt.xticks(rotation=45)\n",
    "plt.show()"
   ]
  },
  {
   "cell_type": "code",
   "execution_count": null,
   "metadata": {
    "id": "z0IVwZ4JqG43"
   },
   "outputs": [],
   "source": [
    "#We planned to drop the id columns but it appears that it can be interesting to keep them. But columns with tou many missing values are being dropped.\n",
    "cols_to_drop = [\n",
    "    'weight',\n",
    "    'payer_code',\n",
    "    'medical_specialty'\n",
    "    ]\n",
    "dfc = dfc.drop(cols_to_drop, axis=1)"
   ]
  },
  {
   "cell_type": "markdown",
   "metadata": {
    "id": "ma_v_nQmZSFS"
   },
   "source": [
    "<div style=\"background-color: #E0F0D7; padding: 10px; border-radius: 5px;\">\n",
    "    \n",
    "<b> <h3>· Dealing with null values</h3></b>\n",
    "\n",
    "\n",
    "</div>"
   ]
  },
  {
   "cell_type": "code",
   "execution_count": null,
   "metadata": {
    "id": "EKmNvB_GzSGY"
   },
   "outputs": [],
   "source": [
    "#We delete the null values in the columns diag_1, diag_2, diag_3, race\n",
    "dfc = dfc.dropna(subset=['diag_1', 'diag_2', 'diag_3', 'race'])\n",
    "\n",
    "#and the Unknown/Invalid rows for gender\n",
    "dfc = dfc[dfc['gender'] != 'Unknown/Invalid']\n"
   ]
  },
  {
   "cell_type": "markdown",
   "metadata": {
    "id": "JTVdb3py3d-S"
   },
   "source": [
    "<div style=\"background-color: #E0F0D7; padding: 10px; border-radius: 5px;\">\n",
    "    \n",
    "We check if any column takes only one value. Columns with the same value for all records are bring nothing to interpretation so we can delete them.\n",
    "\n",
    "</div>\n",
    "\n"
   ]
  },
  {
   "cell_type": "code",
   "execution_count": null,
   "metadata": {
    "colab": {
     "base_uri": "https://localhost:8080/"
    },
    "id": "8b42NLnI09jh",
    "outputId": "e47665eb-e508-4444-cd4b-d04f58e71f28"
   },
   "outputs": [
    {
     "data": {
      "text/plain": [
       "['examide', 'citoglipton', 'metformin-rosiglitazone']"
      ]
     },
     "execution_count": 152,
     "metadata": {},
     "output_type": "execute_result"
    }
   ],
   "source": [
    "one_val_col = []\n",
    "\n",
    "for column in dfc.columns:\n",
    "    if len(dfc[column].unique()) == 1:\n",
    "        one_val_col.append(column)\n",
    "one_val_col"
   ]
  },
  {
   "cell_type": "markdown",
   "metadata": {
    "id": "Q1sK4HCd3gJ8"
   },
   "source": [
    "<div style=\"background-color: #E0F0D7; padding: 10px; border-radius: 5px;\">\n",
    "    \n",
    "Both can be dropped :\n",
    "\n",
    "</div>"
   ]
  },
  {
   "cell_type": "code",
   "execution_count": null,
   "metadata": {
    "id": "hGtDrUy-2BAx"
   },
   "outputs": [],
   "source": [
    "dfc = dfc.drop(['examide', 'citoglipton', 'metformin-rosiglitazone'], axis = 1)"
   ]
  },
  {
   "cell_type": "code",
   "execution_count": null,
   "metadata": {
    "colab": {
     "base_uri": "https://localhost:8080/"
    },
    "id": "8lxR5kAZ2Oyg",
    "outputId": "df4250fd-db28-4cfe-abe7-9a093c548036"
   },
   "outputs": [
    {
     "name": "stdout",
     "output_type": "stream",
     "text": [
      "                          Missing values  Percentage (%)\n",
      "encounter_id                           0             0.0\n",
      "patient_nbr                            0             0.0\n",
      "race                                   0             0.0\n",
      "gender                                 0             0.0\n",
      "age                                    0             0.0\n",
      "admission_type_id                      0             0.0\n",
      "discharge_disposition_id               0             0.0\n",
      "admission_source_id                    0             0.0\n",
      "time_in_hospital                       0             0.0\n",
      "num_lab_procedures                     0             0.0\n",
      "num_procedures                         0             0.0\n",
      "num_medications                        0             0.0\n",
      "number_outpatient                      0             0.0\n",
      "number_emergency                       0             0.0\n",
      "number_inpatient                       0             0.0\n",
      "diag_1                                 0             0.0\n",
      "diag_2                                 0             0.0\n",
      "diag_3                                 0             0.0\n",
      "number_diagnoses                       0             0.0\n",
      "max_glu_serum                          0             0.0\n",
      "A1Cresult                              0             0.0\n",
      "metformin                              0             0.0\n",
      "repaglinide                            0             0.0\n",
      "nateglinide                            0             0.0\n",
      "chlorpropamide                         0             0.0\n",
      "glimepiride                            0             0.0\n",
      "acetohexamide                          0             0.0\n",
      "glipizide                              0             0.0\n",
      "glyburide                              0             0.0\n",
      "tolbutamide                            0             0.0\n",
      "pioglitazone                           0             0.0\n",
      "rosiglitazone                          0             0.0\n",
      "acarbose                               0             0.0\n",
      "miglitol                               0             0.0\n",
      "troglitazone                           0             0.0\n",
      "tolazamide                             0             0.0\n",
      "insulin                                0             0.0\n",
      "glyburide-metformin                    0             0.0\n",
      "glipizide-metformin                    0             0.0\n",
      "glimepiride-pioglitazone               0             0.0\n",
      "metformin-pioglitazone                 0             0.0\n",
      "change                                 0             0.0\n",
      "diabetesMed                            0             0.0\n",
      "readmitted                             0             0.0\n",
      "among  98052  rows in the dataset.\n"
     ]
    }
   ],
   "source": [
    "missing_val = dfc.isna().sum()\n",
    "percentage_mv = (missing_val/len(dfc))*100\n",
    "array = pd.concat([missing_val,percentage_mv], axis=1)\n",
    "array.columns = ['Missing values', 'Percentage (%)']\n",
    "print(array)\n",
    "print('among ',len(dfc), ' rows in the dataset.')"
   ]
  },
  {
   "cell_type": "markdown",
   "metadata": {
    "id": "PKN1sJiz7NVm"
   },
   "source": [
    "<div style=\"background-color: #E0F0D7; padding: 10px; border-radius: 5px;\">\n",
    "    \n",
    "\n",
    "We chose to treat number_outpatient, number_emergency and number_inpatient columns in a unique column because of their link. This new column will be called number_services to count the number of hospital services the patient has used in the past year.\n",
    "\n",
    "</div>\n",
    "\n",
    "\n"
   ]
  },
  {
   "cell_type": "code",
   "execution_count": null,
   "metadata": {
    "id": "aaNANxfd7i9S"
   },
   "outputs": [],
   "source": [
    "dfc['number_services'] = dfc['number_outpatient'] + dfc['number_emergency'] + dfc['number_inpatient']"
   ]
  },
  {
   "cell_type": "markdown",
   "metadata": {
    "id": "R_O2fWN0AIE8"
   },
   "source": [
    "<div style=\"background-color: #E0F0D7; padding: 10px; border-radius: 5px;\">\n",
    "    \n",
    "\n",
    "<i>Now we must deal with remaining categorical columns to process their type into numerical type:</i>\n",
    "</div>"
   ]
  },
  {
   "cell_type": "markdown",
   "metadata": {
    "id": "yMuv9sqd8hNY"
   },
   "source": [
    "<div style=\"background-color: #E0F0D7; padding: 10px; border-radius: 5px;\">  <b> <h3>· Numerical normalization</h3></b>\n",
    "    \n",
    "Moreover, the dataset contains 23 columns all taking four different values : 'No', 'Up', 'Down' or 'Steady'.\n",
    "We will modify this column into a binary value to make a difference between patients who have modifications in their treatment, and patients who have steady treatments.\n",
    "\n",
    "As us this enable to categorize the patients in a more relevant manner because, obviously, patients who have a modification in their treatments mean they were not cured by their current medicine so they got readmitted.\n",
    "</div>\n",
    "\n",
    "\n",
    "\n",
    "\n"
   ]
  },
  {
   "cell_type": "code",
   "execution_count": null,
   "metadata": {
    "id": "IJPf70aq8MMx"
   },
   "outputs": [],
   "source": [
    "medicines_col = [\n",
    "    'metformin', 'repaglinide', 'nateglinide', 'chlorpropamide', 'glimepiride',\n",
    "    'acetohexamide', 'glipizide', 'glyburide', 'tolbutamide',\n",
    "    'pioglitazone', 'rosiglitazone', 'acarbose', 'miglitol',\n",
    "    'troglitazone', 'tolazamide', 'insulin', 'glyburide-metformin',\n",
    "    'glipizide-metformin', 'glimepiride-pioglitazone',\n",
    "    'metformin-pioglitazone'\n",
    "]\n",
    "\n",
    "# We create temporary columns to make our numchange column\n",
    "for col in medicines_col:\n",
    "    temp_col_name = col + '_temp'\n",
    "    dfc[temp_col_name] = dfc[col].replace({'No': 0, 'Steady': 0, 'Up': 1, 'Down': 1})\n",
    "\n",
    "# numchange is the sum of temporary columns (number of changes)\n",
    "temp_cols = [col + '_temp' for col in medicines_col]\n",
    "dfc['numchange'] = dfc[temp_cols].sum(axis=1)\n",
    "\n",
    "# We drop the temporary cols\n",
    "dfc.drop(columns=temp_cols, inplace=True)\n",
    "\n",
    "# We modify the values of medicines\n",
    "for col in medicines_col:\n",
    "    dfc[col] = dfc[col].apply(lambda x: 0 if x == 'No' else 1)\n"
   ]
  },
  {
   "cell_type": "code",
   "execution_count": null,
   "metadata": {
    "colab": {
     "base_uri": "https://localhost:8080/"
    },
    "id": "BUmDGDFM-Pvq",
    "outputId": "15e8ed9d-932d-4a8b-e893-83ea83474d2c"
   },
   "outputs": [
    {
     "data": {
      "text/plain": [
       "0    71309\n",
       "1    25350\n",
       "2     1281\n",
       "3      107\n",
       "4        5\n",
       "Name: numchange, dtype: int64"
      ]
     },
     "execution_count": 157,
     "metadata": {},
     "output_type": "execute_result"
    }
   ],
   "source": [
    "dfc['numchange'].value_counts()"
   ]
  },
  {
   "cell_type": "code",
   "execution_count": null,
   "metadata": {
    "id": "WLLyqgBqA1mB"
   },
   "outputs": [],
   "source": [
    "#Race\n",
    "dict_race = {'Caucasian': 1, 'AfricanAmerican': 2, 'Asian': 3, 'Hispanic': 4, 'Other': 5}\n",
    "dfc['race'] = dfc['race'].replace(dict_race)\n",
    "\n",
    "#Gender\n",
    "dfc['gender'] = dfc['gender'].replace('Male', 0)\n",
    "dfc['gender'] = dfc['gender'].replace('Female', 1)\n",
    "\n",
    "#Age\n",
    "dict_age = {'[0-10)': 1, '[10-20)': 2, '[20-30)': 3, '[30-40)': 4, '[40-50)': 5, '[50-60)': 6, '[60-70)': 7, '[70-80)': 8, '[80-90)': 9, '[90-100)': 10}\n",
    "dfc['age'] = dfc['age'].replace(dict_age)\n",
    "\n",
    "#A1Cresult\n",
    "# We consider that >7 and >8 are both too important results so coded in the same value\n",
    "dict_a1c = {'>7': 1, '>8': 1, 'Norm': 0, 'None': -1}\n",
    "dfc['A1Cresult'] = dfc['A1Cresult'].replace(dict_a1c)\n",
    "\n",
    "#Max_glu_serum\n",
    "# Same consideration than for A1C\n",
    "dict_glu_serum = {'>200': 1, '>300': 1, 'Norm': 0, 'None': -1}\n",
    "dfc['max_glu_serum'] = dfc['max_glu_serum'].replace(dict_glu_serum)\n",
    "\n",
    "#Change\n",
    "dict_change = {'Ch': 1, 'No': 0}\n",
    "dfc['change'] = dfc['change'].replace(dict_change)\n",
    "\n",
    "#DiabetesMed\n",
    "dict_diabetesMed = {'Yes': 1, 'No': 0}\n",
    "dfc['diabetesMed'] = dfc['diabetesMed'].replace(dict_diabetesMed)"
   ]
  },
  {
   "cell_type": "markdown",
   "metadata": {
    "id": "zhbvpo_JAgR2"
   },
   "source": [
    "<div style=\"background-color: #E0F0D7; padding: 10px; border-radius: 5px;\">\n",
    "    \n",
    "\n",
    "ICD-9 classes are coding categories for medical diseases and symptoms.\n",
    "    \n",
    "Diagnostic code description (ICD9) :\n",
    "https://www2.gov.bc.ca/gov/content/health/practitioner-professional-resources/msp/physicians/diagnostic-code-descriptions-icd-9\n",
    "    \n",
    "    \n",
    "Let's link the codes with their description : \n",
    "</div>\n",
    "\n",
    "\n",
    "\n",
    "\n"
   ]
  },
  {
   "cell_type": "code",
   "execution_count": null,
   "metadata": {
    "id": "lH0lUVXi_hQN"
   },
   "outputs": [],
   "source": [
    "# Dictionnary of classification of diagnostics\n",
    "icd9_classes = {\n",
    "    1: range(1, 140),     # Infection and Parasitic Diseases\n",
    "    2: range(140, 240),   # Neoplasms\n",
    "    3: range(240, 280),   # Endocrine, Nutritional and Metabolic Diseases and Immunity Disorders\n",
    "    4: range(280, 290),   # Diseases of Blood and Blood Forming Organs\n",
    "    5: range(290, 320),   # Mental Disorders\n",
    "    6: range(320, 390),   # Diseases of Nervous System and Sense Organs\n",
    "    7: range(390, 460),   # Diseases of the Circulatory System\n",
    "    8: range(460, 520),   # Diseases of the Respiratory System\n",
    "    9: range(520, 580),   # Diseases of the Digestive System\n",
    "    10: range(580, 630),  # Diseases of the Genitourinary System\n",
    "    11: range(630, 680),  # Complications of Pregnancy, Childbirth and the Puerperium\n",
    "    12: range(680, 710),  # Diseases of the Skin and Subcutaneous Tissue\n",
    "    13: range(710, 740),  # Diseases of the Musculoskeletal System and Connective Tissue\n",
    "    14: range(740, 760),  # Congenital Anomalies\n",
    "    15: range(760, 780),  # Certain Conditions Originating in the Perinatal Period\n",
    "    16: range(780, 800),  # Symptoms, Signs and Ill-defined Conditions\n",
    "    17: range(800, 1000), # Injury and Poisoning\n",
    "    # Codes starting by V or E\n",
    "    18: 'V',              # Supplementary Factors Influencing Health Status and Contact with Health Services\n",
    "    19: 'E'               # External causes of injury and supplemental classification\n",
    "}\n",
    "\n",
    "\n",
    "def icd9_to_class_code(icd_code):\n",
    "    # Handle special cases for 'V' and 'E' codes first\n",
    "    if icd_code[0] == 'V':\n",
    "        return 0\n",
    "    if icd_code[0] == 'E':\n",
    "        return 0\n",
    "\n",
    "    # Remove decimal point for comparison, if it exists\n",
    "    icd_code_num = int(icd_code.replace('.', '')) if '.' in icd_code else int(icd_code)\n",
    "\n",
    "    # Iterate through the dictionary and check the range\n",
    "    for class_code, codes_range in icd9_classes.items():\n",
    "        # Check if the numeric code is within the range specified\n",
    "        # If codes_range is a range object, use the start and stop attributes for comparison\n",
    "        if isinstance(codes_range, range):\n",
    "            if codes_range.start <= icd_code_num < codes_range.stop:\n",
    "                return class_code\n",
    "    # Return a default class if no range matches\n",
    "    return 0  # Assuming you want to default to class 0 if no other class is matched\n",
    "\n",
    "\n",
    "dfc['diag_1'] = dfc['diag_1'].astype(str)\n",
    "dfc['diag_2'] = dfc['diag_2'].astype(str)\n",
    "dfc['diag_3'] = dfc['diag_3'].astype(str)\n",
    "# Each value of the three colomns are coded and classified by icd9 classes\n",
    "dfc['diag_1'] = dfc['diag_1'].apply(icd9_to_class_code)\n",
    "dfc['diag_2'] = dfc['diag_2'].apply(icd9_to_class_code)\n",
    "dfc['diag_3'] = dfc['diag_3'].apply(icd9_to_class_code)"
   ]
  },
  {
   "cell_type": "markdown",
   "metadata": {
    "id": "NxcA83NYf0aM"
   },
   "source": [
    "<div style=\"background-color: #E0F0D7; padding: 10px; border-radius: 5px;\">\n",
    "    \n",
    "\n",
    "\n",
    "To address the issue of patients with multiple encounters in the dataset, various techniques were explored to consolidate these encounters, such as:\n",
    "\n",
    "1. Counting more than two readmissions across multiple encounters as a single readmission.\n",
    "2. Considering the average hospital stay across multiple encounters.\n",
    "3. Evaluating the percentage of medication changes across encounters.\n",
    "4. Replacing the unique encounter ID with the total number of encounters.\n",
    "5. Combining diagnoses from multiple encounters into a list.\n",
    "\n",
    "However, combining certain features like diagnoses into an array was found to be impractical for modeling. Separate consideration of the first and last encounters was also explored. The last encounters resulted in highly imbalanced data for readmissions (96% No Readmissions vs 4% Readmissions), leading to the decision to use only the first encounters of patients with multiple encounters. This approach reduced the dataset to about 68,000 encounters.\n",
    "</div>\n",
    "\n",
    "\n",
    "\n",
    "\n",
    "\n"
   ]
  },
  {
   "cell_type": "code",
   "execution_count": null,
   "metadata": {
    "colab": {
     "base_uri": "https://localhost:8080/"
    },
    "id": "CVcNJybnf03E",
    "outputId": "fab6ab23-fd62-4c83-f84f-586df9b75997"
   },
   "outputs": [
    {
     "data": {
      "text/plain": [
       "(68629, 46)"
      ]
     },
     "execution_count": 160,
     "metadata": {},
     "output_type": "execute_result"
    }
   ],
   "source": [
    "dfc = dfc.drop_duplicates(subset= ['patient_nbr'], keep = 'first')\n",
    "dfc.shape"
   ]
  },
  {
   "cell_type": "markdown",
   "metadata": {
    "id": "vPnrDfMgiR6j"
   },
   "source": [
    "<div style=\"background-color: #E0F0D7; padding: 10px; border-radius: 5px;\">\n",
    "    \n",
    "\n",
    "\n",
    "\n",
    "And finally, we must deal with the column that will represent the target column for our models of machine learning : 'readmitted'.\n",
    "</div>\n",
    "\n",
    "\n",
    "\n"
   ]
  },
  {
   "cell_type": "code",
   "execution_count": null,
   "metadata": {
    "colab": {
     "base_uri": "https://localhost:8080/"
    },
    "id": "NlC-QsEZivT8",
    "outputId": "3c5bf90a-f05d-4c1b-f28f-bdb5a6d5daad"
   },
   "outputs": [
    {
     "data": {
      "text/plain": [
       "array(['>30', 'NO', '<30'], dtype=object)"
      ]
     },
     "execution_count": 161,
     "metadata": {},
     "output_type": "execute_result"
    }
   ],
   "source": [
    "dfc['readmitted'].unique()"
   ]
  },
  {
   "cell_type": "markdown",
   "metadata": {
    "id": "-jrI64CO-MvR"
   },
   "source": [
    "<div style=\"background-color: #dff0d8; padding: 10px; border-radius: 5px;\">\n",
    "    \n",
    "\n",
    "\n",
    "\n",
    "We will group patients readmitted after 30 days with those not readmitted. This approach is based on the finding that early readmissions (within 30 days) are a more critical indicator for diabetic patients.\n",
    "\n",
    "Source : https://pubmed.ncbi.nlm.nih.gov/28702257/\n",
    "</div>\n",
    "\n",
    "\n",
    "\n"
   ]
  },
  {
   "cell_type": "code",
   "execution_count": null,
   "metadata": {
    "id": "11GI5tO_j_iK"
   },
   "outputs": [],
   "source": [
    "dfc['readmitted'] = dfc['readmitted'].replace('<30', 1)\n",
    "dfc['readmitted'] = dfc['readmitted'].replace('>30', 0)\n",
    "dfc['readmitted'] = dfc['readmitted'].replace('NO', 0)"
   ]
  },
  {
   "cell_type": "code",
   "execution_count": null,
   "metadata": {
    "colab": {
     "base_uri": "https://localhost:8080/"
    },
    "id": "w1Da39ppd6WT",
    "outputId": "e8398df9-b0fc-413c-9095-a91045380ebf"
   },
   "outputs": [
    {
     "data": {
      "text/plain": [
       "encounter_id                int64\n",
       "patient_nbr                 int64\n",
       "race                        int64\n",
       "gender                      int64\n",
       "age                         int64\n",
       "admission_type_id           int64\n",
       "discharge_disposition_id    int64\n",
       "admission_source_id         int64\n",
       "time_in_hospital            int64\n",
       "num_lab_procedures          int64\n",
       "num_procedures              int64\n",
       "num_medications             int64\n",
       "number_outpatient           int64\n",
       "number_emergency            int64\n",
       "number_inpatient            int64\n",
       "diag_1                      int64\n",
       "diag_2                      int64\n",
       "diag_3                      int64\n",
       "number_diagnoses            int64\n",
       "max_glu_serum               int64\n",
       "A1Cresult                   int64\n",
       "metformin                   int64\n",
       "repaglinide                 int64\n",
       "nateglinide                 int64\n",
       "chlorpropamide              int64\n",
       "glimepiride                 int64\n",
       "acetohexamide               int64\n",
       "glipizide                   int64\n",
       "glyburide                   int64\n",
       "tolbutamide                 int64\n",
       "pioglitazone                int64\n",
       "rosiglitazone               int64\n",
       "acarbose                    int64\n",
       "miglitol                    int64\n",
       "troglitazone                int64\n",
       "tolazamide                  int64\n",
       "insulin                     int64\n",
       "glyburide-metformin         int64\n",
       "glipizide-metformin         int64\n",
       "glimepiride-pioglitazone    int64\n",
       "metformin-pioglitazone      int64\n",
       "change                      int64\n",
       "diabetesMed                 int64\n",
       "readmitted                  int64\n",
       "number_services             int64\n",
       "numchange                   int64\n",
       "dtype: object"
      ]
     },
     "execution_count": 163,
     "metadata": {},
     "output_type": "execute_result"
    }
   ],
   "source": [
    "dfc.dtypes"
   ]
  },
  {
   "cell_type": "code",
   "execution_count": null,
   "metadata": {
    "id": "_C0FfJchsFBc"
   },
   "outputs": [],
   "source": [
    "dfc.to_csv('/content/drive/MyDrive/diabetic_data_clean.csv', index=False)"
   ]
  },
  {
   "cell_type": "markdown",
   "metadata": {
    "id": "BshDoUrv1VDN"
   },
   "source": [
    "<div class=\"alert alert-block alert-danger\" style=\"text-align: center; font-size: 30px; font-weight: bold;\">  \n",
    "   <a class='anchor' id='2'></a>\n",
    "   📊 2. Data Visualization 📊\n",
    "</div>"
   ]
  },
  {
   "cell_type": "markdown",
   "metadata": {},
   "source": [
    "<div style=\"background-color: red; padding: 10px; border-radius: 5px; text-align: center;\">\n",
    "    <a href=\"#sommaire\" style=\"text-decoration: none; color: white; font-size: 18px; font-weight: bold;\">\n",
    "        🚀 Retour au sommaire 🚀\n",
    "    </a>\n",
    "</div>"
   ]
  },
  {
   "cell_type": "markdown",
   "metadata": {
    "id": "wC3j0NqatEiZ"
   },
   "source": [
    "<div style=\"background-color: #F0DEDE; padding: 10px; border-radius: 5px;\">\n",
    "    \n",
    "\n",
    "\n",
    "\n",
    "We now create severals visuals concerning the dataset to get more information about what we're working on :\n",
    "</div>"
   ]
  },
  {
   "cell_type": "code",
   "execution_count": null,
   "metadata": {
    "colab": {
     "base_uri": "https://localhost:8080/",
     "height": 807
    },
    "id": "taqfM9rkw-TS",
    "outputId": "0a344068-5e53-4f1e-d26f-fa9982ce019e"
   },
   "outputs": [
    {
     "data": {
      "image/png": "[encoded data removed]",
      "text/plain": [
       "<Figure size 1000x800 with 2 Axes>"
      ]
     },
     "metadata": {},
     "output_type": "display_data"
    }
   ],
   "source": [
    "fig, axes = plt.subplots(nrows=2, ncols=1, figsize=(10, 8))\n",
    "\n",
    "dfc['readmittedTemp'] = dfc['readmitted'].map({0: 'No', 1: 'Yes'})\n",
    "\n",
    "readmitted_counts = dfc.groupby('age')['readmittedTemp'].value_counts().unstack().fillna(0)\n",
    "readmitted_no_percentage = dfc.groupby('age')['readmittedTemp'].apply(lambda x: (x == 'No').mean())\n",
    "\n",
    "dfc = dfc.drop('readmittedTemp', axis=1)\n",
    "\n",
    "# Histogram for number of readmitted patients by age ranges\n",
    "readmitted_counts.plot(kind='bar', stacked=True, ax=axes[0], color=colors)\n",
    "axes[0].set_title('Number of Readmitted Patients by Age Ranges')\n",
    "axes[0].set_xlabel('Age Ranges')\n",
    "axes[0].set_ylabel('Number of Readmitted Patients')\n",
    "axes[0].legend(title='Readmitted')\n",
    "axes[0].tick_params(axis='x', rotation=0)\n",
    "\n",
    "# percentage of 'No' values in readmitted col by age ranges\n",
    "axes[1].plot(readmitted_no_percentage, marker='o', color='teal')\n",
    "axes[1].set_title('Percentage of Non-Readmission by Age Ranges')\n",
    "axes[1].set_xlabel('Age Ranges')\n",
    "axes[1].set_ylabel('Percentage of Non-Readmission')\n",
    "axes[1].grid(True)\n",
    "\n",
    "\n",
    "plt.tight_layout()\n",
    "plt.show()\n",
    "#ajouter commentaire"
   ]
  },
  {
   "cell_type": "markdown",
   "metadata": {
    "id": "5x3ieOUK2VD0"
   },
   "source": [
    "<div style=\"background-color: #F0DEDE; padding: 10px; border-radius: 5px;\">\n",
    "    \n",
    "\n",
    "We can observe from these graphs that there is a higher prevalence of diabetes in older age groups. Furthermore, if we consider that a person who has not been readmitted is either cured or receiving effective treatment, we notice a plateau from the ages of 20 to 100 years. This suggests that children may have a better resistance to this disease.\n",
    "</div>\n",
    "\n",
    "\n"
   ]
  },
  {
   "cell_type": "code",
   "execution_count": null,
   "metadata": {
    "colab": {
     "base_uri": "https://localhost:8080/",
     "height": 564
    },
    "id": "vuGWtJTfprou",
    "outputId": "a31677c7-2f5f-406c-92bc-7513269ed6d2"
   },
   "outputs": [
    {
     "data": {
      "image/png": "[encoded data removed]",
      "text/plain": [
       "<Figure size 1200x600 with 1 Axes>"
      ]
     },
     "metadata": {},
     "output_type": "display_data"
    }
   ],
   "source": [
    "# Boxplot of stay duration by age ranges\n",
    "plt.figure(figsize=(12, 6))\n",
    "sns.boxplot(x='age', y='time_in_hospital', data=dfc)\n",
    "plt.title('Stay duration by age ranges')\n",
    "plt.xlabel('Age ranges')\n",
    "plt.ylabel('Stay duration (day)')\n",
    "plt.xticks(rotation=0)\n",
    "plt.show()"
   ]
  },
  {
   "cell_type": "markdown",
   "metadata": {
    "id": "347pqKVkdb-p"
   },
   "source": [
    "<div style=\"background-color: #F0DEDE; padding: 10px; border-radius: 5px;\">\n",
    "    \n",
    "\n",
    "\n",
    "We can observe that the length of the interquartile range of the boxplots tends to increase with the age ranges. This suggests that older patients generally have longer hospital stays. This highlights the findings of the previous observation: younger people tend to be more resilient than older individuals\n",
    "</div>\n",
    "\n"
   ]
  },
  {
   "cell_type": "code",
   "execution_count": null,
   "metadata": {
    "colab": {
     "base_uri": "https://localhost:8080/",
     "height": 829
    },
    "id": "MgQGr7oCtx3t",
    "outputId": "7e2f3daa-717e-4ce5-e121-d29de1d65ef8"
   },
   "outputs": [
    {
     "data": {
      "image/png": "[encoded data removed]",
      "text/plain": [
       "<Figure size 1000x800 with 2 Axes>"
      ]
     },
     "metadata": {},
     "output_type": "display_data"
    }
   ],
   "source": [
    "# Columns to correlate\n",
    "cols_of_interest = ['num_lab_procedures', 'num_procedures', 'num_medications', 'number_outpatient',\n",
    "                    'number_emergency', 'number_inpatient', 'number_diagnoses']\n",
    "\n",
    "# correlation matrix calculation\n",
    "correlation_matrix = dfc[cols_of_interest].corr()\n",
    "\n",
    "# heatmap\n",
    "plt.figure(figsize=(10, 8))\n",
    "sns.heatmap(correlation_matrix, annot=True, cmap='coolwarm', fmt='.2f', square=True)\n",
    "plt.title('Correlation matrix for medical variables')\n",
    "plt.show()\n"
   ]
  },
  {
   "cell_type": "markdown",
   "metadata": {
    "id": "huHYXWd0vSde"
   },
   "source": [
    "<div style=\"background-color: #F0DEDE; padding: 10px; border-radius: 5px;\">\n",
    "    \n",
    "\n",
    "\n",
    "We tried to get a correlation between any of the numeric variables, corresponding to the number of medications, protocols, encounters, diagnosses...\n",
    "It appears that there is no relevant correlation between these variables. The illness seems to have several curing procedures. Thus we need to establish predictive model in our model.\n",
    "</div>\n",
    "\n"
   ]
  },
  {
   "cell_type": "code",
   "execution_count": null,
   "metadata": {
    "colab": {
     "base_uri": "https://localhost:8080/",
     "height": 807
    },
    "id": "9OGmNPHRyPJn",
    "outputId": "7366854b-dd3c-4f98-9cc0-5c15e90abb86"
   },
   "outputs": [
    {
     "data": {
      "image/png": "[encoded data removed]",
      "text/plain": [
       "<Figure size 1400x800 with 1 Axes>"
      ]
     },
     "metadata": {},
     "output_type": "display_data"
    }
   ],
   "source": [
    "medication_columns = dfc.columns[21:42]\n",
    "medication_usage = (dfc[medication_columns] != 0).sum().sort_values(ascending=False)\n",
    "plt.figure(figsize=(14, 8))\n",
    "bars = plt.bar(medication_usage.index, medication_usage, color='skyblue')\n",
    "\n",
    "for bar in bars:\n",
    "    yval = bar.get_height()\n",
    "    plt.text(bar.get_x() + bar.get_width() / 2, yval, int(yval), ha='center', va='bottom')\n",
    "\n",
    "plt.title('Number of Patients Taking Each Medication')\n",
    "plt.xlabel('Medication')\n",
    "plt.ylabel('Number of Patients')\n",
    "plt.xticks(rotation=90)\n",
    "plt.tight_layout()\n",
    "plt.show()\n"
   ]
  },
  {
   "cell_type": "code",
   "execution_count": null,
   "metadata": {
    "colab": {
     "base_uri": "https://localhost:8080/",
     "height": 754
    },
    "id": "tiSHbP82hbNw",
    "outputId": "7aa3c0da-36b8-450a-d676-82a8c5008a25",
    "scrolled": false
   },
   "outputs": [
    {
     "name": "stderr",
     "output_type": "stream",
     "text": [
      "WARNING:matplotlib.text:posx and posy should be finite values\n",
      "WARNING:matplotlib.text:posx and posy should be finite values\n"
     ]
    },
    {
     "data": {
      "image/png": "[encoded data removed]",
      "text/plain": [
       "<Figure size 2000x1000 with 1 Axes>"
      ]
     },
     "metadata": {},
     "output_type": "display_data"
    }
   ],
   "source": [
    "medication_columns = dfc.columns[21:41]\n",
    "\n",
    "total_medication_usage = (dfc[medication_columns] != 0).sum()\n",
    "non_readmitted_usage = dfc[dfc['readmitted'] == 0][medication_columns].apply(lambda x: (x != 0).sum())\n",
    "\n",
    "percentage_non_readmitted = (non_readmitted_usage / total_medication_usage * 100).sort_values(ascending=False)\n",
    "sorted_total_usage = total_medication_usage[percentage_non_readmitted.index]\n",
    "\n",
    "plt.figure(figsize=(20, 10))  # Ajustez la taille du graphique si nécessaire\n",
    "bars = plt.bar(percentage_non_readmitted.index, percentage_non_readmitted, color='skyblue')\n",
    "\n",
    "# display fontsize\n",
    "fontsize = 10\n",
    "\n",
    "# Add each value on top of each bar\n",
    "for bar, total in zip(bars, sorted_total_usage):\n",
    "    yval = bar.get_height()\n",
    "    plt.text(bar.get_x() + bar.get_width() / 2, yval,\n",
    "             f'{yval:.2f}%\\n({total})', ha='center', va='bottom', fontsize=fontsize)\n",
    "\n",
    "plt.title('Percentage and Total Number of Non-Readmitted Patients Taking Each Medication')\n",
    "plt.xlabel('Medication')\n",
    "plt.ylabel('Percentage of Non-Readmitted Patients')\n",
    "plt.xticks(rotation=90)\n",
    "plt.tight_layout()\n",
    "plt.show()\n"
   ]
  },
  {
   "cell_type": "markdown",
   "metadata": {
    "id": "huHYXWd0vSde"
   },
   "source": [
    "<div style=\"background-color: #F0DEDE; padding: 10px; border-radius: 5px;\">\n",
    "    \n",
    "\n",
    "\n",
    "<i>100% medications aren't relevant, as they are very rarely distributed</i>\n",
    "</div>\n",
    "\n"
   ]
  },
  {
   "cell_type": "code",
   "execution_count": null,
   "metadata": {
    "colab": {
     "base_uri": "https://localhost:8080/",
     "height": 849
    },
    "id": "J8m6fcV-gcYy",
    "outputId": "4ec03625-67f0-48a3-ebd5-96ee7012fb60"
   },
   "outputs": [
    {
     "name": "stderr",
     "output_type": "stream",
     "text": [
      "<ipython-input-200-74d890529b3a>:2: FutureWarning: \n",
      "\n",
      "`shade` is now deprecated in favor of `fill`; setting `fill=True`.\n",
      "This will become an error in seaborn v0.14.0; please update your code.\n",
      "\n",
      "  ax=sns.kdeplot(dfc.loc[(dfc['readmitted'] == 0),'time_in_hospital'] , color='b',shade=True,label='Not Readmitted')\n",
      "<ipython-input-200-74d890529b3a>:3: FutureWarning: \n",
      "\n",
      "`shade` is now deprecated in favor of `fill`; setting `fill=True`.\n",
      "This will become an error in seaborn v0.14.0; please update your code.\n",
      "\n",
      "  ax=sns.kdeplot(dfc.loc[(dfc['readmitted'] == 1),'time_in_hospital'] , color='r',shade=True, label='Readmitted')\n"
     ]
    },
    {
     "data": {
      "image/png": "[encoded data removed]",
      "text/plain": [
       "<Figure size 1300x700 with 1 Axes>"
      ]
     },
     "metadata": {},
     "output_type": "display_data"
    }
   ],
   "source": [
    "fig = plt.figure(figsize=(13,7),)\n",
    "ax=sns.kdeplot(dfc.loc[(dfc['readmitted'] == 0),'time_in_hospital'] , color='b',shade=True,label='Not Readmitted')\n",
    "ax=sns.kdeplot(dfc.loc[(dfc['readmitted'] == 1),'time_in_hospital'] , color='r',shade=True, label='Readmitted')\n",
    "ax.set(xlabel='Time in Hospital', ylabel='Frequency')\n",
    "plt.title('Time in Hospital VS. Readmission')\n",
    "\n",
    "plt.show()\n"
   ]
  },
  {
   "cell_type": "code",
   "execution_count": null,
   "metadata": {
    "colab": {
     "base_uri": "https://localhost:8080/",
     "height": 772
    },
    "id": "3u5bTuHelicz",
    "outputId": "35ae6d90-c5f1-4c35-e467-cd16816740bc"
   },
   "outputs": [
    {
     "name": "stderr",
     "output_type": "stream",
     "text": [
      "<ipython-input-206-ae9eb329f6f8>:2: FutureWarning: \n",
      "\n",
      "`shade` is now deprecated in favor of `fill`; setting `fill=True`.\n",
      "This will become an error in seaborn v0.14.0; please update your code.\n",
      "\n",
      "  ax=sns.kdeplot(dfc.loc[(dfc['readmitted'] == 0),'num_lab_procedures'] , color='b',shade=True,label='Not readmitted')\n",
      "<ipython-input-206-ae9eb329f6f8>:3: FutureWarning: \n",
      "\n",
      "`shade` is now deprecated in favor of `fill`; setting `fill=True`.\n",
      "This will become an error in seaborn v0.14.0; please update your code.\n",
      "\n",
      "  ax=sns.kdeplot(dfc.loc[(dfc['readmitted'] == 1),'num_lab_procedures'] , color='r',shade=True, label='readmitted')\n"
     ]
    },
    {
     "data": {
      "image/png": "[encoded data removed]",
      "text/plain": [
       "<Figure size 1500x600 with 1 Axes>"
      ]
     },
     "metadata": {},
     "output_type": "display_data"
    }
   ],
   "source": [
    "fig = plt.figure(figsize=(15,6),)\n",
    "ax=sns.kdeplot(dfc.loc[(dfc['readmitted'] == 0),'num_lab_procedures'] , color='b',shade=True,label='Not readmitted')\n",
    "ax=sns.kdeplot(dfc.loc[(dfc['readmitted'] == 1),'num_lab_procedures'] , color='r',shade=True, label='readmitted')\n",
    "ax.set(xlabel='Number of lab procedure', ylabel='Frequency')\n",
    "plt.title('Number of lab procedure VS. Readmission')\n",
    "\n",
    "plt.show()"
   ]
  },
  {
   "cell_type": "markdown",
   "metadata": {
    "id": "vtQtOCzh1Yn2"
   },
   "source": [
    "<div class=\"alert alert-block alert-info\" style=\"text-align: center; font-size: 30px; font-weight: bold;\">  \n",
    "   <a class='anchor' id='3'></a>\n",
    "   📇 3. Model 📇\n",
    "</div>\n"
   ]
  },
  {
   "cell_type": "markdown",
   "metadata": {
    "id": "T2OXS7fevRwg"
   },
   "source": [
    "<div style=\"background-color: #DBEDF8; padding: 10px; border-radius: 5px; text-align: center;\">\n",
    "    <a href=\"#sommaire\" style=\"text-decoration: none; color: #3C7090; font-size: 18px; font-weight: bold;\">\n",
    "        🚀 Retour au sommaire 🚀\n",
    "    </a>\n",
    "</div>"
   ]
  },
  {
   "cell_type": "markdown",
   "metadata": {
    "id": "sjiVkGfTvRwg"
   },
   "source": [
    "<div style=\"background-color: #DBEDF8; padding: 10px; border-radius: 5px;\">\n",
    "\n",
    "   <b><h3>· Importation</h3></b>\n",
    "\n",
    "</div>"
   ]
  },
  {
   "cell_type": "code",
   "execution_count": null,
   "metadata": {
    "id": "goKioJYZvRwg"
   },
   "outputs": [],
   "source": [
    "from sklearn.model_selection import train_test_split\n",
    "from sklearn.ensemble import RandomForestClassifier\n",
    "from sklearn.metrics import accuracy_score, recall_score, f1_score, precision_score, confusion_matrix, classification_report\n",
    "from sklearn.preprocessing import StandardScaler, LabelEncoder\n",
    "from sklearn.svm import SVC\n",
    "from sklearn.neural_network import MLPClassifier\n",
    "\n",
    "import pandas as pd\n",
    "import numpy as np\n",
    "import matplotlib.pyplot as plt\n",
    "import seaborn as sns"
   ]
  },
  {
   "cell_type": "code",
   "execution_count": null,
   "metadata": {
    "colab": {
     "base_uri": "https://localhost:8080/"
    },
    "id": "5dez6opxwh3B",
    "outputId": "a3c5a0fd-27d8-40fb-b4d3-d19ce0b04916"
   },
   "outputs": [
    {
     "name": "stdout",
     "output_type": "stream",
     "text": [
      "Drive already mounted at /content/drive; to attempt to forcibly remount, call drive.mount(\"/content/drive\", force_remount=True).\n"
     ]
    }
   ],
   "source": [
    "from google.colab import drive\n",
    "drive.mount('/content/drive')\n",
    "\n",
    "dfc = pd.read_csv(\"/content/drive/MyDrive/diabetic_data_clean.csv\")"
   ]
  },
  {
   "cell_type": "code",
   "execution_count": null,
   "metadata": {
    "id": "SldB0Y0YtvV4"
   },
   "outputs": [],
   "source": [
    "interactionterms = [('num_medications','time_in_hospital'),\n",
    "('num_medications','num_procedures'),\n",
    "('time_in_hospital','num_lab_procedures'),\n",
    "('num_medications','num_lab_procedures'),\n",
    "('num_medications','number_diagnoses'),\n",
    "('age','number_diagnoses'),\n",
    "('change','num_medications'),\n",
    "('number_diagnoses','time_in_hospital'),\n",
    "('num_medications','numchange')]"
   ]
  },
  {
   "cell_type": "code",
   "execution_count": null,
   "metadata": {
    "id": "l3FvL9vctwb5"
   },
   "outputs": [],
   "source": [
    "for inter in interactionterms:\n",
    "    name = inter[0] + '|' + inter[1]\n",
    "    dfc[name] = dfc[inter[0]] * dfc[inter[1]]"
   ]
  },
  {
   "cell_type": "code",
   "execution_count": null,
   "metadata": {
    "colab": {
     "base_uri": "https://localhost:8080/",
     "height": 206
    },
    "id": "rhELr62Ft1Hj",
    "outputId": "71c362de-9510-4363-f07d-687b7626fd91"
   },
   "outputs": [
    {
     "data": {
      "text/html": [
       "\n",
       "  <div id=\"df-8af708e1-a435-488c-8724-1128d793fccc\" class=\"colab-df-container\">\n",
       "    <div>\n",
       "<style scoped>\n",
       "    .dataframe tbody tr th:only-of-type {\n",
       "        vertical-align: middle;\n",
       "    }\n",
       "\n",
       "    .dataframe tbody tr th {\n",
       "        vertical-align: top;\n",
       "    }\n",
       "\n",
       "    .dataframe thead th {\n",
       "        text-align: right;\n",
       "    }\n",
       "</style>\n",
       "<table border=\"1\" class=\"dataframe\">\n",
       "  <thead>\n",
       "    <tr style=\"text-align: right;\">\n",
       "      <th></th>\n",
       "      <th>num_medications</th>\n",
       "      <th>time_in_hospital</th>\n",
       "      <th>num_medications|time_in_hospital</th>\n",
       "    </tr>\n",
       "  </thead>\n",
       "  <tbody>\n",
       "    <tr>\n",
       "      <th>1</th>\n",
       "      <td>18</td>\n",
       "      <td>3</td>\n",
       "      <td>54</td>\n",
       "    </tr>\n",
       "    <tr>\n",
       "      <th>2</th>\n",
       "      <td>13</td>\n",
       "      <td>2</td>\n",
       "      <td>26</td>\n",
       "    </tr>\n",
       "    <tr>\n",
       "      <th>3</th>\n",
       "      <td>16</td>\n",
       "      <td>2</td>\n",
       "      <td>32</td>\n",
       "    </tr>\n",
       "    <tr>\n",
       "      <th>4</th>\n",
       "      <td>8</td>\n",
       "      <td>1</td>\n",
       "      <td>8</td>\n",
       "    </tr>\n",
       "    <tr>\n",
       "      <th>5</th>\n",
       "      <td>16</td>\n",
       "      <td>3</td>\n",
       "      <td>48</td>\n",
       "    </tr>\n",
       "  </tbody>\n",
       "</table>\n",
       "</div>\n",
       "    <div class=\"colab-df-buttons\">\n",
       "\n",
       "  <div class=\"colab-df-container\">\n",
       "    <button class=\"colab-df-convert\" onclick=\"convertToInteractive('df-8af708e1-a435-488c-8724-1128d793fccc')\"\n",
       "            title=\"Convert this dataframe to an interactive table.\"\n",
       "            style=\"display:none;\">\n",
       "\n",
       "  <svg xmlns=\"http://www.w3.org/2000/svg\" height=\"24px\" viewBox=\"0 -960 960 960\">\n",
       "    <path d=\"M120-120v-720h720v720H120Zm60-500h600v-160H180v160Zm220 220h160v-160H400v160Zm0 220h160v-160H400v160ZM180-400h160v-160H180v160Zm440 0h160v-160H620v160ZM180-180h160v-160H180v160Zm440 0h160v-160H620v160Z\"/>\n",
       "  </svg>\n",
       "    </button>\n",
       "\n",
       "  <style>\n",
       "    .colab-df-container {\n",
       "      display:flex;\n",
       "      gap: 12px;\n",
       "    }\n",
       "\n",
       "    .colab-df-convert {\n",
       "      background-color: #E8F0FE;\n",
       "      border: none;\n",
       "      border-radius: 50%;\n",
       "      cursor: pointer;\n",
       "      display: none;\n",
       "      fill: #1967D2;\n",
       "      height: 32px;\n",
       "      padding: 0 0 0 0;\n",
       "      width: 32px;\n",
       "    }\n",
       "\n",
       "    .colab-df-convert:hover {\n",
       "      background-color: #E2EBFA;\n",
       "      box-shadow: 0px 1px 2px rgba(60, 64, 67, 0.3), 0px 1px 3px 1px rgba(60, 64, 67, 0.15);\n",
       "      fill: #174EA6;\n",
       "    }\n",
       "\n",
       "    .colab-df-buttons div {\n",
       "      margin-bottom: 4px;\n",
       "    }\n",
       "\n",
       "    [theme=dark] .colab-df-convert {\n",
       "      background-color: #3B4455;\n",
       "      fill: #D2E3FC;\n",
       "    }\n",
       "\n",
       "    [theme=dark] .colab-df-convert:hover {\n",
       "      background-color: #434B5C;\n",
       "      box-shadow: 0px 1px 3px 1px rgba(0, 0, 0, 0.15);\n",
       "      filter: drop-shadow(0px 1px 2px rgba(0, 0, 0, 0.3));\n",
       "      fill: #FFFFFF;\n",
       "    }\n",
       "  </style>\n",
       "\n",
       "    <script>\n",
       "      const buttonEl =\n",
       "        document.querySelector('#df-8af708e1-a435-488c-8724-1128d793fccc button.colab-df-convert');\n",
       "      buttonEl.style.display =\n",
       "        google.colab.kernel.accessAllowed ? 'block' : 'none';\n",
       "\n",
       "      async function convertToInteractive(key) {\n",
       "        const element = document.querySelector('#df-8af708e1-a435-488c-8724-1128d793fccc');\n",
       "        const dataTable =\n",
       "          await google.colab.kernel.invokeFunction('convertToInteractive',\n",
       "                                                    [key], {});\n",
       "        if (!dataTable) return;\n",
       "\n",
       "        const docLinkHtml = 'Like what you see? Visit the ' +\n",
       "          '<a target=\"_blank\" href=https://colab.research.google.com/notebooks/data_table.ipynb>data table notebook</a>'\n",
       "          + ' to learn more about interactive tables.';\n",
       "        element.innerHTML = '';\n",
       "        dataTable['output_type'] = 'display_data';\n",
       "        await google.colab.output.renderOutput(dataTable, element);\n",
       "        const docLink = document.createElement('div');\n",
       "        docLink.innerHTML = docLinkHtml;\n",
       "        element.appendChild(docLink);\n",
       "      }\n",
       "    </script>\n",
       "  </div>\n",
       "\n",
       "\n",
       "<div id=\"df-13000f99-f023-4627-9085-bf9c0b245d32\">\n",
       "  <button class=\"colab-df-quickchart\" onclick=\"quickchart('df-13000f99-f023-4627-9085-bf9c0b245d32')\"\n",
       "            title=\"Suggest charts\"\n",
       "            style=\"display:none;\">\n",
       "\n",
       "<svg xmlns=\"http://www.w3.org/2000/svg\" height=\"24px\"viewBox=\"0 0 24 24\"\n",
       "     width=\"24px\">\n",
       "    <g>\n",
       "        <path d=\"M19 3H5c-1.1 0-2 .9-2 2v14c0 1.1.9 2 2 2h14c1.1 0 2-.9 2-2V5c0-1.1-.9-2-2-2zM9 17H7v-7h2v7zm4 0h-2V7h2v10zm4 0h-2v-4h2v4z\"/>\n",
       "    </g>\n",
       "</svg>\n",
       "  </button>\n",
       "\n",
       "<style>\n",
       "  .colab-df-quickchart {\n",
       "      --bg-color: #E8F0FE;\n",
       "      --fill-color: #1967D2;\n",
       "      --hover-bg-color: #E2EBFA;\n",
       "      --hover-fill-color: #174EA6;\n",
       "      --disabled-fill-color: #AAA;\n",
       "      --disabled-bg-color: #DDD;\n",
       "  }\n",
       "\n",
       "  [theme=dark] .colab-df-quickchart {\n",
       "      --bg-color: #3B4455;\n",
       "      --fill-color: #D2E3FC;\n",
       "      --hover-bg-color: #434B5C;\n",
       "      --hover-fill-color: #FFFFFF;\n",
       "      --disabled-bg-color: #3B4455;\n",
       "      --disabled-fill-color: #666;\n",
       "  }\n",
       "\n",
       "  .colab-df-quickchart {\n",
       "    background-color: var(--bg-color);\n",
       "    border: none;\n",
       "    border-radius: 50%;\n",
       "    cursor: pointer;\n",
       "    display: none;\n",
       "    fill: var(--fill-color);\n",
       "    height: 32px;\n",
       "    padding: 0;\n",
       "    width: 32px;\n",
       "  }\n",
       "\n",
       "  .colab-df-quickchart:hover {\n",
       "    background-color: var(--hover-bg-color);\n",
       "    box-shadow: 0 1px 2px rgba(60, 64, 67, 0.3), 0 1px 3px 1px rgba(60, 64, 67, 0.15);\n",
       "    fill: var(--button-hover-fill-color);\n",
       "  }\n",
       "\n",
       "  .colab-df-quickchart-complete:disabled,\n",
       "  .colab-df-quickchart-complete:disabled:hover {\n",
       "    background-color: var(--disabled-bg-color);\n",
       "    fill: var(--disabled-fill-color);\n",
       "    box-shadow: none;\n",
       "  }\n",
       "\n",
       "  .colab-df-spinner {\n",
       "    border: 2px solid var(--fill-color);\n",
       "    border-color: transparent;\n",
       "    border-bottom-color: var(--fill-color);\n",
       "    animation:\n",
       "      spin 1s steps(1) infinite;\n",
       "  }\n",
       "\n",
       "  @keyframes spin {\n",
       "    0% {\n",
       "      border-color: transparent;\n",
       "      border-bottom-color: var(--fill-color);\n",
       "      border-left-color: var(--fill-color);\n",
       "    }\n",
       "    20% {\n",
       "      border-color: transparent;\n",
       "      border-left-color: var(--fill-color);\n",
       "      border-top-color: var(--fill-color);\n",
       "    }\n",
       "    30% {\n",
       "      border-color: transparent;\n",
       "      border-left-color: var(--fill-color);\n",
       "      border-top-color: var(--fill-color);\n",
       "      border-right-color: var(--fill-color);\n",
       "    }\n",
       "    40% {\n",
       "      border-color: transparent;\n",
       "      border-right-color: var(--fill-color);\n",
       "      border-top-color: var(--fill-color);\n",
       "    }\n",
       "    60% {\n",
       "      border-color: transparent;\n",
       "      border-right-color: var(--fill-color);\n",
       "    }\n",
       "    80% {\n",
       "      border-color: transparent;\n",
       "      border-right-color: var(--fill-color);\n",
       "      border-bottom-color: var(--fill-color);\n",
       "    }\n",
       "    90% {\n",
       "      border-color: transparent;\n",
       "      border-bottom-color: var(--fill-color);\n",
       "    }\n",
       "  }\n",
       "</style>\n",
       "\n",
       "  <script>\n",
       "    async function quickchart(key) {\n",
       "      const quickchartButtonEl =\n",
       "        document.querySelector('#' + key + ' button');\n",
       "      quickchartButtonEl.disabled = true;  // To prevent multiple clicks.\n",
       "      quickchartButtonEl.classList.add('colab-df-spinner');\n",
       "      try {\n",
       "        const charts = await google.colab.kernel.invokeFunction(\n",
       "            'suggestCharts', [key], {});\n",
       "      } catch (error) {\n",
       "        console.error('Error during call to suggestCharts:', error);\n",
       "      }\n",
       "      quickchartButtonEl.classList.remove('colab-df-spinner');\n",
       "      quickchartButtonEl.classList.add('colab-df-quickchart-complete');\n",
       "    }\n",
       "    (() => {\n",
       "      let quickchartButtonEl =\n",
       "        document.querySelector('#df-13000f99-f023-4627-9085-bf9c0b245d32 button');\n",
       "      quickchartButtonEl.style.display =\n",
       "        google.colab.kernel.accessAllowed ? 'block' : 'none';\n",
       "    })();\n",
       "  </script>\n",
       "</div>\n",
       "    </div>\n",
       "  </div>\n"
      ],
      "text/plain": [
       "   num_medications  time_in_hospital  num_medications|time_in_hospital\n",
       "1               18                 3                                54\n",
       "2               13                 2                                26\n",
       "3               16                 2                                32\n",
       "4                8                 1                                 8\n",
       "5               16                 3                                48"
      ]
     },
     "execution_count": 208,
     "metadata": {},
     "output_type": "execute_result"
    }
   ],
   "source": [
    "dfc[['num_medications','time_in_hospital', 'num_medications|time_in_hospital']].head()"
   ]
  },
  {
   "cell_type": "code",
   "execution_count": null,
   "metadata": {
    "colab": {
     "base_uri": "https://localhost:8080/",
     "height": 273
    },
    "id": "eDWbhfjv1cRP",
    "outputId": "b8965f91-26eb-4900-ca4b-12fb68877a43"
   },
   "outputs": [
    {
     "data": {
      "text/html": [
       "\n",
       "  <div id=\"df-658bb435-db34-434c-b6cb-e3cd426ebd24\" class=\"colab-df-container\">\n",
       "    <div>\n",
       "<style scoped>\n",
       "    .dataframe tbody tr th:only-of-type {\n",
       "        vertical-align: middle;\n",
       "    }\n",
       "\n",
       "    .dataframe tbody tr th {\n",
       "        vertical-align: top;\n",
       "    }\n",
       "\n",
       "    .dataframe thead th {\n",
       "        text-align: right;\n",
       "    }\n",
       "</style>\n",
       "<table border=\"1\" class=\"dataframe\">\n",
       "  <thead>\n",
       "    <tr style=\"text-align: right;\">\n",
       "      <th></th>\n",
       "      <th>age</th>\n",
       "      <th>time_in_hospital</th>\n",
       "      <th>num_procedures</th>\n",
       "      <th>num_medications</th>\n",
       "      <th>number_outpatient</th>\n",
       "      <th>number_emergency</th>\n",
       "      <th>number_inpatient</th>\n",
       "      <th>number_diagnoses</th>\n",
       "      <th>metformin</th>\n",
       "      <th>repaglinide</th>\n",
       "      <th>...</th>\n",
       "      <th>insulin</th>\n",
       "      <th>glyburide-metformin</th>\n",
       "      <th>gender</th>\n",
       "      <th>race</th>\n",
       "      <th>admission_type_id</th>\n",
       "      <th>discharge_disposition_id</th>\n",
       "      <th>admission_source_id</th>\n",
       "      <th>max_glu_serum</th>\n",
       "      <th>A1Cresult</th>\n",
       "      <th>diag_1</th>\n",
       "    </tr>\n",
       "  </thead>\n",
       "  <tbody>\n",
       "    <tr>\n",
       "      <th>1</th>\n",
       "      <td>2</td>\n",
       "      <td>3</td>\n",
       "      <td>0</td>\n",
       "      <td>18</td>\n",
       "      <td>0</td>\n",
       "      <td>0</td>\n",
       "      <td>0</td>\n",
       "      <td>9</td>\n",
       "      <td>0</td>\n",
       "      <td>0</td>\n",
       "      <td>...</td>\n",
       "      <td>1</td>\n",
       "      <td>0</td>\n",
       "      <td>1</td>\n",
       "      <td>1</td>\n",
       "      <td>1</td>\n",
       "      <td>1</td>\n",
       "      <td>7</td>\n",
       "      <td>-1</td>\n",
       "      <td>-1</td>\n",
       "      <td>3</td>\n",
       "    </tr>\n",
       "    <tr>\n",
       "      <th>2</th>\n",
       "      <td>3</td>\n",
       "      <td>2</td>\n",
       "      <td>5</td>\n",
       "      <td>13</td>\n",
       "      <td>2</td>\n",
       "      <td>0</td>\n",
       "      <td>1</td>\n",
       "      <td>6</td>\n",
       "      <td>0</td>\n",
       "      <td>0</td>\n",
       "      <td>...</td>\n",
       "      <td>0</td>\n",
       "      <td>0</td>\n",
       "      <td>1</td>\n",
       "      <td>2</td>\n",
       "      <td>1</td>\n",
       "      <td>1</td>\n",
       "      <td>7</td>\n",
       "      <td>-1</td>\n",
       "      <td>-1</td>\n",
       "      <td>11</td>\n",
       "    </tr>\n",
       "    <tr>\n",
       "      <th>3</th>\n",
       "      <td>4</td>\n",
       "      <td>2</td>\n",
       "      <td>1</td>\n",
       "      <td>16</td>\n",
       "      <td>0</td>\n",
       "      <td>0</td>\n",
       "      <td>0</td>\n",
       "      <td>7</td>\n",
       "      <td>0</td>\n",
       "      <td>0</td>\n",
       "      <td>...</td>\n",
       "      <td>1</td>\n",
       "      <td>0</td>\n",
       "      <td>0</td>\n",
       "      <td>1</td>\n",
       "      <td>1</td>\n",
       "      <td>1</td>\n",
       "      <td>7</td>\n",
       "      <td>-1</td>\n",
       "      <td>-1</td>\n",
       "      <td>1</td>\n",
       "    </tr>\n",
       "    <tr>\n",
       "      <th>4</th>\n",
       "      <td>5</td>\n",
       "      <td>1</td>\n",
       "      <td>0</td>\n",
       "      <td>8</td>\n",
       "      <td>0</td>\n",
       "      <td>0</td>\n",
       "      <td>0</td>\n",
       "      <td>5</td>\n",
       "      <td>0</td>\n",
       "      <td>0</td>\n",
       "      <td>...</td>\n",
       "      <td>1</td>\n",
       "      <td>0</td>\n",
       "      <td>0</td>\n",
       "      <td>1</td>\n",
       "      <td>1</td>\n",
       "      <td>1</td>\n",
       "      <td>7</td>\n",
       "      <td>-1</td>\n",
       "      <td>-1</td>\n",
       "      <td>2</td>\n",
       "    </tr>\n",
       "    <tr>\n",
       "      <th>5</th>\n",
       "      <td>6</td>\n",
       "      <td>3</td>\n",
       "      <td>6</td>\n",
       "      <td>16</td>\n",
       "      <td>0</td>\n",
       "      <td>0</td>\n",
       "      <td>0</td>\n",
       "      <td>9</td>\n",
       "      <td>0</td>\n",
       "      <td>0</td>\n",
       "      <td>...</td>\n",
       "      <td>1</td>\n",
       "      <td>0</td>\n",
       "      <td>0</td>\n",
       "      <td>1</td>\n",
       "      <td>2</td>\n",
       "      <td>1</td>\n",
       "      <td>2</td>\n",
       "      <td>-1</td>\n",
       "      <td>-1</td>\n",
       "      <td>7</td>\n",
       "    </tr>\n",
       "  </tbody>\n",
       "</table>\n",
       "<p>5 rows × 29 columns</p>\n",
       "</div>\n",
       "    <div class=\"colab-df-buttons\">\n",
       "\n",
       "  <div class=\"colab-df-container\">\n",
       "    <button class=\"colab-df-convert\" onclick=\"convertToInteractive('df-658bb435-db34-434c-b6cb-e3cd426ebd24')\"\n",
       "            title=\"Convert this dataframe to an interactive table.\"\n",
       "            style=\"display:none;\">\n",
       "\n",
       "  <svg xmlns=\"http://www.w3.org/2000/svg\" height=\"24px\" viewBox=\"0 -960 960 960\">\n",
       "    <path d=\"M120-120v-720h720v720H120Zm60-500h600v-160H180v160Zm220 220h160v-160H400v160Zm0 220h160v-160H400v160ZM180-400h160v-160H180v160Zm440 0h160v-160H620v160ZM180-180h160v-160H180v160Zm440 0h160v-160H620v160Z\"/>\n",
       "  </svg>\n",
       "    </button>\n",
       "\n",
       "  <style>\n",
       "    .colab-df-container {\n",
       "      display:flex;\n",
       "      gap: 12px;\n",
       "    }\n",
       "\n",
       "    .colab-df-convert {\n",
       "      background-color: #E8F0FE;\n",
       "      border: none;\n",
       "      border-radius: 50%;\n",
       "      cursor: pointer;\n",
       "      display: none;\n",
       "      fill: #1967D2;\n",
       "      height: 32px;\n",
       "      padding: 0 0 0 0;\n",
       "      width: 32px;\n",
       "    }\n",
       "\n",
       "    .colab-df-convert:hover {\n",
       "      background-color: #E2EBFA;\n",
       "      box-shadow: 0px 1px 2px rgba(60, 64, 67, 0.3), 0px 1px 3px 1px rgba(60, 64, 67, 0.15);\n",
       "      fill: #174EA6;\n",
       "    }\n",
       "\n",
       "    .colab-df-buttons div {\n",
       "      margin-bottom: 4px;\n",
       "    }\n",
       "\n",
       "    [theme=dark] .colab-df-convert {\n",
       "      background-color: #3B4455;\n",
       "      fill: #D2E3FC;\n",
       "    }\n",
       "\n",
       "    [theme=dark] .colab-df-convert:hover {\n",
       "      background-color: #434B5C;\n",
       "      box-shadow: 0px 1px 3px 1px rgba(0, 0, 0, 0.15);\n",
       "      filter: drop-shadow(0px 1px 2px rgba(0, 0, 0, 0.3));\n",
       "      fill: #FFFFFF;\n",
       "    }\n",
       "  </style>\n",
       "\n",
       "    <script>\n",
       "      const buttonEl =\n",
       "        document.querySelector('#df-658bb435-db34-434c-b6cb-e3cd426ebd24 button.colab-df-convert');\n",
       "      buttonEl.style.display =\n",
       "        google.colab.kernel.accessAllowed ? 'block' : 'none';\n",
       "\n",
       "      async function convertToInteractive(key) {\n",
       "        const element = document.querySelector('#df-658bb435-db34-434c-b6cb-e3cd426ebd24');\n",
       "        const dataTable =\n",
       "          await google.colab.kernel.invokeFunction('convertToInteractive',\n",
       "                                                    [key], {});\n",
       "        if (!dataTable) return;\n",
       "\n",
       "        const docLinkHtml = 'Like what you see? Visit the ' +\n",
       "          '<a target=\"_blank\" href=https://colab.research.google.com/notebooks/data_table.ipynb>data table notebook</a>'\n",
       "          + ' to learn more about interactive tables.';\n",
       "        element.innerHTML = '';\n",
       "        dataTable['output_type'] = 'display_data';\n",
       "        await google.colab.output.renderOutput(dataTable, element);\n",
       "        const docLink = document.createElement('div');\n",
       "        docLink.innerHTML = docLinkHtml;\n",
       "        element.appendChild(docLink);\n",
       "      }\n",
       "    </script>\n",
       "  </div>\n",
       "\n",
       "\n",
       "<div id=\"df-af4c47a3-d3be-41dc-a927-876fd3f260e1\">\n",
       "  <button class=\"colab-df-quickchart\" onclick=\"quickchart('df-af4c47a3-d3be-41dc-a927-876fd3f260e1')\"\n",
       "            title=\"Suggest charts\"\n",
       "            style=\"display:none;\">\n",
       "\n",
       "<svg xmlns=\"http://www.w3.org/2000/svg\" height=\"24px\"viewBox=\"0 0 24 24\"\n",
       "     width=\"24px\">\n",
       "    <g>\n",
       "        <path d=\"M19 3H5c-1.1 0-2 .9-2 2v14c0 1.1.9 2 2 2h14c1.1 0 2-.9 2-2V5c0-1.1-.9-2-2-2zM9 17H7v-7h2v7zm4 0h-2V7h2v10zm4 0h-2v-4h2v4z\"/>\n",
       "    </g>\n",
       "</svg>\n",
       "  </button>\n",
       "\n",
       "<style>\n",
       "  .colab-df-quickchart {\n",
       "      --bg-color: #E8F0FE;\n",
       "      --fill-color: #1967D2;\n",
       "      --hover-bg-color: #E2EBFA;\n",
       "      --hover-fill-color: #174EA6;\n",
       "      --disabled-fill-color: #AAA;\n",
       "      --disabled-bg-color: #DDD;\n",
       "  }\n",
       "\n",
       "  [theme=dark] .colab-df-quickchart {\n",
       "      --bg-color: #3B4455;\n",
       "      --fill-color: #D2E3FC;\n",
       "      --hover-bg-color: #434B5C;\n",
       "      --hover-fill-color: #FFFFFF;\n",
       "      --disabled-bg-color: #3B4455;\n",
       "      --disabled-fill-color: #666;\n",
       "  }\n",
       "\n",
       "  .colab-df-quickchart {\n",
       "    background-color: var(--bg-color);\n",
       "    border: none;\n",
       "    border-radius: 50%;\n",
       "    cursor: pointer;\n",
       "    display: none;\n",
       "    fill: var(--fill-color);\n",
       "    height: 32px;\n",
       "    padding: 0;\n",
       "    width: 32px;\n",
       "  }\n",
       "\n",
       "  .colab-df-quickchart:hover {\n",
       "    background-color: var(--hover-bg-color);\n",
       "    box-shadow: 0 1px 2px rgba(60, 64, 67, 0.3), 0 1px 3px 1px rgba(60, 64, 67, 0.15);\n",
       "    fill: var(--button-hover-fill-color);\n",
       "  }\n",
       "\n",
       "  .colab-df-quickchart-complete:disabled,\n",
       "  .colab-df-quickchart-complete:disabled:hover {\n",
       "    background-color: var(--disabled-bg-color);\n",
       "    fill: var(--disabled-fill-color);\n",
       "    box-shadow: none;\n",
       "  }\n",
       "\n",
       "  .colab-df-spinner {\n",
       "    border: 2px solid var(--fill-color);\n",
       "    border-color: transparent;\n",
       "    border-bottom-color: var(--fill-color);\n",
       "    animation:\n",
       "      spin 1s steps(1) infinite;\n",
       "  }\n",
       "\n",
       "  @keyframes spin {\n",
       "    0% {\n",
       "      border-color: transparent;\n",
       "      border-bottom-color: var(--fill-color);\n",
       "      border-left-color: var(--fill-color);\n",
       "    }\n",
       "    20% {\n",
       "      border-color: transparent;\n",
       "      border-left-color: var(--fill-color);\n",
       "      border-top-color: var(--fill-color);\n",
       "    }\n",
       "    30% {\n",
       "      border-color: transparent;\n",
       "      border-left-color: var(--fill-color);\n",
       "      border-top-color: var(--fill-color);\n",
       "      border-right-color: var(--fill-color);\n",
       "    }\n",
       "    40% {\n",
       "      border-color: transparent;\n",
       "      border-right-color: var(--fill-color);\n",
       "      border-top-color: var(--fill-color);\n",
       "    }\n",
       "    60% {\n",
       "      border-color: transparent;\n",
       "      border-right-color: var(--fill-color);\n",
       "    }\n",
       "    80% {\n",
       "      border-color: transparent;\n",
       "      border-right-color: var(--fill-color);\n",
       "      border-bottom-color: var(--fill-color);\n",
       "    }\n",
       "    90% {\n",
       "      border-color: transparent;\n",
       "      border-bottom-color: var(--fill-color);\n",
       "    }\n",
       "  }\n",
       "</style>\n",
       "\n",
       "  <script>\n",
       "    async function quickchart(key) {\n",
       "      const quickchartButtonEl =\n",
       "        document.querySelector('#' + key + ' button');\n",
       "      quickchartButtonEl.disabled = true;  // To prevent multiple clicks.\n",
       "      quickchartButtonEl.classList.add('colab-df-spinner');\n",
       "      try {\n",
       "        const charts = await google.colab.kernel.invokeFunction(\n",
       "            'suggestCharts', [key], {});\n",
       "      } catch (error) {\n",
       "        console.error('Error during call to suggestCharts:', error);\n",
       "      }\n",
       "      quickchartButtonEl.classList.remove('colab-df-spinner');\n",
       "      quickchartButtonEl.classList.add('colab-df-quickchart-complete');\n",
       "    }\n",
       "    (() => {\n",
       "      let quickchartButtonEl =\n",
       "        document.querySelector('#df-af4c47a3-d3be-41dc-a927-876fd3f260e1 button');\n",
       "      quickchartButtonEl.style.display =\n",
       "        google.colab.kernel.accessAllowed ? 'block' : 'none';\n",
       "    })();\n",
       "  </script>\n",
       "</div>\n",
       "    </div>\n",
       "  </div>\n"
      ],
      "text/plain": [
       "   age  time_in_hospital  num_procedures  num_medications  number_outpatient  \\\n",
       "1    2                 3               0               18                  0   \n",
       "2    3                 2               5               13                  2   \n",
       "3    4                 2               1               16                  0   \n",
       "4    5                 1               0                8                  0   \n",
       "5    6                 3               6               16                  0   \n",
       "\n",
       "   number_emergency  number_inpatient  number_diagnoses  metformin  \\\n",
       "1                 0                 0                 9          0   \n",
       "2                 0                 1                 6          0   \n",
       "3                 0                 0                 7          0   \n",
       "4                 0                 0                 5          0   \n",
       "5                 0                 0                 9          0   \n",
       "\n",
       "   repaglinide  ...  insulin  glyburide-metformin  gender  race  \\\n",
       "1            0  ...        1                    0       1     1   \n",
       "2            0  ...        0                    0       1     2   \n",
       "3            0  ...        1                    0       0     1   \n",
       "4            0  ...        1                    0       0     1   \n",
       "5            0  ...        1                    0       0     1   \n",
       "\n",
       "   admission_type_id  discharge_disposition_id  admission_source_id  \\\n",
       "1                  1                         1                    7   \n",
       "2                  1                         1                    7   \n",
       "3                  1                         1                    7   \n",
       "4                  1                         1                    7   \n",
       "5                  2                         1                    2   \n",
       "\n",
       "   max_glu_serum  A1Cresult  diag_1  \n",
       "1             -1         -1       3  \n",
       "2             -1         -1      11  \n",
       "3             -1         -1       1  \n",
       "4             -1         -1       2  \n",
       "5             -1         -1       7  \n",
       "\n",
       "[5 rows x 29 columns]"
      ]
     },
     "execution_count": 209,
     "metadata": {},
     "output_type": "execute_result"
    }
   ],
   "source": [
    "feature_set_no_int = ['age', 'time_in_hospital', 'num_procedures', 'num_medications', 'number_outpatient',\n",
    "                 'number_emergency', 'number_inpatient', 'number_diagnoses', 'metformin',\n",
    "                 'repaglinide', 'nateglinide', 'chlorpropamide', 'glimepiride', 'glipizide',\n",
    "                 'glyburide', 'pioglitazone', 'rosiglitazone', 'acarbose',\n",
    "                 'tolazamide', 'insulin', 'glyburide-metformin', 'gender', 'race',\n",
    "                 'admission_type_id',\n",
    "                 'discharge_disposition_id',\n",
    "                 'admission_source_id', 'max_glu_serum', 'A1Cresult',\n",
    "                 'diag_1']\n",
    "dfc[feature_set_no_int].head(5)"
   ]
  },
  {
   "cell_type": "markdown",
   "metadata": {
    "id": "sjiVkGfTvRwg"
   },
   "source": [
    "<div style=\"background-color: #DBEDF8; padding: 10px; border-radius: 5px;\">\n",
    "\n",
    "   <b><h3>· Creating the sets</h3></b>\n",
    "\n",
    "</div>"
   ]
  },
  {
   "cell_type": "code",
   "execution_count": null,
   "metadata": {
    "colab": {
     "base_uri": "https://localhost:8080/"
    },
    "id": "7uLy0cB2vRwg",
    "outputId": "752c6843-9608-4434-a25b-61143d314b28"
   },
   "outputs": [
    {
     "data": {
      "text/plain": [
       "0    62503\n",
       "1     6126\n",
       "Name: readmitted, dtype: int64"
      ]
     },
     "execution_count": 210,
     "metadata": {},
     "output_type": "execute_result"
    }
   ],
   "source": [
    "# Our target variable is the readmitted column\n",
    "y = dfc['readmitted']\n",
    "X = dfc[feature_set_no_int]\n",
    "dfc['readmitted'].value_counts()"
   ]
  },
  {
   "cell_type": "code",
   "execution_count": null,
   "metadata": {
    "id": "VlaC5j4GvRwh"
   },
   "outputs": [],
   "source": [
    "X_train, X_test, y_train, y_test = train_test_split(X, y, test_size=0.2, random_state=42, stratify=y)"
   ]
  },
  {
   "cell_type": "code",
   "execution_count": null,
   "metadata": {
    "colab": {
     "base_uri": "https://localhost:8080/",
     "height": 146
    },
    "id": "qmzkE8Tfc3JB",
    "outputId": "65501793-6891-4007-94fe-5589a464deb6"
   },
   "outputs": [
    {
     "data": {
      "text/html": [
       "\n",
       "  <div id=\"df-b0160a0d-92e0-48da-8000-c775b119c7c0\" class=\"colab-df-container\">\n",
       "    <div>\n",
       "<style scoped>\n",
       "    .dataframe tbody tr th:only-of-type {\n",
       "        vertical-align: middle;\n",
       "    }\n",
       "\n",
       "    .dataframe tbody tr th {\n",
       "        vertical-align: top;\n",
       "    }\n",
       "\n",
       "    .dataframe thead th {\n",
       "        text-align: right;\n",
       "    }\n",
       "</style>\n",
       "<table border=\"1\" class=\"dataframe\">\n",
       "  <thead>\n",
       "    <tr style=\"text-align: right;\">\n",
       "      <th></th>\n",
       "      <th>age</th>\n",
       "      <th>time_in_hospital</th>\n",
       "      <th>num_procedures</th>\n",
       "      <th>num_medications</th>\n",
       "      <th>number_outpatient</th>\n",
       "      <th>number_emergency</th>\n",
       "      <th>number_inpatient</th>\n",
       "      <th>number_diagnoses</th>\n",
       "      <th>metformin</th>\n",
       "      <th>repaglinide</th>\n",
       "      <th>...</th>\n",
       "      <th>insulin</th>\n",
       "      <th>glyburide-metformin</th>\n",
       "      <th>gender</th>\n",
       "      <th>race</th>\n",
       "      <th>admission_type_id</th>\n",
       "      <th>discharge_disposition_id</th>\n",
       "      <th>admission_source_id</th>\n",
       "      <th>max_glu_serum</th>\n",
       "      <th>A1Cresult</th>\n",
       "      <th>diag_1</th>\n",
       "    </tr>\n",
       "  </thead>\n",
       "  <tbody>\n",
       "    <tr>\n",
       "      <th>0</th>\n",
       "      <td>2</td>\n",
       "      <td>3</td>\n",
       "      <td>0</td>\n",
       "      <td>18</td>\n",
       "      <td>0</td>\n",
       "      <td>0</td>\n",
       "      <td>0</td>\n",
       "      <td>9</td>\n",
       "      <td>0</td>\n",
       "      <td>0</td>\n",
       "      <td>...</td>\n",
       "      <td>1</td>\n",
       "      <td>0</td>\n",
       "      <td>1</td>\n",
       "      <td>1</td>\n",
       "      <td>1</td>\n",
       "      <td>1</td>\n",
       "      <td>7</td>\n",
       "      <td>-1</td>\n",
       "      <td>-1</td>\n",
       "      <td>3</td>\n",
       "    </tr>\n",
       "  </tbody>\n",
       "</table>\n",
       "<p>1 rows × 29 columns</p>\n",
       "</div>\n",
       "    <div class=\"colab-df-buttons\">\n",
       "\n",
       "  <div class=\"colab-df-container\">\n",
       "    <button class=\"colab-df-convert\" onclick=\"convertToInteractive('df-b0160a0d-92e0-48da-8000-c775b119c7c0')\"\n",
       "            title=\"Convert this dataframe to an interactive table.\"\n",
       "            style=\"display:none;\">\n",
       "\n",
       "  <svg xmlns=\"http://www.w3.org/2000/svg\" height=\"24px\" viewBox=\"0 -960 960 960\">\n",
       "    <path d=\"M120-120v-720h720v720H120Zm60-500h600v-160H180v160Zm220 220h160v-160H400v160Zm0 220h160v-160H400v160ZM180-400h160v-160H180v160Zm440 0h160v-160H620v160ZM180-180h160v-160H180v160Zm440 0h160v-160H620v160Z\"/>\n",
       "  </svg>\n",
       "    </button>\n",
       "\n",
       "  <style>\n",
       "    .colab-df-container {\n",
       "      display:flex;\n",
       "      gap: 12px;\n",
       "    }\n",
       "\n",
       "    .colab-df-convert {\n",
       "      background-color: #E8F0FE;\n",
       "      border: none;\n",
       "      border-radius: 50%;\n",
       "      cursor: pointer;\n",
       "      display: none;\n",
       "      fill: #1967D2;\n",
       "      height: 32px;\n",
       "      padding: 0 0 0 0;\n",
       "      width: 32px;\n",
       "    }\n",
       "\n",
       "    .colab-df-convert:hover {\n",
       "      background-color: #E2EBFA;\n",
       "      box-shadow: 0px 1px 2px rgba(60, 64, 67, 0.3), 0px 1px 3px 1px rgba(60, 64, 67, 0.15);\n",
       "      fill: #174EA6;\n",
       "    }\n",
       "\n",
       "    .colab-df-buttons div {\n",
       "      margin-bottom: 4px;\n",
       "    }\n",
       "\n",
       "    [theme=dark] .colab-df-convert {\n",
       "      background-color: #3B4455;\n",
       "      fill: #D2E3FC;\n",
       "    }\n",
       "\n",
       "    [theme=dark] .colab-df-convert:hover {\n",
       "      background-color: #434B5C;\n",
       "      box-shadow: 0px 1px 3px 1px rgba(0, 0, 0, 0.15);\n",
       "      filter: drop-shadow(0px 1px 2px rgba(0, 0, 0, 0.3));\n",
       "      fill: #FFFFFF;\n",
       "    }\n",
       "  </style>\n",
       "\n",
       "    <script>\n",
       "      const buttonEl =\n",
       "        document.querySelector('#df-b0160a0d-92e0-48da-8000-c775b119c7c0 button.colab-df-convert');\n",
       "      buttonEl.style.display =\n",
       "        google.colab.kernel.accessAllowed ? 'block' : 'none';\n",
       "\n",
       "      async function convertToInteractive(key) {\n",
       "        const element = document.querySelector('#df-b0160a0d-92e0-48da-8000-c775b119c7c0');\n",
       "        const dataTable =\n",
       "          await google.colab.kernel.invokeFunction('convertToInteractive',\n",
       "                                                    [key], {});\n",
       "        if (!dataTable) return;\n",
       "\n",
       "        const docLinkHtml = 'Like what you see? Visit the ' +\n",
       "          '<a target=\"_blank\" href=https://colab.research.google.com/notebooks/data_table.ipynb>data table notebook</a>'\n",
       "          + ' to learn more about interactive tables.';\n",
       "        element.innerHTML = '';\n",
       "        dataTable['output_type'] = 'display_data';\n",
       "        await google.colab.output.renderOutput(dataTable, element);\n",
       "        const docLink = document.createElement('div');\n",
       "        docLink.innerHTML = docLinkHtml;\n",
       "        element.appendChild(docLink);\n",
       "      }\n",
       "    </script>\n",
       "  </div>\n",
       "\n",
       "    </div>\n",
       "  </div>\n"
      ],
      "text/plain": [
       "   age  time_in_hospital  num_procedures  num_medications  number_outpatient  \\\n",
       "0    2                 3               0               18                  0   \n",
       "\n",
       "   number_emergency  number_inpatient  number_diagnoses  metformin  \\\n",
       "0                 0                 0                 9          0   \n",
       "\n",
       "   repaglinide  ...  insulin  glyburide-metformin  gender  race  \\\n",
       "0            0  ...        1                    0       1     1   \n",
       "\n",
       "   admission_type_id  discharge_disposition_id  admission_source_id  \\\n",
       "0                  1                         1                    7   \n",
       "\n",
       "   max_glu_serum  A1Cresult  diag_1  \n",
       "0             -1         -1       3  \n",
       "\n",
       "[1 rows x 29 columns]"
      ]
     },
     "execution_count": 250,
     "metadata": {},
     "output_type": "execute_result"
    }
   ],
   "source": [
    "X.head(1)"
   ]
  },
  {
   "cell_type": "markdown",
   "metadata": {
    "id": "oDsqmKYow8VY"
   },
   "source": [
    "<div style=\"background-color: #DBEDF8; padding: 10px; border-radius: 5px;\">\n",
    "\n",
    "   <b><h3>· Normalizing</h3></b>\n",
    "\n",
    "</div>\n"
   ]
  },
  {
   "cell_type": "code",
   "execution_count": null,
   "metadata": {
    "id": "5vsbsUyzw-Jh"
   },
   "outputs": [],
   "source": [
    "# Applying standard scaling to get more optimized results, relevantless the different amounts of values between columns\n",
    "sc = StandardScaler()\n",
    "X_train = sc.fit_transform(X_train)\n",
    "X_test = sc.transform(X_test)"
   ]
  },
  {
   "cell_type": "markdown",
   "metadata": {
    "id": "MZuuweofvRwV"
   },
   "source": [
    "<div style=\"background-color: #DBEDF8; padding: 10px; border-radius: 5px;\">\n",
    "\n",
    "   <b><h4>· Trial 1 : Random Forest Classification</h4></b>\n",
    "   <b><h4>Training</h4></b>\n",
    "</div>"
   ]
  },
  {
   "cell_type": "code",
   "execution_count": null,
   "metadata": {
    "colab": {
     "base_uri": "https://localhost:8080/",
     "height": 74
    },
    "id": "vrOKNnjnvRwh",
    "outputId": "022bef69-8bfc-4935-93a1-b754da568b8d"
   },
   "outputs": [
    {
     "data": {
      "text/html": [
       "<style>#sk-container-id-5 {color: black;background-color: white;}#sk-container-id-5 pre{padding: 0;}#sk-container-id-5 div.sk-toggleable {background-color: white;}#sk-container-id-5 label.sk-toggleable__label {cursor: pointer;display: block;width: 100%;margin-bottom: 0;padding: 0.3em;box-sizing: border-box;text-align: center;}#sk-container-id-5 label.sk-toggleable__label-arrow:before {content: \"▸\";float: left;margin-right: 0.25em;color: #696969;}#sk-container-id-5 label.sk-toggleable__label-arrow:hover:before {color: black;}#sk-container-id-5 div.sk-estimator:hover label.sk-toggleable__label-arrow:before {color: black;}#sk-container-id-5 div.sk-toggleable__content {max-height: 0;max-width: 0;overflow: hidden;text-align: left;background-color: #f0f8ff;}#sk-container-id-5 div.sk-toggleable__content pre {margin: 0.2em;color: black;border-radius: 0.25em;background-color: #f0f8ff;}#sk-container-id-5 input.sk-toggleable__control:checked~div.sk-toggleable__content {max-height: 200px;max-width: 100%;overflow: auto;}#sk-container-id-5 input.sk-toggleable__control:checked~label.sk-toggleable__label-arrow:before {content: \"▾\";}#sk-container-id-5 div.sk-estimator input.sk-toggleable__control:checked~label.sk-toggleable__label {background-color: #d4ebff;}#sk-container-id-5 div.sk-label input.sk-toggleable__control:checked~label.sk-toggleable__label {background-color: #d4ebff;}#sk-container-id-5 input.sk-hidden--visually {border: 0;clip: rect(1px 1px 1px 1px);clip: rect(1px, 1px, 1px, 1px);height: 1px;margin: -1px;overflow: hidden;padding: 0;position: absolute;width: 1px;}#sk-container-id-5 div.sk-estimator {font-family: monospace;background-color: #f0f8ff;border: 1px dotted black;border-radius: 0.25em;box-sizing: border-box;margin-bottom: 0.5em;}#sk-container-id-5 div.sk-estimator:hover {background-color: #d4ebff;}#sk-container-id-5 div.sk-parallel-item::after {content: \"\";width: 100%;border-bottom: 1px solid gray;flex-grow: 1;}#sk-container-id-5 div.sk-label:hover label.sk-toggleable__label {background-color: #d4ebff;}#sk-container-id-5 div.sk-serial::before {content: \"\";position: absolute;border-left: 1px solid gray;box-sizing: border-box;top: 0;bottom: 0;left: 50%;z-index: 0;}#sk-container-id-5 div.sk-serial {display: flex;flex-direction: column;align-items: center;background-color: white;padding-right: 0.2em;padding-left: 0.2em;position: relative;}#sk-container-id-5 div.sk-item {position: relative;z-index: 1;}#sk-container-id-5 div.sk-parallel {display: flex;align-items: stretch;justify-content: center;background-color: white;position: relative;}#sk-container-id-5 div.sk-item::before, #sk-container-id-5 div.sk-parallel-item::before {content: \"\";position: absolute;border-left: 1px solid gray;box-sizing: border-box;top: 0;bottom: 0;left: 50%;z-index: -1;}#sk-container-id-5 div.sk-parallel-item {display: flex;flex-direction: column;z-index: 1;position: relative;background-color: white;}#sk-container-id-5 div.sk-parallel-item:first-child::after {align-self: flex-end;width: 50%;}#sk-container-id-5 div.sk-parallel-item:last-child::after {align-self: flex-start;width: 50%;}#sk-container-id-5 div.sk-parallel-item:only-child::after {width: 0;}#sk-container-id-5 div.sk-dashed-wrapped {border: 1px dashed gray;margin: 0 0.4em 0.5em 0.4em;box-sizing: border-box;padding-bottom: 0.4em;background-color: white;}#sk-container-id-5 div.sk-label label {font-family: monospace;font-weight: bold;display: inline-block;line-height: 1.2em;}#sk-container-id-5 div.sk-label-container {text-align: center;}#sk-container-id-5 div.sk-container {/* jupyter's `normalize.less` sets `[hidden] { display: none; }` but bootstrap.min.css set `[hidden] { display: none !important; }` so we also need the `!important` here to be able to override the default hidden behavior on the sphinx rendered scikit-learn.org. See: https://github.com/scikit-learn/scikit-learn/issues/21755 */display: inline-block !important;position: relative;}#sk-container-id-5 div.sk-text-repr-fallback {display: none;}</style><div id=\"sk-container-id-5\" class=\"sk-top-container\"><div class=\"sk-text-repr-fallback\"><pre>RandomForestClassifier(max_depth=25, min_samples_split=10, n_estimators=10)</pre><b>In a Jupyter environment, please rerun this cell to show the HTML representation or trust the notebook. <br />On GitHub, the HTML representation is unable to render, please try loading this page with nbviewer.org.</b></div><div class=\"sk-container\" hidden><div class=\"sk-item\"><div class=\"sk-estimator sk-toggleable\"><input class=\"sk-toggleable__control sk-hidden--visually\" id=\"sk-estimator-id-5\" type=\"checkbox\" checked><label for=\"sk-estimator-id-5\" class=\"sk-toggleable__label sk-toggleable__label-arrow\">RandomForestClassifier</label><div class=\"sk-toggleable__content\"><pre>RandomForestClassifier(max_depth=25, min_samples_split=10, n_estimators=10)</pre></div></div></div></div></div>"
      ],
      "text/plain": [
       "RandomForestClassifier(max_depth=25, min_samples_split=10, n_estimators=10)"
      ]
     },
     "execution_count": 213,
     "metadata": {},
     "output_type": "execute_result"
    }
   ],
   "source": [
    "model = RandomForestClassifier(n_estimators = 10, max_depth=25, criterion = \"gini\", min_samples_split=10)\n",
    "model.fit(X_train, y_train)"
   ]
  },
  {
   "cell_type": "markdown",
   "metadata": {
    "id": "Cf4KbK7HvRwh"
   },
   "source": [
    "<div style=\"background-color: #DBEDF8; padding: 10px; border-radius: 5px;\">\n",
    "\n",
    "   <b><h4>· Testing</h4></b>\n",
    "</div>\n"
   ]
  },
  {
   "cell_type": "code",
   "execution_count": null,
   "metadata": {
    "colab": {
     "base_uri": "https://localhost:8080/"
    },
    "id": "uGCgI4nYvRwh",
    "outputId": "1b7551d0-5c89-4b22-f01d-c3ff58f99a0e"
   },
   "outputs": [
    {
     "name": "stdout",
     "output_type": "stream",
     "text": [
      "[[12487    14]\n",
      " [ 1216     9]]\n"
     ]
    }
   ],
   "source": [
    "y_pred = model.predict(X_test)\n",
    "print(confusion_matrix(y_test, y_pred))"
   ]
  },
  {
   "cell_type": "code",
   "execution_count": null,
   "metadata": {
    "colab": {
     "base_uri": "https://localhost:8080/"
    },
    "id": "-wNiUFxWxA7k",
    "outputId": "cfcdc842-201a-417d-9636-d5cf45b8c307"
   },
   "outputs": [
    {
     "name": "stdout",
     "output_type": "stream",
     "text": [
      "Accuracy :  0.9103890426926999\n",
      "Precision :  0.391304347826087\n",
      "Recall :  0.007346938775510204\n",
      "F1 :  0.014423076923076922\n"
     ]
    }
   ],
   "source": [
    "print('Accuracy : ', accuracy_score(y_test, y_pred))\n",
    "print('Precision : ', precision_score(y_test, y_pred))\n",
    "print('Recall : ', recall_score(y_test, y_pred))\n",
    "print('F1 : ', f1_score(y_test, y_pred))"
   ]
  },
  {
   "cell_type": "markdown",
   "metadata": {
    "id": "tEheQAwwvRwh"
   },
   "source": [
    "<div style=\"background-color: #DBEDF8; padding: 10px; border-radius: 5px;\">\n",
    "\n",
    "   <b><h4>· Saving</h4></b>\n",
    "</div>\n"
   ]
  },
  {
   "cell_type": "code",
   "execution_count": null,
   "metadata": {
    "colab": {
     "base_uri": "https://localhost:8080/"
    },
    "id": "5B1htVbHvRwh",
    "outputId": "350559e3-60e8-42a3-a1e2-e0e55e62313e"
   },
   "outputs": [
    {
     "data": {
      "text/plain": [
       "['./drive/MyDrive/modele_RF.pkl']"
      ]
     },
     "execution_count": 216,
     "metadata": {},
     "output_type": "execute_result"
    }
   ],
   "source": [
    "import joblib\n",
    "joblib.dump(model, './drive/MyDrive/modele_RF.pkl')"
   ]
  },
  {
   "cell_type": "markdown",
   "metadata": {
    "id": "AzlOBf3ivRwh"
   },
   "source": [
    "<div style=\"background-color: #DBEDF8; padding: 10px; border-radius: 5px;\">\n",
    "\n",
    "   <b><h4>· Reuse</h4></b>\n",
    "</div>"
   ]
  },
  {
   "cell_type": "code",
   "execution_count": null,
   "metadata": {
    "id": "NheVfcAqvRwi"
   },
   "outputs": [],
   "source": [
    "loaded_model = joblib.load('./drive/MyDrive/modele_RF.pkl')\n",
    "y_pred = loaded_model.predict(X_test)"
   ]
  },
  {
   "cell_type": "markdown",
   "metadata": {
    "id": "L2OVYxitJd-F"
   },
   "source": [
    "<div style=\"background-color: #DBEDF8; padding: 10px; border-radius: 5px;\">\n",
    "\n",
    "   <b><h4>· Interpretation</h4></b>\n",
    "</div>"
   ]
  },
  {
   "cell_type": "markdown",
   "metadata": {
    "id": "aC9XDNsdJhpW"
   },
   "source": [
    "\n",
    "<div style=\"background-color: #DBEDF8; padding: 10px; border-radius: 5px;\">\n",
    "We can see that the results are very low. Indeed, recall and precision levels are ok to find cases from class 0 but almost always miss cases from class 1. This is due to the huge imbalance between classes :\n",
    "</div>\n",
    "\n"
   ]
  },
  {
   "cell_type": "code",
   "execution_count": null,
   "metadata": {
    "colab": {
     "base_uri": "https://localhost:8080/"
    },
    "id": "7Bz-KrtEJ-Si",
    "outputId": "923253ec-ee93-4c68-8a6a-afc38bfdd1ff"
   },
   "outputs": [
    {
     "data": {
      "text/plain": [
       "0    62503\n",
       "1     6126\n",
       "Name: readmitted, dtype: int64"
      ]
     },
     "execution_count": 219,
     "metadata": {},
     "output_type": "execute_result"
    }
   ],
   "source": [
    "dfc['readmitted'].value_counts()"
   ]
  },
  {
   "cell_type": "markdown",
   "metadata": {
    "id": "tOrOXWW7KDLF"
   },
   "source": [
    "\n",
    "<div style=\"background-color: #DBEDF8; padding: 10px; border-radius: 5px;\">\n",
    "\n",
    "To make a balance dataset, we can use SMOTE technique to resolve it. This is what is done in Trial 2 !\n",
    "</div>\n"
   ]
  },
  {
   "cell_type": "markdown",
   "metadata": {
    "id": "shiNgSrdKnUM"
   },
   "source": [
    "<div style=\"background-color: #DBEDF8; padding: 10px; border-radius: 5px;\">\n",
    "    <b>Balancing data for next tests</b>\n",
    "</div>"
   ]
  },
  {
   "cell_type": "code",
   "execution_count": null,
   "metadata": {
    "colab": {
     "base_uri": "https://localhost:8080/"
    },
    "id": "FFTclvMmKrKY",
    "outputId": "212bded9-8288-4d20-d6e3-ec196f8da968"
   },
   "outputs": [
    {
     "name": "stdout",
     "output_type": "stream",
     "text": [
      "Original dataset shape Counter({0: 50002, 1: 4901})\n",
      "New dataset shape Counter({0: 50002, 1: 50002})\n"
     ]
    }
   ],
   "source": [
    "from imblearn.over_sampling import SMOTE\n",
    "from collections import Counter\n",
    "print('Original dataset shape {}'.format(Counter(y_train)))\n",
    "sm = SMOTE(random_state=20)\n",
    "train_input_new, train_output_new = sm.fit_resample(X_train, y_train)\n",
    "print('New dataset shape {}'.format(Counter(train_output_new)))"
   ]
  },
  {
   "cell_type": "markdown",
   "metadata": {
    "id": "TJcpiCPYLLzq"
   },
   "source": [
    "<div style=\"background-color: #DBEDF8; padding: 10px; border-radius: 5px;\">\n",
    "\n",
    "   <b><h4>· Trial 2 : Random Forest Classification</h4></b>\n",
    "   <b><h4>Training</h4></b>\n",
    "</div>\n"
   ]
  },
  {
   "cell_type": "code",
   "execution_count": null,
   "metadata": {
    "colab": {
     "base_uri": "https://localhost:8080/",
     "height": 74
    },
    "id": "GM25ATzSLLzx",
    "outputId": "05e8befb-3379-4baa-92f4-80f713853a25"
   },
   "outputs": [
    {
     "data": {
      "text/html": [
       "<style>#sk-container-id-6 {color: black;background-color: white;}#sk-container-id-6 pre{padding: 0;}#sk-container-id-6 div.sk-toggleable {background-color: white;}#sk-container-id-6 label.sk-toggleable__label {cursor: pointer;display: block;width: 100%;margin-bottom: 0;padding: 0.3em;box-sizing: border-box;text-align: center;}#sk-container-id-6 label.sk-toggleable__label-arrow:before {content: \"▸\";float: left;margin-right: 0.25em;color: #696969;}#sk-container-id-6 label.sk-toggleable__label-arrow:hover:before {color: black;}#sk-container-id-6 div.sk-estimator:hover label.sk-toggleable__label-arrow:before {color: black;}#sk-container-id-6 div.sk-toggleable__content {max-height: 0;max-width: 0;overflow: hidden;text-align: left;background-color: #f0f8ff;}#sk-container-id-6 div.sk-toggleable__content pre {margin: 0.2em;color: black;border-radius: 0.25em;background-color: #f0f8ff;}#sk-container-id-6 input.sk-toggleable__control:checked~div.sk-toggleable__content {max-height: 200px;max-width: 100%;overflow: auto;}#sk-container-id-6 input.sk-toggleable__control:checked~label.sk-toggleable__label-arrow:before {content: \"▾\";}#sk-container-id-6 div.sk-estimator input.sk-toggleable__control:checked~label.sk-toggleable__label {background-color: #d4ebff;}#sk-container-id-6 div.sk-label input.sk-toggleable__control:checked~label.sk-toggleable__label {background-color: #d4ebff;}#sk-container-id-6 input.sk-hidden--visually {border: 0;clip: rect(1px 1px 1px 1px);clip: rect(1px, 1px, 1px, 1px);height: 1px;margin: -1px;overflow: hidden;padding: 0;position: absolute;width: 1px;}#sk-container-id-6 div.sk-estimator {font-family: monospace;background-color: #f0f8ff;border: 1px dotted black;border-radius: 0.25em;box-sizing: border-box;margin-bottom: 0.5em;}#sk-container-id-6 div.sk-estimator:hover {background-color: #d4ebff;}#sk-container-id-6 div.sk-parallel-item::after {content: \"\";width: 100%;border-bottom: 1px solid gray;flex-grow: 1;}#sk-container-id-6 div.sk-label:hover label.sk-toggleable__label {background-color: #d4ebff;}#sk-container-id-6 div.sk-serial::before {content: \"\";position: absolute;border-left: 1px solid gray;box-sizing: border-box;top: 0;bottom: 0;left: 50%;z-index: 0;}#sk-container-id-6 div.sk-serial {display: flex;flex-direction: column;align-items: center;background-color: white;padding-right: 0.2em;padding-left: 0.2em;position: relative;}#sk-container-id-6 div.sk-item {position: relative;z-index: 1;}#sk-container-id-6 div.sk-parallel {display: flex;align-items: stretch;justify-content: center;background-color: white;position: relative;}#sk-container-id-6 div.sk-item::before, #sk-container-id-6 div.sk-parallel-item::before {content: \"\";position: absolute;border-left: 1px solid gray;box-sizing: border-box;top: 0;bottom: 0;left: 50%;z-index: -1;}#sk-container-id-6 div.sk-parallel-item {display: flex;flex-direction: column;z-index: 1;position: relative;background-color: white;}#sk-container-id-6 div.sk-parallel-item:first-child::after {align-self: flex-end;width: 50%;}#sk-container-id-6 div.sk-parallel-item:last-child::after {align-self: flex-start;width: 50%;}#sk-container-id-6 div.sk-parallel-item:only-child::after {width: 0;}#sk-container-id-6 div.sk-dashed-wrapped {border: 1px dashed gray;margin: 0 0.4em 0.5em 0.4em;box-sizing: border-box;padding-bottom: 0.4em;background-color: white;}#sk-container-id-6 div.sk-label label {font-family: monospace;font-weight: bold;display: inline-block;line-height: 1.2em;}#sk-container-id-6 div.sk-label-container {text-align: center;}#sk-container-id-6 div.sk-container {/* jupyter's `normalize.less` sets `[hidden] { display: none; }` but bootstrap.min.css set `[hidden] { display: none !important; }` so we also need the `!important` here to be able to override the default hidden behavior on the sphinx rendered scikit-learn.org. See: https://github.com/scikit-learn/scikit-learn/issues/21755 */display: inline-block !important;position: relative;}#sk-container-id-6 div.sk-text-repr-fallback {display: none;}</style><div id=\"sk-container-id-6\" class=\"sk-top-container\"><div class=\"sk-text-repr-fallback\"><pre>RandomForestClassifier(n_estimators=50)</pre><b>In a Jupyter environment, please rerun this cell to show the HTML representation or trust the notebook. <br />On GitHub, the HTML representation is unable to render, please try loading this page with nbviewer.org.</b></div><div class=\"sk-container\" hidden><div class=\"sk-item\"><div class=\"sk-estimator sk-toggleable\"><input class=\"sk-toggleable__control sk-hidden--visually\" id=\"sk-estimator-id-6\" type=\"checkbox\" checked><label for=\"sk-estimator-id-6\" class=\"sk-toggleable__label sk-toggleable__label-arrow\">RandomForestClassifier</label><div class=\"sk-toggleable__content\"><pre>RandomForestClassifier(n_estimators=50)</pre></div></div></div></div></div>"
      ],
      "text/plain": [
       "RandomForestClassifier(n_estimators=50)"
      ]
     },
     "execution_count": 221,
     "metadata": {},
     "output_type": "execute_result"
    }
   ],
   "source": [
    "model = RandomForestClassifier(n_estimators=50)\n",
    "model.fit(X_train, y_train)"
   ]
  },
  {
   "cell_type": "markdown",
   "metadata": {
    "id": "zuMODkxOLLzx"
   },
   "source": [
    "<div style=\"background-color: #DBEDF8; padding: 10px; border-radius: 5px;\">\n",
    "\n",
    "   <b><h4>· Testing</h4></b>\n",
    "</div>\n"
   ]
  },
  {
   "cell_type": "code",
   "execution_count": null,
   "metadata": {
    "colab": {
     "base_uri": "https://localhost:8080/"
    },
    "id": "USO18mQWLLzy",
    "outputId": "6abbdb8b-6e59-486f-dc7c-e5acb3868b40"
   },
   "outputs": [
    {
     "name": "stdout",
     "output_type": "stream",
     "text": [
      "              precision    recall  f1-score   support\n",
      "\n",
      "           0       0.91      1.00      0.95     12501\n",
      "           1       0.31      0.00      0.01      1225\n",
      "\n",
      "    accuracy                           0.91     13726\n",
      "   macro avg       0.61      0.50      0.48     13726\n",
      "weighted avg       0.86      0.91      0.87     13726\n",
      "\n",
      "[[12490    11]\n",
      " [ 1220     5]]\n"
     ]
    }
   ],
   "source": [
    "y_pred = model.predict(X_test)\n",
    "\n",
    "print(classification_report(y_test, y_pred))\n",
    "print(confusion_matrix(y_test, y_pred))"
   ]
  },
  {
   "cell_type": "code",
   "execution_count": null,
   "metadata": {
    "colab": {
     "base_uri": "https://localhost:8080/"
    },
    "id": "8tSWDO_4LLzy",
    "outputId": "6167dc47-78ce-400c-b521-98e7918c30ce"
   },
   "outputs": [
    {
     "name": "stdout",
     "output_type": "stream",
     "text": [
      "Accuracy :  0.9103161882558648\n",
      "Precision :  0.3125\n",
      "Recall :  0.004081632653061225\n",
      "F1 :  0.008058017727639002\n"
     ]
    }
   ],
   "source": [
    "print('Accuracy : ', accuracy_score(y_test, y_pred))\n",
    "print('Precision : ', precision_score(y_test, y_pred))\n",
    "print('Recall : ', recall_score(y_test, y_pred))\n",
    "print('F1 : ', f1_score(y_test, y_pred))"
   ]
  },
  {
   "cell_type": "markdown",
   "metadata": {
    "id": "Tc9akrPJLLzy"
   },
   "source": [
    "<div style=\"background-color: #DBEDF8; padding: 10px; border-radius: 5px;\">\n",
    "\n",
    "   <b><h4>· Saving</h4></b>\n",
    "</div>\n"
   ]
  },
  {
   "cell_type": "code",
   "execution_count": null,
   "metadata": {
    "colab": {
     "base_uri": "https://localhost:8080/"
    },
    "id": "0AXrPdflLLzy",
    "outputId": "ffa830f1-b5b2-46cf-a57c-8d9e8ef1d09f"
   },
   "outputs": [
    {
     "data": {
      "text/plain": [
       "['./drive/MyDrive/modele_RF.pkl']"
      ]
     },
     "execution_count": 224,
     "metadata": {},
     "output_type": "execute_result"
    }
   ],
   "source": [
    "import joblib\n",
    "joblib.dump(model, './drive/MyDrive/modele_RF.pkl')"
   ]
  },
  {
   "cell_type": "markdown",
   "metadata": {
    "id": "pwL2ayABLLzy"
   },
   "source": [
    "<div style=\"background-color: #DBEDF8; padding: 10px; border-radius: 5px;\">\n",
    "\n",
    "   <b><h4>· Reuse</h4></b>\n",
    "</div>"
   ]
  },
  {
   "cell_type": "code",
   "execution_count": null,
   "metadata": {
    "id": "ZSuzWFX3LLzy"
   },
   "outputs": [],
   "source": [
    "loaded_model = joblib.load('./drive/MyDrive/modele_RF.pkl')\n",
    "y_pred = loaded_model.predict(X_test)"
   ]
  },
  {
   "cell_type": "markdown",
   "metadata": {
    "id": "TJcpiCPYLLzq"
   },
   "source": [
    "<div style=\"background-color: #DBEDF8; padding: 10px; border-radius: 5px;\">\n",
    "\n",
    "   <b><h4>· Trial 3 : SVM model</h4></b>\n",
    "   <b><h4>Training</h4></b>\n",
    "</div>\n"
   ]
  },
  {
   "cell_type": "code",
   "execution_count": null,
   "metadata": {
    "id": "KgXHpa-O28mA"
   },
   "outputs": [],
   "source": [
    "model_svm2 = SVC()\n",
    "model_svm2.fit(X_train, y_train)"
   ]
  },
  {
   "cell_type": "markdown",
   "metadata": {
    "id": "eLA_xXNG28mA"
   },
   "source": [
    "<div style=\"background-color: #DBEDF8; padding: 10px; border-radius: 5px;\">\n",
    "\n",
    "   <b><h4>· Testing</h4></b>\n",
    "</div>\n"
   ]
  },
  {
   "cell_type": "code",
   "execution_count": null,
   "metadata": {
    "id": "0FoTa-IM28mA"
   },
   "outputs": [],
   "source": [
    "y_pred = model_svm2.predict(X_test)\n",
    "\n",
    "print(classification_report(y_test, y_pred))\n",
    "print(confusion_matrix(y_test, y_pred))"
   ]
  },
  {
   "cell_type": "code",
   "execution_count": null,
   "metadata": {
    "id": "iOJpvL3P2CXJ"
   },
   "outputs": [],
   "source": [
    "print('Accuracy : ', accuracy_score(y_test, y_pred))\n",
    "print('Precision : ', precision_score(y_test, y_pred, average='macro'))\n",
    "print('Recall : ', recall_score(y_test, y_pred, average='macro'))\n",
    "print('F1 : ', f1_score(y_test, y_pred, average='macro'))"
   ]
  },
  {
   "cell_type": "markdown",
   "metadata": {
    "id": "kHZgpXBw43B3"
   },
   "source": [
    "<div style=\"background-color: #DBEDF8; padding: 10px; border-radius: 5px;\">\n",
    "\n",
    "   <b><h4>· Saving</h4></b>\n",
    "</div>\n"
   ]
  },
  {
   "cell_type": "code",
   "execution_count": null,
   "metadata": {
    "id": "w2vJjovG43B3"
   },
   "outputs": [],
   "source": [
    "import joblib\n",
    "joblib.dump(model, './drive/MyDrive/modele_SVM.pkl')"
   ]
  },
  {
   "cell_type": "markdown",
   "metadata": {
    "id": "sn2jZE8n28mA"
   },
   "source": [
    "<div style=\"background-color: #DBEDF8; padding: 10px; border-radius: 5px;\">\n",
    "\n",
    "   <b><h4>· Reuse</h4></b>\n",
    "</div>"
   ]
  },
  {
   "cell_type": "code",
   "execution_count": null,
   "metadata": {
    "id": "aB1G-p9V28mA"
   },
   "outputs": [],
   "source": [
    "loaded_model = joblib.load('modele_SVM.pkl')\n",
    "y_pred = loaded_model.predict(X_test)"
   ]
  },
  {
   "cell_type": "markdown",
   "metadata": {
    "id": "nZ983FQWgqSj"
   },
   "source": [
    "<div style=\"background-color: #DBEDF8; padding: 10px; border-radius: 5px;\">\n",
    "\n",
    "   <b><h4>· Trial 4 : Random Forest Classification</h4></b><br>\n",
    "    Dans cette version, nous avons  exploité l'ensemble du preprocessing.\n",
    "   <b><h4>Training</h4></b>\n",
    "</div>\n",
    "\n"
   ]
  },
  {
   "cell_type": "code",
   "execution_count": null,
   "metadata": {
    "colab": {
     "base_uri": "https://localhost:8080/",
     "height": 74
    },
    "id": "GpBptWQzOEsy",
    "outputId": "31635c65-e572-44e4-cb89-99d7b6df157c"
   },
   "outputs": [
    {
     "data": {
      "text/html": [
       "<style>#sk-container-id-3 {color: black;background-color: white;}#sk-container-id-3 pre{padding: 0;}#sk-container-id-3 div.sk-toggleable {background-color: white;}#sk-container-id-3 label.sk-toggleable__label {cursor: pointer;display: block;width: 100%;margin-bottom: 0;padding: 0.3em;box-sizing: border-box;text-align: center;}#sk-container-id-3 label.sk-toggleable__label-arrow:before {content: \"▸\";float: left;margin-right: 0.25em;color: #696969;}#sk-container-id-3 label.sk-toggleable__label-arrow:hover:before {color: black;}#sk-container-id-3 div.sk-estimator:hover label.sk-toggleable__label-arrow:before {color: black;}#sk-container-id-3 div.sk-toggleable__content {max-height: 0;max-width: 0;overflow: hidden;text-align: left;background-color: #f0f8ff;}#sk-container-id-3 div.sk-toggleable__content pre {margin: 0.2em;color: black;border-radius: 0.25em;background-color: #f0f8ff;}#sk-container-id-3 input.sk-toggleable__control:checked~div.sk-toggleable__content {max-height: 200px;max-width: 100%;overflow: auto;}#sk-container-id-3 input.sk-toggleable__control:checked~label.sk-toggleable__label-arrow:before {content: \"▾\";}#sk-container-id-3 div.sk-estimator input.sk-toggleable__control:checked~label.sk-toggleable__label {background-color: #d4ebff;}#sk-container-id-3 div.sk-label input.sk-toggleable__control:checked~label.sk-toggleable__label {background-color: #d4ebff;}#sk-container-id-3 input.sk-hidden--visually {border: 0;clip: rect(1px 1px 1px 1px);clip: rect(1px, 1px, 1px, 1px);height: 1px;margin: -1px;overflow: hidden;padding: 0;position: absolute;width: 1px;}#sk-container-id-3 div.sk-estimator {font-family: monospace;background-color: #f0f8ff;border: 1px dotted black;border-radius: 0.25em;box-sizing: border-box;margin-bottom: 0.5em;}#sk-container-id-3 div.sk-estimator:hover {background-color: #d4ebff;}#sk-container-id-3 div.sk-parallel-item::after {content: \"\";width: 100%;border-bottom: 1px solid gray;flex-grow: 1;}#sk-container-id-3 div.sk-label:hover label.sk-toggleable__label {background-color: #d4ebff;}#sk-container-id-3 div.sk-serial::before {content: \"\";position: absolute;border-left: 1px solid gray;box-sizing: border-box;top: 0;bottom: 0;left: 50%;z-index: 0;}#sk-container-id-3 div.sk-serial {display: flex;flex-direction: column;align-items: center;background-color: white;padding-right: 0.2em;padding-left: 0.2em;position: relative;}#sk-container-id-3 div.sk-item {position: relative;z-index: 1;}#sk-container-id-3 div.sk-parallel {display: flex;align-items: stretch;justify-content: center;background-color: white;position: relative;}#sk-container-id-3 div.sk-item::before, #sk-container-id-3 div.sk-parallel-item::before {content: \"\";position: absolute;border-left: 1px solid gray;box-sizing: border-box;top: 0;bottom: 0;left: 50%;z-index: -1;}#sk-container-id-3 div.sk-parallel-item {display: flex;flex-direction: column;z-index: 1;position: relative;background-color: white;}#sk-container-id-3 div.sk-parallel-item:first-child::after {align-self: flex-end;width: 50%;}#sk-container-id-3 div.sk-parallel-item:last-child::after {align-self: flex-start;width: 50%;}#sk-container-id-3 div.sk-parallel-item:only-child::after {width: 0;}#sk-container-id-3 div.sk-dashed-wrapped {border: 1px dashed gray;margin: 0 0.4em 0.5em 0.4em;box-sizing: border-box;padding-bottom: 0.4em;background-color: white;}#sk-container-id-3 div.sk-label label {font-family: monospace;font-weight: bold;display: inline-block;line-height: 1.2em;}#sk-container-id-3 div.sk-label-container {text-align: center;}#sk-container-id-3 div.sk-container {/* jupyter's `normalize.less` sets `[hidden] { display: none; }` but bootstrap.min.css set `[hidden] { display: none !important; }` so we also need the `!important` here to be able to override the default hidden behavior on the sphinx rendered scikit-learn.org. See: https://github.com/scikit-learn/scikit-learn/issues/21755 */display: inline-block !important;position: relative;}#sk-container-id-3 div.sk-text-repr-fallback {display: none;}</style><div id=\"sk-container-id-3\" class=\"sk-top-container\"><div class=\"sk-text-repr-fallback\"><pre>RandomForestClassifier(n_estimators=50)</pre><b>In a Jupyter environment, please rerun this cell to show the HTML representation or trust the notebook. <br />On GitHub, the HTML representation is unable to render, please try loading this page with nbviewer.org.</b></div><div class=\"sk-container\" hidden><div class=\"sk-item\"><div class=\"sk-estimator sk-toggleable\"><input class=\"sk-toggleable__control sk-hidden--visually\" id=\"sk-estimator-id-3\" type=\"checkbox\" checked><label for=\"sk-estimator-id-3\" class=\"sk-toggleable__label sk-toggleable__label-arrow\">RandomForestClassifier</label><div class=\"sk-toggleable__content\"><pre>RandomForestClassifier(n_estimators=50)</pre></div></div></div></div></div>"
      ],
      "text/plain": [
       "RandomForestClassifier(n_estimators=50)"
      ]
     },
     "execution_count": 203,
     "metadata": {},
     "output_type": "execute_result"
    }
   ],
   "source": [
    "modelV3 = RandomForestClassifier(n_estimators=50)\n",
    "modelV3.fit(X_train, y_train)"
   ]
  },
  {
   "cell_type": "markdown",
   "metadata": {
    "id": "u5oacZ3JgqSq"
   },
   "source": [
    "<div style=\"background-color: #DBEDF8; padding: 10px; border-radius: 5px;\">\n",
    "\n",
    "   <b><h4>· Testing</h4></b>\n",
    "</div>\n"
   ]
  },
  {
   "cell_type": "code",
   "execution_count": null,
   "metadata": {
    "colab": {
     "base_uri": "https://localhost:8080/"
    },
    "id": "wPiAiCoFOEsy",
    "outputId": "3540c7ef-78d1-4690-93b0-2dfc8f844b4d"
   },
   "outputs": [
    {
     "name": "stdout",
     "output_type": "stream",
     "text": [
      "              precision    recall  f1-score   support\n",
      "\n",
      "           0       0.91      1.00      0.95     12501\n",
      "           1       0.38      0.00      0.01      1225\n",
      "\n",
      "    accuracy                           0.91     13726\n",
      "   macro avg       0.64      0.50      0.48     13726\n",
      "weighted avg       0.86      0.91      0.87     13726\n",
      "\n",
      "[[12491    10]\n",
      " [ 1219     6]]\n"
     ]
    }
   ],
   "source": [
    "y_pred = modelV3.predict(X_test)\n",
    "\n",
    "print(classification_report(y_test, y_pred))\n",
    "print(confusion_matrix(y_test, y_pred))"
   ]
  },
  {
   "cell_type": "code",
   "execution_count": null,
   "metadata": {
    "colab": {
     "base_uri": "https://localhost:8080/"
    },
    "id": "86fH-uglOEsy",
    "outputId": "aabef19e-1ea5-41a6-b1f3-c8537159e1d1"
   },
   "outputs": [
    {
     "name": "stdout",
     "output_type": "stream",
     "text": [
      "Accuracy :  0.9104618971295352\n",
      "Precision :  0.375\n",
      "Recall :  0.004897959183673469\n",
      "F1 :  0.0096696212731668\n"
     ]
    }
   ],
   "source": [
    "print('Accuracy : ', accuracy_score(y_test, y_pred))\n",
    "print('Precision : ', precision_score(y_test, y_pred))\n",
    "print('Recall : ', recall_score(y_test, y_pred))\n",
    "print('F1 : ', f1_score(y_test, y_pred))"
   ]
  },
  {
   "cell_type": "markdown",
   "metadata": {
    "id": "i9KzlBTGgqSq"
   },
   "source": [
    "<div style=\"background-color: #DBEDF8; padding: 10px; border-radius: 5px;\">\n",
    "\n",
    "   <b><h4>· Saving</h4></b>\n",
    "</div>\n"
   ]
  },
  {
   "cell_type": "code",
   "execution_count": null,
   "metadata": {
    "colab": {
     "base_uri": "https://localhost:8080/"
    },
    "id": "06RAzootOEsz",
    "outputId": "ea256308-1d52-44bd-be0f-749962a2b6cd"
   },
   "outputs": [
    {
     "data": {
      "text/plain": [
       "['./drive/MyDrive/modele_RFV3.pkl']"
      ]
     },
     "execution_count": 206,
     "metadata": {},
     "output_type": "execute_result"
    }
   ],
   "source": [
    "import joblib\n",
    "joblib.dump(model, './drive/MyDrive/modele_RFV3.pkl')"
   ]
  },
  {
   "cell_type": "markdown",
   "metadata": {
    "id": "CIQQp0pLgqSq"
   },
   "source": [
    "<div style=\"background-color: #DBEDF8; padding: 10px; border-radius: 5px;\">\n",
    "\n",
    "   <b><h4>· Reuse</h4></b>\n",
    "</div>"
   ]
  },
  {
   "cell_type": "code",
   "execution_count": null,
   "metadata": {
    "id": "scREZ9kdOEsz"
   },
   "outputs": [],
   "source": [
    "loaded_model = joblib.load('./drive/MyDrive/modele_RFV3.pkl')\n",
    "y_pred = loaded_model.predict(X_test)"
   ]
  },
  {
   "cell_type": "markdown",
   "metadata": {
    "id": "nZ983FQWgqSj"
   },
   "source": [
    "<div style=\"background-color: #DBEDF8; padding: 10px; border-radius: 5px;\">\n",
    "\n",
    "   <b><h4>· Trial 5 : Random Forest Classification</h4></b><br>\n",
    "    Dans cette version, nous avons  exploité l'ensemble du preprocessing.\n",
    "   <b><h4>Training</h4></b>\n",
    "</div>\n",
    "\n"
   ]
  },
  {
   "cell_type": "code",
   "execution_count": null,
   "metadata": {
    "colab": {
     "base_uri": "https://localhost:8080/",
     "height": 74
    },
    "id": "bhQ0rlGJgqSq",
    "outputId": "ab6f5793-2c1c-4480-b199-301da376fad3"
   },
   "outputs": [
    {
     "data": {
      "text/html": [
       "<style>#sk-container-id-7 {color: black;background-color: white;}#sk-container-id-7 pre{padding: 0;}#sk-container-id-7 div.sk-toggleable {background-color: white;}#sk-container-id-7 label.sk-toggleable__label {cursor: pointer;display: block;width: 100%;margin-bottom: 0;padding: 0.3em;box-sizing: border-box;text-align: center;}#sk-container-id-7 label.sk-toggleable__label-arrow:before {content: \"▸\";float: left;margin-right: 0.25em;color: #696969;}#sk-container-id-7 label.sk-toggleable__label-arrow:hover:before {color: black;}#sk-container-id-7 div.sk-estimator:hover label.sk-toggleable__label-arrow:before {color: black;}#sk-container-id-7 div.sk-toggleable__content {max-height: 0;max-width: 0;overflow: hidden;text-align: left;background-color: #f0f8ff;}#sk-container-id-7 div.sk-toggleable__content pre {margin: 0.2em;color: black;border-radius: 0.25em;background-color: #f0f8ff;}#sk-container-id-7 input.sk-toggleable__control:checked~div.sk-toggleable__content {max-height: 200px;max-width: 100%;overflow: auto;}#sk-container-id-7 input.sk-toggleable__control:checked~label.sk-toggleable__label-arrow:before {content: \"▾\";}#sk-container-id-7 div.sk-estimator input.sk-toggleable__control:checked~label.sk-toggleable__label {background-color: #d4ebff;}#sk-container-id-7 div.sk-label input.sk-toggleable__control:checked~label.sk-toggleable__label {background-color: #d4ebff;}#sk-container-id-7 input.sk-hidden--visually {border: 0;clip: rect(1px 1px 1px 1px);clip: rect(1px, 1px, 1px, 1px);height: 1px;margin: -1px;overflow: hidden;padding: 0;position: absolute;width: 1px;}#sk-container-id-7 div.sk-estimator {font-family: monospace;background-color: #f0f8ff;border: 1px dotted black;border-radius: 0.25em;box-sizing: border-box;margin-bottom: 0.5em;}#sk-container-id-7 div.sk-estimator:hover {background-color: #d4ebff;}#sk-container-id-7 div.sk-parallel-item::after {content: \"\";width: 100%;border-bottom: 1px solid gray;flex-grow: 1;}#sk-container-id-7 div.sk-label:hover label.sk-toggleable__label {background-color: #d4ebff;}#sk-container-id-7 div.sk-serial::before {content: \"\";position: absolute;border-left: 1px solid gray;box-sizing: border-box;top: 0;bottom: 0;left: 50%;z-index: 0;}#sk-container-id-7 div.sk-serial {display: flex;flex-direction: column;align-items: center;background-color: white;padding-right: 0.2em;padding-left: 0.2em;position: relative;}#sk-container-id-7 div.sk-item {position: relative;z-index: 1;}#sk-container-id-7 div.sk-parallel {display: flex;align-items: stretch;justify-content: center;background-color: white;position: relative;}#sk-container-id-7 div.sk-item::before, #sk-container-id-7 div.sk-parallel-item::before {content: \"\";position: absolute;border-left: 1px solid gray;box-sizing: border-box;top: 0;bottom: 0;left: 50%;z-index: -1;}#sk-container-id-7 div.sk-parallel-item {display: flex;flex-direction: column;z-index: 1;position: relative;background-color: white;}#sk-container-id-7 div.sk-parallel-item:first-child::after {align-self: flex-end;width: 50%;}#sk-container-id-7 div.sk-parallel-item:last-child::after {align-self: flex-start;width: 50%;}#sk-container-id-7 div.sk-parallel-item:only-child::after {width: 0;}#sk-container-id-7 div.sk-dashed-wrapped {border: 1px dashed gray;margin: 0 0.4em 0.5em 0.4em;box-sizing: border-box;padding-bottom: 0.4em;background-color: white;}#sk-container-id-7 div.sk-label label {font-family: monospace;font-weight: bold;display: inline-block;line-height: 1.2em;}#sk-container-id-7 div.sk-label-container {text-align: center;}#sk-container-id-7 div.sk-container {/* jupyter's `normalize.less` sets `[hidden] { display: none; }` but bootstrap.min.css set `[hidden] { display: none !important; }` so we also need the `!important` here to be able to override the default hidden behavior on the sphinx rendered scikit-learn.org. See: https://github.com/scikit-learn/scikit-learn/issues/21755 */display: inline-block !important;position: relative;}#sk-container-id-7 div.sk-text-repr-fallback {display: none;}</style><div id=\"sk-container-id-7\" class=\"sk-top-container\"><div class=\"sk-text-repr-fallback\"><pre>RandomForestClassifier(max_depth=25, min_samples_split=10, n_estimators=10)</pre><b>In a Jupyter environment, please rerun this cell to show the HTML representation or trust the notebook. <br />On GitHub, the HTML representation is unable to render, please try loading this page with nbviewer.org.</b></div><div class=\"sk-container\" hidden><div class=\"sk-item\"><div class=\"sk-estimator sk-toggleable\"><input class=\"sk-toggleable__control sk-hidden--visually\" id=\"sk-estimator-id-7\" type=\"checkbox\" checked><label for=\"sk-estimator-id-7\" class=\"sk-toggleable__label sk-toggleable__label-arrow\">RandomForestClassifier</label><div class=\"sk-toggleable__content\"><pre>RandomForestClassifier(max_depth=25, min_samples_split=10, n_estimators=10)</pre></div></div></div></div></div>"
      ],
      "text/plain": [
       "RandomForestClassifier(max_depth=25, min_samples_split=10, n_estimators=10)"
      ]
     },
     "execution_count": 228,
     "metadata": {},
     "output_type": "execute_result"
    }
   ],
   "source": [
    "modelV4 = RandomForestClassifier(n_estimators = 10, max_depth=25, criterion = \"gini\", min_samples_split=10)\n",
    "modelV4.fit(X_train, y_train)"
   ]
  },
  {
   "cell_type": "markdown",
   "metadata": {
    "id": "cAzHYdai4lcw"
   },
   "source": [
    "<div style=\"background-color: #DBEDF8; padding: 10px; border-radius: 5px;\">\n",
    "\n",
    "   <b><h4>· Testing</h4></b>\n",
    "</div>\n"
   ]
  },
  {
   "cell_type": "code",
   "execution_count": null,
   "metadata": {
    "colab": {
     "base_uri": "https://localhost:8080/"
    },
    "id": "89L3RdtFgqSq",
    "outputId": "756ea090-6424-4107-d087-5ec3a0d6ca8f"
   },
   "outputs": [
    {
     "name": "stdout",
     "output_type": "stream",
     "text": [
      "              precision    recall  f1-score   support\n",
      "\n",
      "           0       0.91      1.00      0.95     12501\n",
      "           1       0.19      0.00      0.00      1225\n",
      "\n",
      "    accuracy                           0.91     13726\n",
      "   macro avg       0.55      0.50      0.48     13726\n",
      "weighted avg       0.85      0.91      0.87     13726\n",
      "\n",
      "[[12488    13]\n",
      " [ 1222     3]]\n"
     ]
    }
   ],
   "source": [
    "y_pred = modelV4.predict(X_test)\n",
    "\n",
    "print(classification_report(y_test, y_pred))\n",
    "print(confusion_matrix(y_test, y_pred))"
   ]
  },
  {
   "cell_type": "code",
   "execution_count": null,
   "metadata": {
    "colab": {
     "base_uri": "https://localhost:8080/"
    },
    "id": "2TvCu1iygqSq",
    "outputId": "2692198f-b17e-4cd5-b04a-d474cc58b0d1"
   },
   "outputs": [
    {
     "name": "stdout",
     "output_type": "stream",
     "text": [
      "Accuracy :  0.9100247705085239\n",
      "Precision :  0.1875\n",
      "Recall :  0.0024489795918367346\n",
      "F1 :  0.0048348106365834\n"
     ]
    }
   ],
   "source": [
    "print('Accuracy : ', accuracy_score(y_test, y_pred))\n",
    "print('Precision : ', precision_score(y_test, y_pred))\n",
    "print('Recall : ', recall_score(y_test, y_pred))\n",
    "print('F1 : ', f1_score(y_test, y_pred))"
   ]
  },
  {
   "cell_type": "markdown",
   "metadata": {
    "id": "tEheQAwwvRwh"
   },
   "source": [
    "<div style=\"background-color: #DBEDF8; padding: 10px; border-radius: 5px;\">\n",
    "\n",
    "   <b><h4>· Saving</h4></b>\n",
    "</div>\n"
   ]
  },
  {
   "cell_type": "code",
   "execution_count": null,
   "metadata": {
    "colab": {
     "base_uri": "https://localhost:8080/"
    },
    "id": "1QRrFfaLgqSq",
    "outputId": "c67a51df-975a-4e26-85e3-52645f00d903"
   },
   "outputs": [
    {
     "data": {
      "text/plain": [
       "['./drive/MyDrive/modele_RFV3.pkl']"
      ]
     },
     "execution_count": 231,
     "metadata": {},
     "output_type": "execute_result"
    }
   ],
   "source": [
    "import joblib\n",
    "joblib.dump(model, './drive/MyDrive/modele_RFV3.pkl')"
   ]
  },
  {
   "cell_type": "markdown",
   "metadata": {
    "id": "AzlOBf3ivRwh"
   },
   "source": [
    "<div style=\"background-color: #DBEDF8; padding: 10px; border-radius: 5px;\">\n",
    "\n",
    "   <b><h4>· Reuse</h4></b>\n",
    "</div>"
   ]
  },
  {
   "cell_type": "code",
   "execution_count": null,
   "metadata": {
    "id": "k5k77dNZgqSq"
   },
   "outputs": [],
   "source": [
    "loaded_model = joblib.load('./drive/MyDrive/modele_RFV3.pkl')\n",
    "y_pred = loaded_model.predict(X_test)"
   ]
  },
  {
   "cell_type": "markdown",
   "metadata": {
    "id": "X926NRLb4lcq"
   },
   "source": [
    "<div style=\"background-color: #DBEDF8; padding: 10px; border-radius: 5px;\">\n",
    "\n",
    "   <b><h4>· Trial 6 : Neural Network</h4></b>\n",
    "   <b><h4>Training</h4></b>\n",
    "</div>\n"
   ]
  },
  {
   "cell_type": "code",
   "execution_count": null,
   "metadata": {
    "colab": {
     "base_uri": "https://localhost:8080/",
     "height": 74
    },
    "id": "JhWyY-9R4lcw",
    "outputId": "bc043efb-451b-4fbc-aa8e-30f29dbbd366"
   },
   "outputs": [
    {
     "data": {
      "text/html": [
       "<style>#sk-container-id-8 {color: black;background-color: white;}#sk-container-id-8 pre{padding: 0;}#sk-container-id-8 div.sk-toggleable {background-color: white;}#sk-container-id-8 label.sk-toggleable__label {cursor: pointer;display: block;width: 100%;margin-bottom: 0;padding: 0.3em;box-sizing: border-box;text-align: center;}#sk-container-id-8 label.sk-toggleable__label-arrow:before {content: \"▸\";float: left;margin-right: 0.25em;color: #696969;}#sk-container-id-8 label.sk-toggleable__label-arrow:hover:before {color: black;}#sk-container-id-8 div.sk-estimator:hover label.sk-toggleable__label-arrow:before {color: black;}#sk-container-id-8 div.sk-toggleable__content {max-height: 0;max-width: 0;overflow: hidden;text-align: left;background-color: #f0f8ff;}#sk-container-id-8 div.sk-toggleable__content pre {margin: 0.2em;color: black;border-radius: 0.25em;background-color: #f0f8ff;}#sk-container-id-8 input.sk-toggleable__control:checked~div.sk-toggleable__content {max-height: 200px;max-width: 100%;overflow: auto;}#sk-container-id-8 input.sk-toggleable__control:checked~label.sk-toggleable__label-arrow:before {content: \"▾\";}#sk-container-id-8 div.sk-estimator input.sk-toggleable__control:checked~label.sk-toggleable__label {background-color: #d4ebff;}#sk-container-id-8 div.sk-label input.sk-toggleable__control:checked~label.sk-toggleable__label {background-color: #d4ebff;}#sk-container-id-8 input.sk-hidden--visually {border: 0;clip: rect(1px 1px 1px 1px);clip: rect(1px, 1px, 1px, 1px);height: 1px;margin: -1px;overflow: hidden;padding: 0;position: absolute;width: 1px;}#sk-container-id-8 div.sk-estimator {font-family: monospace;background-color: #f0f8ff;border: 1px dotted black;border-radius: 0.25em;box-sizing: border-box;margin-bottom: 0.5em;}#sk-container-id-8 div.sk-estimator:hover {background-color: #d4ebff;}#sk-container-id-8 div.sk-parallel-item::after {content: \"\";width: 100%;border-bottom: 1px solid gray;flex-grow: 1;}#sk-container-id-8 div.sk-label:hover label.sk-toggleable__label {background-color: #d4ebff;}#sk-container-id-8 div.sk-serial::before {content: \"\";position: absolute;border-left: 1px solid gray;box-sizing: border-box;top: 0;bottom: 0;left: 50%;z-index: 0;}#sk-container-id-8 div.sk-serial {display: flex;flex-direction: column;align-items: center;background-color: white;padding-right: 0.2em;padding-left: 0.2em;position: relative;}#sk-container-id-8 div.sk-item {position: relative;z-index: 1;}#sk-container-id-8 div.sk-parallel {display: flex;align-items: stretch;justify-content: center;background-color: white;position: relative;}#sk-container-id-8 div.sk-item::before, #sk-container-id-8 div.sk-parallel-item::before {content: \"\";position: absolute;border-left: 1px solid gray;box-sizing: border-box;top: 0;bottom: 0;left: 50%;z-index: -1;}#sk-container-id-8 div.sk-parallel-item {display: flex;flex-direction: column;z-index: 1;position: relative;background-color: white;}#sk-container-id-8 div.sk-parallel-item:first-child::after {align-self: flex-end;width: 50%;}#sk-container-id-8 div.sk-parallel-item:last-child::after {align-self: flex-start;width: 50%;}#sk-container-id-8 div.sk-parallel-item:only-child::after {width: 0;}#sk-container-id-8 div.sk-dashed-wrapped {border: 1px dashed gray;margin: 0 0.4em 0.5em 0.4em;box-sizing: border-box;padding-bottom: 0.4em;background-color: white;}#sk-container-id-8 div.sk-label label {font-family: monospace;font-weight: bold;display: inline-block;line-height: 1.2em;}#sk-container-id-8 div.sk-label-container {text-align: center;}#sk-container-id-8 div.sk-container {/* jupyter's `normalize.less` sets `[hidden] { display: none; }` but bootstrap.min.css set `[hidden] { display: none !important; }` so we also need the `!important` here to be able to override the default hidden behavior on the sphinx rendered scikit-learn.org. See: https://github.com/scikit-learn/scikit-learn/issues/21755 */display: inline-block !important;position: relative;}#sk-container-id-8 div.sk-text-repr-fallback {display: none;}</style><div id=\"sk-container-id-8\" class=\"sk-top-container\"><div class=\"sk-text-repr-fallback\"><pre>MLPClassifier(hidden_layer_sizes=(11, 11, 11), max_iter=500)</pre><b>In a Jupyter environment, please rerun this cell to show the HTML representation or trust the notebook. <br />On GitHub, the HTML representation is unable to render, please try loading this page with nbviewer.org.</b></div><div class=\"sk-container\" hidden><div class=\"sk-item\"><div class=\"sk-estimator sk-toggleable\"><input class=\"sk-toggleable__control sk-hidden--visually\" id=\"sk-estimator-id-8\" type=\"checkbox\" checked><label for=\"sk-estimator-id-8\" class=\"sk-toggleable__label sk-toggleable__label-arrow\">MLPClassifier</label><div class=\"sk-toggleable__content\"><pre>MLPClassifier(hidden_layer_sizes=(11, 11, 11), max_iter=500)</pre></div></div></div></div></div>"
      ],
      "text/plain": [
       "MLPClassifier(hidden_layer_sizes=(11, 11, 11), max_iter=500)"
      ]
     },
     "execution_count": 234,
     "metadata": {},
     "output_type": "execute_result"
    }
   ],
   "source": [
    "model_mlpc = MLPClassifier(hidden_layer_sizes=(11,11,11),max_iter=500)\n",
    "model_mlpc.fit(X_train, y_train)\n"
   ]
  },
  {
   "cell_type": "markdown",
   "metadata": {
    "id": "cAzHYdai4lcw"
   },
   "source": [
    "<div style=\"background-color: #DBEDF8; padding: 10px; border-radius: 5px;\">\n",
    "\n",
    "   <b><h4>· Testing</h4></b>\n",
    "</div>\n"
   ]
  },
  {
   "cell_type": "code",
   "execution_count": null,
   "metadata": {
    "colab": {
     "base_uri": "https://localhost:8080/"
    },
    "id": "LJdr2RJ_4lcw",
    "outputId": "4cf49812-2fff-44ac-80de-4d22e58b92fd"
   },
   "outputs": [
    {
     "name": "stdout",
     "output_type": "stream",
     "text": [
      "              precision    recall  f1-score   support\n",
      "\n",
      "           0       0.91      1.00      0.95     12501\n",
      "           1       0.11      0.00      0.00      1225\n",
      "\n",
      "    accuracy                           0.91     13726\n",
      "   macro avg       0.51      0.50      0.48     13726\n",
      "weighted avg       0.84      0.91      0.87     13726\n",
      "\n",
      "[[12493     8]\n",
      " [ 1224     1]]\n"
     ]
    }
   ],
   "source": [
    "y_pred = model_mlpc.predict(X_test)\n",
    "\n",
    "print(classification_report(y_test, y_pred))\n",
    "print(confusion_matrix(y_test, y_pred))"
   ]
  },
  {
   "cell_type": "code",
   "execution_count": null,
   "metadata": {
    "colab": {
     "base_uri": "https://localhost:8080/"
    },
    "id": "tEcf5yOgFKuv",
    "outputId": "d0337cfd-c42a-4084-d1a6-91d3fca0791d"
   },
   "outputs": [
    {
     "name": "stdout",
     "output_type": "stream",
     "text": [
      "Accuracy :  0.9102433338190296\n",
      "Precision :  0.1111111111111111\n",
      "Recall :  0.0008163265306122449\n",
      "F1 :  0.001620745542949757\n"
     ]
    }
   ],
   "source": [
    "print('Accuracy : ', accuracy_score(y_test, y_pred))\n",
    "print('Precision : ', precision_score(y_test, y_pred))\n",
    "print('Recall : ', recall_score(y_test, y_pred))\n",
    "print('F1 : ', f1_score(y_test, y_pred))"
   ]
  },
  {
   "cell_type": "markdown",
   "metadata": {
    "id": "tEheQAwwvRwh"
   },
   "source": [
    "<div style=\"background-color: #DBEDF8; padding: 10px; border-radius: 5px;\">\n",
    "\n",
    "   <b><h4>· Saving</h4></b>\n",
    "</div>\n"
   ]
  },
  {
   "cell_type": "code",
   "execution_count": null,
   "metadata": {
    "colab": {
     "base_uri": "https://localhost:8080/"
    },
    "id": "sYr5v4Bo4lcx",
    "outputId": "f84ce439-0652-43b8-85a5-6f78577d01b9"
   },
   "outputs": [
    {
     "data": {
      "text/plain": [
       "['./drive/MyDrive/modele_NN.pkl']"
      ]
     },
     "execution_count": 237,
     "metadata": {},
     "output_type": "execute_result"
    }
   ],
   "source": [
    "<div style=\"background-color: #DBEDF8; padding: 10px; border-radius: 5px;\">\n",
    "\n",
    "   <b><h4>· Reuse</h4></b>\n",
    "</div>import joblib\n",
    "joblib.dump(model_mlpc, './drive/MyDrive/modele_NN.pkl')"
   ]
  },
  {
   "cell_type": "markdown",
   "metadata": {
    "id": "AzlOBf3ivRwh"
   },
   "source": [
    "<div style=\"background-color: #DBEDF8; padding: 10px; border-radius: 5px;\">\n",
    "\n",
    "   <b><h4>· Reuse</h4></b>\n",
    "</div>"
   ]
  },
  {
   "cell_type": "code",
   "execution_count": null,
   "metadata": {
    "id": "yp4AGwJh4lcx"
   },
   "outputs": [],
   "source": [
    "loaded_model = joblib.load('./drive/MyDrive/modele_NN.pkl')\n",
    "y_pred = loaded_model.predict(X_test)"
   ]
  },
  {
   "cell_type": "markdown",
   "metadata": {
    "id": "d6toHK851xRt"
   },
   "source": [
    "\n",
    "<div style=\"background-color: #DBEDF8; padding: 10px; border-radius: 5px;\">\n",
    "    <h3><b>Deployment </h3></b>\n",
    "</div>\n",
    "\n"
   ]
  },
  {
   "cell_type": "markdown",
   "metadata": {
    "id": "u-kx7NSy4dLx"
   },
   "source": [
    "\n",
    "<div style=\"background-color: #DBEDF8; padding: 10px; border-radius: 5px;\">\n",
    "    <h4><b>Importation </h4></b>\n",
    "</div>\n",
    "\n"
   ]
  },
  {
   "cell_type": "code",
   "execution_count": null,
   "metadata": {
    "colab": {
     "base_uri": "https://localhost:8080/"
    },
    "id": "4_tE24315yVm",
    "outputId": "cb6dabd6-ebf2-4005-8ec4-ea93b64613ed"
   },
   "outputs": [
    {
     "name": "stdout",
     "output_type": "stream",
     "text": [
      "Requirement already satisfied: flask-ngrok in /usr/local/lib/python3.10/dist-packages (0.0.25)\n",
      "Requirement already satisfied: Flask>=0.8 in /usr/local/lib/python3.10/dist-packages (from flask-ngrok) (2.2.5)\n",
      "Requirement already satisfied: requests in /usr/local/lib/python3.10/dist-packages (from flask-ngrok) (2.31.0)\n",
      "Requirement already satisfied: Werkzeug>=2.2.2 in /usr/local/lib/python3.10/dist-packages (from Flask>=0.8->flask-ngrok) (3.0.1)\n",
      "Requirement already satisfied: Jinja2>=3.0 in /usr/local/lib/python3.10/dist-packages (from Flask>=0.8->flask-ngrok) (3.1.2)\n",
      "Requirement already satisfied: itsdangerous>=2.0 in /usr/local/lib/python3.10/dist-packages (from Flask>=0.8->flask-ngrok) (2.1.2)\n",
      "Requirement already satisfied: click>=8.0 in /usr/local/lib/python3.10/dist-packages (from Flask>=0.8->flask-ngrok) (8.1.7)\n",
      "Requirement already satisfied: charset-normalizer<4,>=2 in /usr/local/lib/python3.10/dist-packages (from requests->flask-ngrok) (3.3.2)\n",
      "Requirement already satisfied: idna<4,>=2.5 in /usr/local/lib/python3.10/dist-packages (from requests->flask-ngrok) (3.6)\n",
      "Requirement already satisfied: urllib3<3,>=1.21.1 in /usr/local/lib/python3.10/dist-packages (from requests->flask-ngrok) (2.0.7)\n",
      "Requirement already satisfied: certifi>=2017.4.17 in /usr/local/lib/python3.10/dist-packages (from requests->flask-ngrok) (2023.11.17)\n",
      "Requirement already satisfied: MarkupSafe>=2.0 in /usr/local/lib/python3.10/dist-packages (from Jinja2>=3.0->Flask>=0.8->flask-ngrok) (2.1.3)\n"
     ]
    }
   ],
   "source": [
    "!pip install flask-ngrok"
   ]
  },
  {
   "cell_type": "code",
   "execution_count": null,
   "metadata": {
    "colab": {
     "base_uri": "https://localhost:8080/"
    },
    "id": "I_LmbR4H8-Ey",
    "outputId": "08bbdf0e-850b-45f8-a15c-fbd69c685b47"
   },
   "outputs": [
    {
     "name": "stdout",
     "output_type": "stream",
     "text": [
      "Requirement already satisfied: pyngrok==4.1.1 in /usr/local/lib/python3.10/dist-packages (4.1.1)\n",
      "Requirement already satisfied: future in /usr/local/lib/python3.10/dist-packages (from pyngrok==4.1.1) (0.18.3)\n",
      "Requirement already satisfied: PyYAML in /usr/local/lib/python3.10/dist-packages (from pyngrok==4.1.1) (6.0.1)\n",
      "Authtoken saved to configuration file: /root/.ngrok2/ngrok.yml\n"
     ]
    }
   ],
   "source": [
    "!pip install pyngrok==4.1.1\n",
    "!ngrok authtoken 2YZhHeNOXzMLWWPaHgWaFz3aULa_2EKhM15x57GER75y9x3ws"
   ]
  },
  {
   "cell_type": "code",
   "execution_count": null,
   "metadata": {
    "id": "85RpbStB4h5X"
   },
   "outputs": [],
   "source": [
    "from flask_ngrok import run_with_ngrok\n",
    "from flask import Flask\n",
    "import joblib\n",
    "\n",
    "import numpy as np\n",
    "from flask import Flask, request, jsonify, render_template\n",
    "from sklearn.preprocessing import StandardScaler\n",
    "import pickle\n",
    "import os"
   ]
  },
  {
   "cell_type": "markdown",
   "metadata": {
    "id": "zckXfnNC44RB"
   },
   "source": [
    "\n",
    "<div style=\"background-color: #DBEDF8; padding: 10px; border-radius: 5px;\">\n",
    "    <h4><b>Make and export the page </h4></b>\n",
    "</div>\n",
    "\n"
   ]
  },
  {
   "cell_type": "code",
   "execution_count": null,
   "metadata": {
    "id": "iyH06ILi5dhX"
   },
   "outputs": [],
   "source": [
    "html_content = \"\"\"\n",
    "\n",
    "\n",
    "<!DOCTYPE html>\n",
    "<html lang=\"fr\">\n",
    "  <head>\n",
    "    <meta charset=\"UTF-8\" />\n",
    "    <meta name=\"viewport\" content=\"width=device-width, initial-scale=1.0\" />\n",
    "    <title>Diabetes Prediction</title>\n",
    "    <link\n",
    "      href=\"https://cdn.jsdelivr.net/npm/tailwindcss@2.0.1/dist/tailwind.min.css\"\n",
    "      rel=\"stylesheet\"\n",
    "    />\n",
    "    <style>\n",
    "      /* Ajouter des styles CSS personnalisés ici */\n",
    "      body {\n",
    "        /* Utilisez la chaîne encodée en base64 ici comme valeur de l'URL */\n",
    "        background-image: url('https://lh3.googleusercontent.com/drive-viewer/AK7aPaC0GVlEskpJ2hNMLbzoP-3Wt886XgDMxSfad0YleTrTawJXpNrSDoQniTm_8cHNkNAFxteEEC933jSWSk_RMUfzabN4sA=w10000-h10000');\n",
    "        background-size: cover;\n",
    "        background-position: center center;\n",
    "        background-repeat: no-repeat;\n",
    "        background-attachment: fixed;\n",
    "      }\n",
    "    </style>\n",
    "  </head>\n",
    "\n",
    "  <body class=\"bg-gray-100 p-8\">\n",
    "    <div\n",
    "      class=\"max-w-md mx-auto bg-white rounded-xl shadow-md overflow-hidden md:max-w-2xl\"\n",
    "    >\n",
    "      <div class=\"\">\n",
    "        <div class=\"p-8\">\n",
    "          <div\n",
    "            class=\"uppercase tracking-wide text-sm text-indigo-500 font-semibold\"\n",
    "          >\n",
    "            Diabetes Prediction using Random Forest\n",
    "          </div>\n",
    "          <!-- Zone d'affichage de la prédiction -->\n",
    "          <div id=\"prediction\" class=\"mt-4\">\n",
    "            {% if prediction_text %}\n",
    "            <p class=\"text-green-500 font-bold\">\n",
    "              Prediction: {{ prediction_text }}\n",
    "            </p>\n",
    "            {% endif %}\n",
    "          </div>\n",
    "          <form action=\"/predict\" method=\"post\" class=\"mt-4\">\n",
    "            <div class=\"mb-4\">\n",
    "              <!-- Age -->\n",
    "              <div class=\"mb-4\">\n",
    "                <label\n",
    "                  class=\"block text-gray-700 text-sm font-bold mb-2\"\n",
    "                  for=\"age\"\n",
    "                  >Age</label\n",
    "                >\n",
    "                <input\n",
    "                  type=\"number\"\n",
    "                  id=\"age\"\n",
    "                  name=\"age\"\n",
    "                  value=\"2\"\n",
    "                  class=\"shadow appearance-none border rounded w-full py-2 px-3 text-gray-700 leading-tight focus:outline-none focus:shadow-outline\"\n",
    "                />\n",
    "              </div>\n",
    "            </div>\n",
    "\n",
    "            <!-- Time in Hospital -->\n",
    "            <div class=\"mb-4\">\n",
    "              <label\n",
    "                class=\"block text-gray-700 text-sm font-bold mb-2\"\n",
    "                for=\"time_in_hospital\"\n",
    "                >Time in Hospital</label\n",
    "              >\n",
    "              <input\n",
    "                type=\"number\"\n",
    "                id=\"time_in_hospital\"\n",
    "                name=\"time_in_hospital\"\n",
    "                value=\"3\"\n",
    "                class=\"shadow appearance-none border rounded w-full py-2 px-3 text-gray-700 leading-tight focus:outline-none focus:shadow-outline\"\n",
    "              />\n",
    "            </div>\n",
    "            <!-- Num Lab Procedures -->\n",
    "            <div class=\"mb-4\">\n",
    "              <label\n",
    "                class=\"block text-gray-700 text-sm font-bold mb-2\"\n",
    "                for=\"num_procedures\"\n",
    "                >Number of Lab Procedures</label\n",
    "              >\n",
    "              <input\n",
    "                type=\"number\"\n",
    "                id=\"num_procedures\"\n",
    "                name=\"num_procedures\"\n",
    "                value=\"59\"\n",
    "                class=\"shadow appearance-none border rounded w-full py-2 px-3 text-gray-700 leading-tight focus:outline-none focus:shadow-outline\"\n",
    "              />\n",
    "            </div>\n",
    "            <!-- Num Medications -->\n",
    "            <div class=\"mb-4\">\n",
    "              <label\n",
    "                class=\"block text-gray-700 text-sm font-bold mb-2\"\n",
    "                for=\"num_medications\"\n",
    "                >Number of Medications</label\n",
    "              >\n",
    "              <input\n",
    "                type=\"number\"\n",
    "                id=\"num_medications\"\n",
    "                name=\"num_medications\"\n",
    "                value=\"18\"\n",
    "                class=\"shadow appearance-none border rounded w-full py-2 px-3 text-gray-700 leading-tight focus:outline-none focus:shadow-outline\"\n",
    "              />\n",
    "            </div>\n",
    "\n",
    "            <!-- Number Outpatient -->\n",
    "            <div class=\"mb-4\">\n",
    "              <label\n",
    "                class=\"block text-gray-700 text-sm font-bold mb-2\"\n",
    "                for=\"number_outpatient\"\n",
    "                >Number Outpatient</label\n",
    "              >\n",
    "              <input\n",
    "                type=\"number\"\n",
    "                id=\"number_outpatient\"\n",
    "                name=\"number_outpatient\"\n",
    "                value=\"0\"\n",
    "                class=\"shadow appearance-none border rounded w-full py-2 px-3 text-gray-700 leading-tight focus:outline-none focus:shadow-outline\"\n",
    "              />\n",
    "            </div>\n",
    "\n",
    "            <!-- Number Emergency -->\n",
    "            <div class=\"mb-4\">\n",
    "              <label\n",
    "                class=\"block text-gray-700 text-sm font-bold mb-2\"\n",
    "                for=\"number_emergency\"\n",
    "                >Number Emergency</label\n",
    "              >\n",
    "              <input\n",
    "                type=\"number\"\n",
    "                id=\"number_emergency\"\n",
    "                name=\"number_emergency\"\n",
    "                value=\"0\"\n",
    "                class=\"shadow appearance-none border rounded w-full py-2 px-3 text-gray-700 leading-tight focus:outline-none focus:shadow-outline\"\n",
    "              />\n",
    "            </div>\n",
    "            <!-- Number Inpatient -->\n",
    "            <div class=\"mb-4\">\n",
    "              <label\n",
    "                class=\"block text-gray-700 text-sm font-bold mb-2\"\n",
    "                for=\"number_inpatient\"\n",
    "                >Number Inpatient</label\n",
    "              >\n",
    "              <input\n",
    "                type=\"number\"\n",
    "                id=\"number_inpatient\"\n",
    "                name=\"number_inpatient\"\n",
    "                value=\"0\"\n",
    "                class=\"shadow appearance-none border rounded w-full py-2 px-3 text-gray-700 leading-tight focus:outline-none focus:shadow-outline\"\n",
    "              />\n",
    "            </div>\n",
    "\n",
    "            <!-- Number diagnoses -->\n",
    "            <div class=\"mb-4\">\n",
    "              <label\n",
    "                class=\"block text-gray-700 text-sm font-bold mb-2\"\n",
    "                for=\"number_diagnoses\"\n",
    "                >Number of Diagnoses</label\n",
    "              >\n",
    "              <input\n",
    "                type=\"number\"\n",
    "                id=\"number_diagnoses\"\n",
    "                name=\"number_diagnoses\"\n",
    "                value=\"9\"\n",
    "                class=\"shadow appearance-none border rounded w-full py-2 px-3 text-gray-700 leading-tight focus:outline-none focus:shadow-outline\"\n",
    "              />\n",
    "            </div>\n",
    "\n",
    "            <!-- Metformin -->\n",
    "            <div class=\"mb-4\">\n",
    "              <label\n",
    "                class=\"block text-gray-700 text-sm font-bold mb-2\"\n",
    "                for=\"metformin\"\n",
    "                >Metformin</label\n",
    "              >\n",
    "              <input\n",
    "                type=\"number\"\n",
    "                id=\"metformin\"\n",
    "                name=\"metformin\"\n",
    "                value=\"0\"\n",
    "                min=\"0\"\n",
    "                max=\"1\"\n",
    "                class=\"shadow appearance-none border rounded w-full py-2 px-3 text-gray-700 leading-tight focus:outline-none focus:shadow-outline\"\n",
    "              />\n",
    "            </div>\n",
    "\n",
    "            <!-- Repaglinide -->\n",
    "            <div class=\"mb-4\">\n",
    "              <label\n",
    "                class=\"block text-gray-700 text-sm font-bold mb-2\"\n",
    "                for=\"repaglinide\"\n",
    "                >Repaglinide</label\n",
    "              >\n",
    "              <input\n",
    "                type=\"number\"\n",
    "                id=\"repaglinide\"\n",
    "                name=\"repaglinide\"\n",
    "                value=\"0\"\n",
    "                min=\"0\"\n",
    "                max=\"1\"\n",
    "                class=\"shadow appearance-none border rounded w-full py-2 px-3 text-gray-700 leading-tight focus:outline-none focus:shadow-outline\"\n",
    "              />\n",
    "            </div>\n",
    "\n",
    "            <!-- Nateglinide -->\n",
    "            <div class=\"mb-4\">\n",
    "              <label\n",
    "                class=\"block text-gray-700 text-sm font-bold mb-2\"\n",
    "                for=\"nateglinide\"\n",
    "                >Nateglinide</label\n",
    "              >\n",
    "              <input\n",
    "                type=\"number\"\n",
    "                id=\"nateglinide\"\n",
    "                name=\"nateglinide\"\n",
    "                value=\"0\"\n",
    "                min=\"0\"\n",
    "                max=\"1\"\n",
    "                class=\"shadow appearance-none border rounded w-full py-2 px-3 text-gray-700 leading-tight focus:outline-none focus:shadow-outline\"\n",
    "              />\n",
    "            </div>\n",
    "\n",
    "            <!-- Chlorpropamide -->\n",
    "            <div class=\"mb-4\">\n",
    "              <label\n",
    "                class=\"block text-gray-700 text-sm font-bold mb-2\"\n",
    "                for=\"chlorpropamide\"\n",
    "                >Chlorpropamide</label\n",
    "              >\n",
    "              <input\n",
    "                type=\"number\"\n",
    "                id=\"chlorpropamide\"\n",
    "                name=\"chlorpropamide\"\n",
    "                value=\"0\"\n",
    "                min=\"0\"\n",
    "                max=\"1\"\n",
    "                class=\"shadow appearance-none border rounded w-full py-2 px-3 text-gray-700 leading-tight focus:outline-none focus:shadow-outline\"\n",
    "              />\n",
    "            </div>\n",
    "\n",
    "            <!-- Glimepiride -->\n",
    "            <div class=\"mb-4\">\n",
    "              <label\n",
    "                class=\"block text-gray-700 text-sm font-bold mb-2\"\n",
    "                for=\"glimepiride\"\n",
    "                >Glimepiride</label\n",
    "              >\n",
    "              <input\n",
    "                type=\"number\"\n",
    "                id=\"glimepiride\"\n",
    "                name=\"glimepiride\"\n",
    "                value=\"0\"\n",
    "                min=\"0\"\n",
    "                max=\"1\"\n",
    "                class=\"shadow appearance-none border rounded w-full py-2 px-3 text-gray-700 leading-tight focus:outline-none focus:shadow-outline\"\n",
    "              />\n",
    "            </div>\n",
    "\n",
    "            <!-- Glipizide -->\n",
    "            <div class=\"mb-4\">\n",
    "              <label\n",
    "                class=\"block text-gray-700 text-sm font-bold mb-2\"\n",
    "                for=\"glipizide\"\n",
    "                >Glipizide</label\n",
    "              >\n",
    "              <input\n",
    "                type=\"number\"\n",
    "                id=\"glipizide\"\n",
    "                name=\"glipizide\"\n",
    "                value=\"0\"\n",
    "                min=\"0\"\n",
    "                max=\"1\"\n",
    "                class=\"shadow appearance-none border rounded w-full py-2 px-3 text-gray-700 leading-tight focus:outline-none focus:shadow-outline\"\n",
    "              />\n",
    "            </div>\n",
    "\n",
    "            <!-- Glyburide -->\n",
    "            <div class=\"mb-4\">\n",
    "              <label\n",
    "                class=\"block text-gray-700 text-sm font-bold mb-2\"\n",
    "                for=\"glyburide\"\n",
    "                >Glyburide</label\n",
    "              >\n",
    "              <input\n",
    "                type=\"number\"\n",
    "                id=\"glyburide\"\n",
    "                name=\"glyburide\"\n",
    "                value=\"0\"\n",
    "                min=\"0\"\n",
    "                max=\"1\"\n",
    "                class=\"shadow appearance-none border rounded w-full py-2 px-3 text-gray-700 leading-tight focus:outline-none focus:shadow-outline\"\n",
    "              />\n",
    "            </div>\n",
    "\n",
    "            <!-- Pioglitazone -->\n",
    "            <div class=\"mb-4\">\n",
    "              <label\n",
    "                class=\"block text-gray-700 text-sm font-bold mb-2\"\n",
    "                for=\"pioglitazone\"\n",
    "                >Pioglitazone</label\n",
    "              >\n",
    "              <input\n",
    "                type=\"number\"\n",
    "                id=\"pioglitazone\"\n",
    "                name=\"pioglitazone\"\n",
    "                value=\"0\"\n",
    "                min=\"0\"\n",
    "                max=\"1\"\n",
    "                class=\"shadow appearance-none border rounded w-full py-2 px-3 text-gray-700 leading-tight focus:outline-none focus:shadow-outline\"\n",
    "              />\n",
    "            </div>\n",
    "\n",
    "            <!-- Rosiglitazone -->\n",
    "            <div class=\"mb-4\">\n",
    "              <label\n",
    "                class=\"block text-gray-700 text-sm font-bold mb-2\"\n",
    "                for=\"rosiglitazone\"\n",
    "                >Rosiglitazone</label\n",
    "              >\n",
    "              <input\n",
    "                type=\"number\"\n",
    "                id=\"rosiglitazone\"\n",
    "                name=\"rosiglitazone\"\n",
    "                value=\"0\"\n",
    "                min=\"0\"\n",
    "                max=\"1\"\n",
    "                class=\"shadow appearance-none border rounded w-full py-2 px-3 text-gray-700 leading-tight focus:outline-none focus:shadow-outline\"\n",
    "              />\n",
    "            </div>\n",
    "\n",
    "            <!-- Acarbose -->\n",
    "            <div class=\"mb-4\">\n",
    "              <label\n",
    "                class=\"block text-gray-700 text-sm font-bold mb-2\"\n",
    "                for=\"acarbose\"\n",
    "                >Acarbose</label\n",
    "              >\n",
    "              <input\n",
    "                type=\"number\"\n",
    "                id=\"acarbose\"\n",
    "                name=\"acarbose\"\n",
    "                value=\"0\"\n",
    "                min=\"0\"\n",
    "                max=\"1\"\n",
    "                class=\"shadow appearance-none border rounded w-full py-2 px-3 text-gray-700 leading-tight focus:outline-none focus:shadow-outline\"\n",
    "              />\n",
    "            </div>\n",
    "\n",
    "            <!-- Tolazamide -->\n",
    "            <div class=\"mb-4\">\n",
    "              <label\n",
    "                class=\"block text-gray-700 text-sm font-bold mb-2\"\n",
    "                for=\"tolazamide\"\n",
    "                >Tolazamide</label\n",
    "              >\n",
    "              <input\n",
    "                type=\"number\"\n",
    "                id=\"tolazamide\"\n",
    "                name=\"tolazamide\"\n",
    "                value=\"0\"\n",
    "                min=\"0\"\n",
    "                max=\"1\"\n",
    "                class=\"shadow appearance-none border rounded w-full py-2 px-3 text-gray-700 leading-tight focus:outline-none focus:shadow-outline\"\n",
    "              />\n",
    "            </div>\n",
    "\n",
    "            <!-- Insulin -->\n",
    "            <div class=\"mb-4\">\n",
    "              <label\n",
    "                class=\"block text-gray-700 text-sm font-bold mb-2\"\n",
    "                for=\"insulin\"\n",
    "                >Insulin</label\n",
    "              >\n",
    "              <input\n",
    "                type=\"number\"\n",
    "                id=\"insulin\"\n",
    "                name=\"insulin\"\n",
    "                value=\"1\"\n",
    "                min=\"0\"\n",
    "                max=\"1\"\n",
    "                class=\"shadow appearance-none border rounded w-full py-2 px-3 text-gray-700 leading-tight focus:outline-none focus:shadow-outline\"\n",
    "              />\n",
    "            </div>\n",
    "\n",
    "            <!-- Glyburide-metformin -->\n",
    "            <div class=\"mb-4\">\n",
    "              <label\n",
    "                class=\"block text-gray-700 text-sm font-bold mb-2\"\n",
    "                for=\"glyburide-metformin\"\n",
    "                >Glyburide</label\n",
    "              >\n",
    "              <input\n",
    "                type=\"number\"\n",
    "                id=\"glyburide-metformin\"\n",
    "                name=\"glyburide-metformin\"\n",
    "                value=\"0\"\n",
    "                min=\"0\"\n",
    "                max=\"1\"\n",
    "                class=\"shadow appearance-none border rounded w-full py-2 px-3 text-gray-700 leading-tight focus:outline-none focus:shadow-outline\"\n",
    "              />\n",
    "            </div>\n",
    "            <!-- Gender -->\n",
    "            <div class=\"mb-4\">\n",
    "              <label\n",
    "                class=\"block text-gray-700 text-sm font-bold mb-2\"\n",
    "                for=\"gender\"\n",
    "                >Gender</label\n",
    "              >\n",
    "              <input\n",
    "                type=\"number\"\n",
    "                id=\"gender\"\n",
    "                name=\"gender\"\n",
    "                value=\"1\"\n",
    "                min=\"0\"\n",
    "                max=\"4\"\n",
    "                class=\"shadow appearance-none border rounded w-full py-2 px-3 text-gray-700 leading-tight focus:outline-none focus:shadow-outline\"\n",
    "              />\n",
    "            </div>\n",
    "            <!-- Race -->\n",
    "            <div class=\"mb-4\">\n",
    "              <label\n",
    "                class=\"block text-gray-700 text-sm font-bold mb-2\"\n",
    "                for=\"race\"\n",
    "                >Race</label\n",
    "              >\n",
    "              <input\n",
    "                type=\"number\"\n",
    "                id=\"race\"\n",
    "                name=\"race\"\n",
    "                value=\"1\"\n",
    "                min=\"0\"\n",
    "                max=\"2\"\n",
    "                class=\"shadow appearance-none border rounded w-full py-2 px-3 text-gray-700 leading-tight focus:outline-none focus:shadow-outline\"\n",
    "              />\n",
    "            </div>\n",
    "            <!-- Admission type -->\n",
    "            <div class=\"mb-4\">\n",
    "              <label\n",
    "                class=\"block text-gray-700 text-sm font-bold mb-2\"\n",
    "                for=\"admission_type_id\"\n",
    "                >Admission type</label\n",
    "              >\n",
    "              <input\n",
    "                type=\"number\"\n",
    "                id=\"admission_type_id\"\n",
    "                name=\"admission_type_id\"\n",
    "                value=\"1\"\n",
    "                min=\"0\"\n",
    "                max=\"1\"\n",
    "                class=\"shadow appearance-none border rounded w-full py-2 px-3 text-gray-700 leading-tight focus:outline-none focus:shadow-outline\"\n",
    "              />\n",
    "            </div>\n",
    "            <!-- Discharge Disposition -->\n",
    "            <div class=\"mb-4\">\n",
    "              <label\n",
    "                class=\"block text-gray-700 text-sm font-bold mb-2\"\n",
    "                for=\"discharge_disposition_id\"\n",
    "                >Discharge Disposition</label\n",
    "              >\n",
    "              <input\n",
    "                type=\"number\"\n",
    "                id=\"discharge_disposition_id\"\n",
    "                name=\"discharge_disposition_id\"\n",
    "                value=\"1\"\n",
    "                min=\"0\"\n",
    "                max=\"1\"\n",
    "                class=\"shadow appearance-none border rounded w-full py-2 px-3 text-gray-700 leading-tight focus:outline-none focus:shadow-outline\"\n",
    "              />\n",
    "            </div>\n",
    "            <!-- Admission Source -->\n",
    "            <div class=\"mb-4\">\n",
    "              <label\n",
    "                class=\"block text-gray-700 text-sm font-bold mb-2\"\n",
    "                for=\"admission_source_id\"\n",
    "                >Admission Source</label\n",
    "              >\n",
    "              <input\n",
    "                type=\"number\"\n",
    "                id=\"admission_source_id\"\n",
    "                name=\"admission_source_id\"\n",
    "                value=\"7\"\n",
    "                min=\"0\"\n",
    "                max=\"7\"\n",
    "                class=\"shadow appearance-none border rounded w-full py-2 px-3 text-gray-700 leading-tight focus:outline-none focus:shadow-outline\"\n",
    "              />\n",
    "            </div>\n",
    "            <!-- Max Glu Serum -->\n",
    "            <div class=\"mb-4\">\n",
    "              <label\n",
    "                class=\"block text-gray-700 text-sm font-bold mb-2\"\n",
    "                for=\"max_glu_serum\"\n",
    "                >Max Glu Serum</label\n",
    "              >\n",
    "              <input\n",
    "                type=\"number\"\n",
    "                id=\"max_glu_serum\"\n",
    "                name=\"max_glu_serum\"\n",
    "                value=\"-1\"\n",
    "                min=\"-1\"\n",
    "                max=\"1\"\n",
    "                class=\"shadow appearance-none border rounded w-full py-2 px-3 text-gray-700 leading-tight focus:outline-none focus:shadow-outline\"\n",
    "              />\n",
    "            </div>\n",
    "            <!-- A1Cresult -->\n",
    "            <div class=\"mb-4\">\n",
    "              <label\n",
    "                class=\"block text-gray-700 text-sm font-bold mb-2\"\n",
    "                for=\"A1Cresult\"\n",
    "                >A1Cresult</label\n",
    "              >\n",
    "              <input\n",
    "                type=\"number\"\n",
    "                id=\"A1Cresult\"\n",
    "                name=\"A1Cresult\"\n",
    "                value=\"-1\"\n",
    "                min=\"-1\"\n",
    "                max=\"1\"\n",
    "                class=\"shadow appearance-none border rounded w-full py-2 px-3 text-gray-700 leading-tight focus:outline-none focus:shadow-outline\"\n",
    "              />\n",
    "            </div>\n",
    "            <!-- Diagnosis -->\n",
    "            <div class=\"mb-4\">\n",
    "              <label\n",
    "                class=\"block text-gray-700 text-sm font-bold mb-2\"\n",
    "                for=\"diag_1\"\n",
    "                >Diagnosis</label\n",
    "              >\n",
    "              <input\n",
    "                type=\"number\"\n",
    "                id=\"diag_1\"\n",
    "                name=\"diag_1\"\n",
    "                value=\"3\"\n",
    "                min=\"1\"\n",
    "                max=\"8\"\n",
    "                class=\"shadow appearance-none border rounded w-full py-2 px-3 text-gray-700 leading-tight focus:outline-none focus:shadow-outline\"\n",
    "              />\n",
    "            </div>\n",
    "\n",
    "            <div class=\"flex items-center justify-between\">\n",
    "              <button\n",
    "                class=\"bg-blue-500 hover:bg-blue-700 text-white font-bold py-2 px-4 rounded focus:outline-none focus:shadow-outline\"\n",
    "                type=\"submit\"\n",
    "              >\n",
    "                Tester\n",
    "              </button>\n",
    "            </div>\n",
    "          </form>\n",
    "        </div>\n",
    "      </div>\n",
    "    </div>\n",
    "  </body>\n",
    "</html>\n",
    "\n",
    "\n",
    "\n",
    "\"\"\""
   ]
  },
  {
   "cell_type": "code",
   "execution_count": null,
   "metadata": {
    "id": "3vmxDyOJ5fHK"
   },
   "outputs": [],
   "source": [
    "# Check if a directory named 'template' exists, if not, create it\n",
    "template_directory = '/content/templates'\n",
    "\n",
    "# Using makedirs from os module to create the directory if it doesn't exist\n",
    "if not os.path.exists(template_directory):\n",
    "    os.makedirs(template_directory)\n",
    "\n",
    "# Write the HTML content to a file\n",
    "with open(\"templates/index.html\", \"w\") as file:\n",
    "    file.write(html_content)"
   ]
  },
  {
   "cell_type": "markdown",
   "metadata": {
    "id": "HTdeD1QX46SM"
   },
   "source": [
    "\n",
    "<div style=\"background-color: #DBEDF8; padding: 10px; border-radius: 5px;\">\n",
    "    <h4><b>Upload the modele </h4></b>\n",
    "</div>\n",
    "\n"
   ]
  },
  {
   "cell_type": "code",
   "execution_count": null,
   "metadata": {
    "id": "I4ON9FIJ6FLz"
   },
   "outputs": [],
   "source": [
    "from sklearn.preprocessing import StandardScaler\n",
    "import numpy as np\n",
    "model = joblib.load('./drive/MyDrive/modele_RF.pkl')"
   ]
  },
  {
   "cell_type": "code",
   "execution_count": null,
   "metadata": {
    "colab": {
     "base_uri": "https://localhost:8080/"
    },
    "id": "tfNKkL8Rblx3",
    "outputId": "f9e40d71-2c6e-4ff2-d5f5-1dd8cea78ae7"
   },
   "outputs": [
    {
     "data": {
      "text/plain": [
       "array([0])"
      ]
     },
     "execution_count": 270,
     "metadata": {},
     "output_type": "execute_result"
    }
   ],
   "source": [
    "ok = [20, 3, 0, 18, 0, 0, 0, 9, 0, 0, 0, 0, 0, 0, 0, 0, 0, 0, 0, 1, 0, 1, 1, 1, 1, 7, -1, -1, 3]\n",
    "\n",
    "ok_reshaped = np.array(ok).reshape(1, -1)\n",
    "\n",
    "sc = StandardScaler()\n",
    "ok_scaled = sc.fit_transform(ok_reshaped)\n",
    "\n",
    "model.predict(ok_scaled)"
   ]
  },
  {
   "cell_type": "markdown",
   "metadata": {
    "id": "ZhZCfU054elm"
   },
   "source": [
    "\n",
    "<div style=\"background-color: #DBEDF8; padding: 10px; border-radius: 5px;\">\n",
    "    <h4><b>Web App </h4></b>\n",
    "</div>\n",
    "\n"
   ]
  },
  {
   "cell_type": "code",
   "execution_count": null,
   "metadata": {
    "colab": {
     "base_uri": "https://localhost:8080/"
    },
    "id": "BlhZQfBz6OMn",
    "outputId": "af6288fc-a2a0-444a-d8f6-5c05426b80cb"
   },
   "outputs": [
    {
     "name": "stdout",
     "output_type": "stream",
     "text": [
      " * Serving Flask app '__main__'\n",
      " * Debug mode: off\n"
     ]
    },
    {
     "name": "stderr",
     "output_type": "stream",
     "text": [
      "INFO:werkzeug:\u001b[31m\u001b[1mWARNING: This is a development server. Do not use it in a production deployment. Use a production WSGI server instead.\u001b[0m\n",
      " * Running on http://127.0.0.1:5000\n",
      "INFO:werkzeug:\u001b[33mPress CTRL+C to quit\u001b[0m\n"
     ]
    },
    {
     "name": "stdout",
     "output_type": "stream",
     "text": [
      " * Running on http://1559-35-199-61-222.ngrok-free.app\n",
      " * Traffic stats available on http://127.0.0.1:4040\n"
     ]
    },
    {
     "name": "stderr",
     "output_type": "stream",
     "text": [
      "INFO:werkzeug:127.0.0.1 - - [10/Dec/2023 20:59:42] \"GET / HTTP/1.1\" 200 -\n",
      "INFO:werkzeug:127.0.0.1 - - [10/Dec/2023 20:59:53] \"POST /predict HTTP/1.1\" 200 -\n"
     ]
    },
    {
     "name": "stdout",
     "output_type": "stream",
     "text": [
      "<generator object MultiDict.values at 0x7b2bd82eb920>\n"
     ]
    }
   ],
   "source": [
    "app = Flask(__name__)\n",
    "run_with_ngrok(app)   #starts ngrok when the app is run\n",
    "\n",
    "@app.route('/')\n",
    "def home():\n",
    "    return render_template('index.html')\n",
    "\n",
    "@app.route('/predict',methods=['POST','GET'])\n",
    "def predict():\n",
    "    print(request.form.values())\n",
    "    int_features = [int(x) for x in request.form.values()]\n",
    "    final_features = [np.array(int_features)]\n",
    "\n",
    "    sc = StandardScaler()\n",
    "    final_features = sc.fit_transform(final_features)\n",
    "\n",
    "    prediction = model.predict(final_features)\n",
    "\n",
    "    output = round(prediction[0], 2)\n",
    "\n",
    "    return render_template('index.html', prediction_text='This patient must {}'.format(output))\n",
    "\n",
    "\n",
    "\n",
    "if __name__ == \"__main__\":\n",
    "    app.run()"
   ]
  }
 ],
 "metadata": {
  "colab": {
   "collapsed_sections": [
    "y7SGf1BdxtL2",
    "wUN1Xvoe1Agn",
    "BshDoUrv1VDN",
    "T2OXS7fevRwg",
    "MZuuweofvRwV",
    "Xjf4ePGWvRwh",
    "Cf4KbK7HvRwh",
    "tEheQAwwvRwh",
    "AzlOBf3ivRwh",
    "L2OVYxitJd-F",
    "shiNgSrdKnUM",
    "XZwSCPMRLLzx",
    "zuMODkxOLLzx",
    "3dJvYDJIQgp8",
    "0kQqR-Ze28mA",
    "eLA_xXNG28mA",
    "kHZgpXBw43B3",
    "sn2jZE8n28mA",
    "tgtr8SPGOEss",
    "nZ983FQWgqSj",
    "X926NRLb4lcq",
    "qERx1iIr4lcx"
   ],
   "provenance": []
  },
  "kernelspec": {
   "display_name": "Python 3",
   "language": "python",
   "name": "python3"
  },
  "language_info": {
   "codemirror_mode": {
    "name": "ipython",
    "version": 3
   },
   "file_extension": ".py",
   "mimetype": "text/x-python",
   "name": "python",
   "nbconvert_exporter": "python",
   "pygments_lexer": "ipython3",
   "version": "3.8.5"
  }
 },
 "nbformat": 4,
 "nbformat_minor": 1
}
